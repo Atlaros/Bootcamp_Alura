{
  "nbformat": 4,
  "nbformat_minor": 0,
  "metadata": {
    "colab": {
      "name": "NLP - Corrector Ortográfico.ipynb",
      "provenance": []
    },
    "kernelspec": {
      "name": "python3",
      "display_name": "Python 3"
    }
  },
  "cells": [
    {
      "cell_type": "markdown",
      "metadata": {
        "id": "UBSoG_NWYd0L"
      },
      "source": [
        "#Importar el corpus"
      ]
    },
    {
      "cell_type": "code",
      "metadata": {
        "colab": {
          "base_uri": "https://localhost:8080/"
        },
        "id": "KtXP9EkkvPr8",
        "outputId": "4a5497a5-c4f2-48b7-d689-95f7bdba2ecf"
      },
      "source": [
        "open('textos_articulos.txt','r')"
      ],
      "execution_count": 1,
      "outputs": [
        {
          "output_type": "execute_result",
          "data": {
            "text/plain": [
              "<_io.TextIOWrapper name='textos_articulos.txt' mode='r' encoding='UTF-8'>"
            ]
          },
          "metadata": {
            "tags": []
          },
          "execution_count": 1
        }
      ]
    },
    {
      "cell_type": "code",
      "metadata": {
        "colab": {
          "base_uri": "https://localhost:8080/"
        },
        "id": "OwFAMGL6wfbu",
        "outputId": "07a60f99-97d0-490c-dd2a-d42c90feada2"
      },
      "source": [
        "with open('textos_articulos.txt','r') as f:\r\n",
        "  articulos = f.read()\r\n",
        "print(articulos[:500])"
      ],
      "execution_count": 2,
      "outputs": [
        {
          "output_type": "stream",
          "text": [
            "\n",
            "\"HTTP: Diferencias entre GET y POST \"\n",
            "2020-10-21\n",
            "\"Vea las diferencias entre los métodos GET y POST de HTTP. Consulta la funcionalidad de cada uno y cuándo usarlos en la web.\"\n",
            "\"yuri-oliveira\"\n",
            "\"yuri.oliveira@alura.com.br\"\n",
            "\"front-end\"\n",
            "\n",
            "Cuando vamos a acceder a un sistema web, es bastante común pasar por una pantalla de inicio de sesión, en la que ponemos nuestras credenciales para acceder al sistema.\n",
            "Estas informaciones deben ser confidenciales, sin embargo, cuando intenté iniciar sesión en una ap\n"
          ],
          "name": "stdout"
        }
      ]
    },
    {
      "cell_type": "markdown",
      "metadata": {
        "id": "bQg0QzI4Yn7u"
      },
      "source": [
        "#Separando Palabras"
      ]
    },
    {
      "cell_type": "code",
      "metadata": {
        "colab": {
          "base_uri": "https://localhost:8080/"
        },
        "id": "-CovjhcqIXY8",
        "outputId": "cfe956d4-b26d-4dac-b8fc-3c2971edc0fb"
      },
      "source": [
        "len(articulos)"
      ],
      "execution_count": 3,
      "outputs": [
        {
          "output_type": "execute_result",
          "data": {
            "text/plain": [
              "288071"
            ]
          },
          "metadata": {
            "tags": []
          },
          "execution_count": 3
        }
      ]
    },
    {
      "cell_type": "code",
      "metadata": {
        "colab": {
          "base_uri": "https://localhost:8080/"
        },
        "id": "0PtQRTL8IaeM",
        "outputId": "0db9f41c-b1ef-447b-9d20-14a36ca5e08f"
      },
      "source": [
        "texto_ejemplo = 'hola que tal'\r\n",
        "print(len(texto_ejemplo))\r\n",
        "palabras = texto_ejemplo.split()\r\n",
        "print(len(palabras))\r\n",
        "print(palabras)"
      ],
      "execution_count": 4,
      "outputs": [
        {
          "output_type": "stream",
          "text": [
            "12\n",
            "3\n",
            "['hola', 'que', 'tal']\n"
          ],
          "name": "stdout"
        }
      ]
    },
    {
      "cell_type": "code",
      "metadata": {
        "colab": {
          "base_uri": "https://localhost:8080/"
        },
        "id": "NVd5IT5iIwpw",
        "outputId": "40cfc71e-7424-4361-a59c-8c8bb140e82e"
      },
      "source": [
        "texto_ejemplo = 'hola Christian, ¿que tal?'\r\n",
        "print(len(texto_ejemplo))\r\n",
        "tokens = texto_ejemplo.split()\r\n",
        "print(len(tokens))\r\n",
        "print(tokens)"
      ],
      "execution_count": 5,
      "outputs": [
        {
          "output_type": "stream",
          "text": [
            "25\n",
            "4\n",
            "['hola', 'Christian,', '¿que', 'tal?']\n"
          ],
          "name": "stdout"
        }
      ]
    },
    {
      "cell_type": "markdown",
      "metadata": {
        "id": "Vlb-LT1QYtLs"
      },
      "source": [
        "#Tokenización"
      ]
    },
    {
      "cell_type": "code",
      "metadata": {
        "colab": {
          "base_uri": "https://localhost:8080/"
        },
        "id": "evGhfPGsYvxJ",
        "outputId": "d6864968-f55f-464f-f4c3-a030f1669839"
      },
      "source": [
        "import nltk\r\n",
        "nltk.download('punkt')"
      ],
      "execution_count": 6,
      "outputs": [
        {
          "output_type": "stream",
          "text": [
            "[nltk_data] Downloading package punkt to /root/nltk_data...\n",
            "[nltk_data]   Package punkt is already up-to-date!\n"
          ],
          "name": "stdout"
        },
        {
          "output_type": "execute_result",
          "data": {
            "text/plain": [
              "True"
            ]
          },
          "metadata": {
            "tags": []
          },
          "execution_count": 6
        }
      ]
    },
    {
      "cell_type": "code",
      "metadata": {
        "colab": {
          "base_uri": "https://localhost:8080/"
        },
        "id": "Nhmp9KfbZFwb",
        "outputId": "b0ce3e43-31bc-4ec1-ce1d-a9775f99b7c3"
      },
      "source": [
        "palabras_separadas = nltk.tokenize.word_tokenize(texto_ejemplo)\r\n",
        "print(palabras_separadas)"
      ],
      "execution_count": 7,
      "outputs": [
        {
          "output_type": "stream",
          "text": [
            "['hola', 'Christian', ',', '¿que', 'tal', '?']\n"
          ],
          "name": "stdout"
        }
      ]
    },
    {
      "cell_type": "code",
      "metadata": {
        "id": "Q6c0wrw1ZUo0"
      },
      "source": [
        "from nltk.tokenize.toktok import ToktokTokenizer"
      ],
      "execution_count": 8,
      "outputs": []
    },
    {
      "cell_type": "code",
      "metadata": {
        "colab": {
          "base_uri": "https://localhost:8080/"
        },
        "id": "RLHIVGB-Z73B",
        "outputId": "73026734-3c63-4378-f9ab-02998032275a"
      },
      "source": [
        "toktok = ToktokTokenizer()\r\n",
        "palabras_separadas = toktok.tokenize(texto_ejemplo)\r\n",
        "print(palabras_separadas)"
      ],
      "execution_count": 9,
      "outputs": [
        {
          "output_type": "stream",
          "text": [
            "['hola', 'Christian', ',', '¿', 'que', 'tal', '?']\n"
          ],
          "name": "stdout"
        }
      ]
    },
    {
      "cell_type": "code",
      "metadata": {
        "colab": {
          "base_uri": "https://localhost:8080/"
        },
        "id": "WXXe7wh8aLgo",
        "outputId": "5342441e-c57e-4ad7-d57a-5c32ff3d02e0"
      },
      "source": [
        "len(palabras_separadas)"
      ],
      "execution_count": 10,
      "outputs": [
        {
          "output_type": "execute_result",
          "data": {
            "text/plain": [
              "7"
            ]
          },
          "metadata": {
            "tags": []
          },
          "execution_count": 10
        }
      ]
    },
    {
      "cell_type": "markdown",
      "metadata": {
        "id": "Ln7N7UEOgeWE"
      },
      "source": [
        "#Excluyendo caracteres y puntuaciones"
      ]
    },
    {
      "cell_type": "code",
      "metadata": {
        "id": "v9IYQ0i8gi52"
      },
      "source": [
        "def separa_palabras(lista_tokens):\r\n",
        "  lista_palabras = []\r\n",
        "  for token in lista_tokens:\r\n",
        "    if token.isalpha():\r\n",
        "      lista_palabras.append(token)\r\n",
        "  return lista_palabras"
      ],
      "execution_count": 11,
      "outputs": []
    },
    {
      "cell_type": "code",
      "metadata": {
        "colab": {
          "base_uri": "https://localhost:8080/"
        },
        "id": "sj5rzWUGhFS-",
        "outputId": "ac9fcc44-3b90-42e8-f04b-f615809c343d"
      },
      "source": [
        "separa_palabras(palabras_separadas)"
      ],
      "execution_count": 13,
      "outputs": [
        {
          "output_type": "execute_result",
          "data": {
            "text/plain": [
              "['hola', 'Christian', 'que', 'tal']"
            ]
          },
          "metadata": {
            "tags": []
          },
          "execution_count": 13
        }
      ]
    },
    {
      "cell_type": "markdown",
      "metadata": {
        "id": "DpMFD6Vnm6J_"
      },
      "source": [
        "#Contando palabras del Corpus"
      ]
    },
    {
      "cell_type": "code",
      "metadata": {
        "id": "3ljBZz8rm86T"
      },
      "source": [
        "palabras_separadas = toktok.tokenize(articulos)\r\n",
        "lista_palabras = separa_palabras(palabras_separadas)"
      ],
      "execution_count": 15,
      "outputs": []
    },
    {
      "cell_type": "code",
      "metadata": {
        "colab": {
          "base_uri": "https://localhost:8080/"
        },
        "id": "ytH-vc8EnN8z",
        "outputId": "2e522b05-019a-41d5-9fd2-df4192aefdfb"
      },
      "source": [
        "print(f'La cantidad de palabras en el Corpus es de: {len(lista_palabras)}')"
      ],
      "execution_count": 17,
      "outputs": [
        {
          "output_type": "stream",
          "text": [
            "La cantidad de palabras en el Corpus es de: 40052\n"
          ],
          "name": "stdout"
        }
      ]
    },
    {
      "cell_type": "code",
      "metadata": {
        "colab": {
          "base_uri": "https://localhost:8080/"
        },
        "id": "FPa6ynT5nmc_",
        "outputId": "810f4991-2faa-4d20-8e86-84c3918ff350"
      },
      "source": [
        "lista_palabras[:20]"
      ],
      "execution_count": 18,
      "outputs": [
        {
          "output_type": "execute_result",
          "data": {
            "text/plain": [
              "['HTTP',\n",
              " 'Diferencias',\n",
              " 'entre',\n",
              " 'GET',\n",
              " 'y',\n",
              " 'POST',\n",
              " 'Vea',\n",
              " 'las',\n",
              " 'diferencias',\n",
              " 'entre',\n",
              " 'los',\n",
              " 'métodos',\n",
              " 'GET',\n",
              " 'y',\n",
              " 'POST',\n",
              " 'de',\n",
              " 'Consulta',\n",
              " 'la',\n",
              " 'funcionalidad',\n",
              " 'de']"
            ]
          },
          "metadata": {
            "tags": []
          },
          "execution_count": 18
        }
      ]
    },
    {
      "cell_type": "markdown",
      "metadata": {
        "id": "xaonhxrKuvcd"
      },
      "source": [
        "#Normalizando y eliminando duplicados"
      ]
    },
    {
      "cell_type": "code",
      "metadata": {
        "id": "SjqV9d5quy78"
      },
      "source": [
        "def normalizar(lista_palabras):\r\n",
        "  lista_normalizada = []\r\n",
        "  for palabra in lista_palabras:\r\n",
        "    lista_normalizada.append(palabra.lower())\r\n",
        "  return lista_normalizada"
      ],
      "execution_count": 29,
      "outputs": []
    },
    {
      "cell_type": "code",
      "metadata": {
        "colab": {
          "base_uri": "https://localhost:8080/"
        },
        "id": "q8uY9uTXvNWy",
        "outputId": "aa034667-5842-4b1e-82cb-f9922da0f934"
      },
      "source": [
        "palabras_normalizadas = normalizar(lista_palabras)\r\n",
        "print(palabras_normalizadas[:20])"
      ],
      "execution_count": 30,
      "outputs": [
        {
          "output_type": "stream",
          "text": [
            "['http', 'diferencias', 'entre', 'get', 'y', 'post', 'vea', 'las', 'diferencias', 'entre', 'los', 'métodos', 'get', 'y', 'post', 'de', 'consulta', 'la', 'funcionalidad', 'de']\n"
          ],
          "name": "stdout"
        }
      ]
    },
    {
      "cell_type": "code",
      "metadata": {
        "colab": {
          "base_uri": "https://localhost:8080/"
        },
        "id": "d5CalVJhvXB4",
        "outputId": "4e1f19e3-d9d9-4752-8c36-948aeac56428"
      },
      "source": [
        "palabras_unicas = set(palabras_normalizadas)\r\n",
        "print(len(palabras_unicas))"
      ],
      "execution_count": 32,
      "outputs": [
        {
          "output_type": "stream",
          "text": [
            "5101\n"
          ],
          "name": "stdout"
        }
      ]
    }
  ]
}