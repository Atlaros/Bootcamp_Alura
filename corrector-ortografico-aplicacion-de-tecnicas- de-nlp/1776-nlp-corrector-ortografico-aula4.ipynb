{
  "nbformat": 4,
  "nbformat_minor": 0,
  "metadata": {
    "colab": {
      "name": "NLP - Corrector Ortográfico.ipynb",
      "provenance": [],
      "toc_visible": true
    },
    "kernelspec": {
      "name": "python3",
      "display_name": "Python 3"
    }
  },
  "cells": [
    {
      "cell_type": "markdown",
      "metadata": {
        "id": "UBSoG_NWYd0L"
      },
      "source": [
        "#Importar el corpus"
      ]
    },
    {
      "cell_type": "code",
      "metadata": {
        "colab": {
          "base_uri": "https://localhost:8080/"
        },
        "id": "KtXP9EkkvPr8",
        "outputId": "69b05805-526e-43f9-9f12-dab2e975dea0"
      },
      "source": [
        "open('textos_articulos.txt','r')"
      ],
      "execution_count": 1,
      "outputs": [
        {
          "output_type": "execute_result",
          "data": {
            "text/plain": [
              "<_io.TextIOWrapper name='textos_articulos.txt' mode='r' encoding='UTF-8'>"
            ]
          },
          "metadata": {
            "tags": []
          },
          "execution_count": 1
        }
      ]
    },
    {
      "cell_type": "code",
      "metadata": {
        "colab": {
          "base_uri": "https://localhost:8080/"
        },
        "id": "OwFAMGL6wfbu",
        "outputId": "62430e6c-cd55-43a8-dc25-999cfdeffadb"
      },
      "source": [
        "with open('textos_articulos.txt','r') as f:\r\n",
        "  articulos = f.read()\r\n",
        "print(articulos[:500])"
      ],
      "execution_count": 2,
      "outputs": [
        {
          "output_type": "stream",
          "text": [
            "\n",
            "\"HTTP: Diferencias entre GET y POST \"\n",
            "2020-10-21\n",
            "\"Vea las diferencias entre los métodos GET y POST de HTTP. Consulta la funcionalidad de cada uno y cuándo usarlos en la web.\"\n",
            "\"yuri-oliveira\"\n",
            "\"yuri.oliveira@alura.com.br\"\n",
            "\"front-end\"\n",
            "\n",
            "Cuando vamos a acceder a un sistema web, es bastante común pasar por una pantalla de inicio de sesión, en la que ponemos nuestras credenciales para acceder al sistema.\n",
            "Estas informaciones deben ser confidenciales, sin embargo, cuando intenté iniciar sesión en una ap\n"
          ],
          "name": "stdout"
        }
      ]
    },
    {
      "cell_type": "markdown",
      "metadata": {
        "id": "bQg0QzI4Yn7u"
      },
      "source": [
        "#Separando Palabras"
      ]
    },
    {
      "cell_type": "code",
      "metadata": {
        "colab": {
          "base_uri": "https://localhost:8080/"
        },
        "id": "-CovjhcqIXY8",
        "outputId": "4f7dbaba-1ae0-4852-8fc2-3bd44507ff38"
      },
      "source": [
        "len(articulos)"
      ],
      "execution_count": 3,
      "outputs": [
        {
          "output_type": "execute_result",
          "data": {
            "text/plain": [
              "288071"
            ]
          },
          "metadata": {
            "tags": []
          },
          "execution_count": 3
        }
      ]
    },
    {
      "cell_type": "code",
      "metadata": {
        "colab": {
          "base_uri": "https://localhost:8080/"
        },
        "id": "0PtQRTL8IaeM",
        "outputId": "e5a86080-1c14-4782-9ecb-8c778474490b"
      },
      "source": [
        "texto_ejemplo = 'hola que tal'\r\n",
        "print(len(texto_ejemplo))\r\n",
        "palabras = texto_ejemplo.split()\r\n",
        "print(len(palabras))\r\n",
        "print(palabras)"
      ],
      "execution_count": 4,
      "outputs": [
        {
          "output_type": "stream",
          "text": [
            "12\n",
            "3\n",
            "['hola', 'que', 'tal']\n"
          ],
          "name": "stdout"
        }
      ]
    },
    {
      "cell_type": "code",
      "metadata": {
        "colab": {
          "base_uri": "https://localhost:8080/"
        },
        "id": "NVd5IT5iIwpw",
        "outputId": "c7de2379-31e8-4da3-950c-354a74f3110b"
      },
      "source": [
        "texto_ejemplo = 'hola Christian, ¿que tal?'\r\n",
        "print(len(texto_ejemplo))\r\n",
        "tokens = texto_ejemplo.split()\r\n",
        "print(len(tokens))\r\n",
        "print(tokens)"
      ],
      "execution_count": 5,
      "outputs": [
        {
          "output_type": "stream",
          "text": [
            "25\n",
            "4\n",
            "['hola', 'Christian,', '¿que', 'tal?']\n"
          ],
          "name": "stdout"
        }
      ]
    },
    {
      "cell_type": "markdown",
      "metadata": {
        "id": "Vlb-LT1QYtLs"
      },
      "source": [
        "#Tokenización"
      ]
    },
    {
      "cell_type": "code",
      "metadata": {
        "colab": {
          "base_uri": "https://localhost:8080/"
        },
        "id": "evGhfPGsYvxJ",
        "outputId": "14c0af2f-92d1-4133-a77a-f3e4f6ec8965"
      },
      "source": [
        "import nltk\r\n",
        "nltk.download('punkt')"
      ],
      "execution_count": 6,
      "outputs": [
        {
          "output_type": "stream",
          "text": [
            "[nltk_data] Downloading package punkt to /root/nltk_data...\n",
            "[nltk_data]   Package punkt is already up-to-date!\n"
          ],
          "name": "stdout"
        },
        {
          "output_type": "execute_result",
          "data": {
            "text/plain": [
              "True"
            ]
          },
          "metadata": {
            "tags": []
          },
          "execution_count": 6
        }
      ]
    },
    {
      "cell_type": "code",
      "metadata": {
        "colab": {
          "base_uri": "https://localhost:8080/"
        },
        "id": "Nhmp9KfbZFwb",
        "outputId": "c3698a2f-96a8-4292-890d-391089e7c00f"
      },
      "source": [
        "palabras_separadas = nltk.tokenize.word_tokenize(texto_ejemplo)\r\n",
        "print(palabras_separadas)"
      ],
      "execution_count": 7,
      "outputs": [
        {
          "output_type": "stream",
          "text": [
            "['hola', 'Christian', ',', '¿que', 'tal', '?']\n"
          ],
          "name": "stdout"
        }
      ]
    },
    {
      "cell_type": "code",
      "metadata": {
        "id": "Q6c0wrw1ZUo0"
      },
      "source": [
        "from nltk.tokenize.toktok import ToktokTokenizer"
      ],
      "execution_count": 8,
      "outputs": []
    },
    {
      "cell_type": "code",
      "metadata": {
        "colab": {
          "base_uri": "https://localhost:8080/"
        },
        "id": "RLHIVGB-Z73B",
        "outputId": "81333f84-8d10-471f-9445-10c88740485b"
      },
      "source": [
        "toktok = ToktokTokenizer()\r\n",
        "palabras_separadas = toktok.tokenize(texto_ejemplo)\r\n",
        "print(palabras_separadas)"
      ],
      "execution_count": 9,
      "outputs": [
        {
          "output_type": "stream",
          "text": [
            "['hola', 'Christian', ',', '¿', 'que', 'tal', '?']\n"
          ],
          "name": "stdout"
        }
      ]
    },
    {
      "cell_type": "code",
      "metadata": {
        "colab": {
          "base_uri": "https://localhost:8080/"
        },
        "id": "WXXe7wh8aLgo",
        "outputId": "aa069e08-aacb-429f-ccee-d30bb8a11e4f"
      },
      "source": [
        "len(palabras_separadas)"
      ],
      "execution_count": 10,
      "outputs": [
        {
          "output_type": "execute_result",
          "data": {
            "text/plain": [
              "7"
            ]
          },
          "metadata": {
            "tags": []
          },
          "execution_count": 10
        }
      ]
    },
    {
      "cell_type": "markdown",
      "metadata": {
        "id": "Ln7N7UEOgeWE"
      },
      "source": [
        "#Excluyendo caracteres y puntuaciones"
      ]
    },
    {
      "cell_type": "code",
      "metadata": {
        "id": "v9IYQ0i8gi52"
      },
      "source": [
        "def separa_palabras(lista_tokens):\r\n",
        "  lista_palabras = []\r\n",
        "  for token in lista_tokens:\r\n",
        "    if token.isalpha():\r\n",
        "      lista_palabras.append(token)\r\n",
        "  return lista_palabras"
      ],
      "execution_count": 11,
      "outputs": []
    },
    {
      "cell_type": "code",
      "metadata": {
        "colab": {
          "base_uri": "https://localhost:8080/"
        },
        "id": "sj5rzWUGhFS-",
        "outputId": "e49b8295-139f-472a-ffdd-b42890aa0707"
      },
      "source": [
        "separa_palabras(palabras_separadas)"
      ],
      "execution_count": 12,
      "outputs": [
        {
          "output_type": "execute_result",
          "data": {
            "text/plain": [
              "['hola', 'Christian', 'que', 'tal']"
            ]
          },
          "metadata": {
            "tags": []
          },
          "execution_count": 12
        }
      ]
    },
    {
      "cell_type": "markdown",
      "metadata": {
        "id": "DpMFD6Vnm6J_"
      },
      "source": [
        "#Contando palabras del Corpus"
      ]
    },
    {
      "cell_type": "code",
      "metadata": {
        "id": "3ljBZz8rm86T"
      },
      "source": [
        "palabras_separadas = toktok.tokenize(articulos)\r\n",
        "lista_palabras = separa_palabras(palabras_separadas)"
      ],
      "execution_count": 13,
      "outputs": []
    },
    {
      "cell_type": "code",
      "metadata": {
        "colab": {
          "base_uri": "https://localhost:8080/"
        },
        "id": "ytH-vc8EnN8z",
        "outputId": "688464ff-cbbe-4904-847f-1972d9c12db8"
      },
      "source": [
        "print(f'La cantidad de palabras en el Corpus es de: {len(lista_palabras)}')"
      ],
      "execution_count": 14,
      "outputs": [
        {
          "output_type": "stream",
          "text": [
            "La cantidad de palabras en el Corpus es de: 40052\n"
          ],
          "name": "stdout"
        }
      ]
    },
    {
      "cell_type": "code",
      "metadata": {
        "colab": {
          "base_uri": "https://localhost:8080/"
        },
        "id": "FPa6ynT5nmc_",
        "outputId": "0e7470f8-2852-4c96-f889-924117fe6d0e"
      },
      "source": [
        "lista_palabras[:20]"
      ],
      "execution_count": 15,
      "outputs": [
        {
          "output_type": "execute_result",
          "data": {
            "text/plain": [
              "['HTTP',\n",
              " 'Diferencias',\n",
              " 'entre',\n",
              " 'GET',\n",
              " 'y',\n",
              " 'POST',\n",
              " 'Vea',\n",
              " 'las',\n",
              " 'diferencias',\n",
              " 'entre',\n",
              " 'los',\n",
              " 'métodos',\n",
              " 'GET',\n",
              " 'y',\n",
              " 'POST',\n",
              " 'de',\n",
              " 'Consulta',\n",
              " 'la',\n",
              " 'funcionalidad',\n",
              " 'de']"
            ]
          },
          "metadata": {
            "tags": []
          },
          "execution_count": 15
        }
      ]
    },
    {
      "cell_type": "markdown",
      "metadata": {
        "id": "xaonhxrKuvcd"
      },
      "source": [
        "#Normalizando y eliminando duplicados"
      ]
    },
    {
      "cell_type": "code",
      "metadata": {
        "id": "SjqV9d5quy78"
      },
      "source": [
        "def normalizar(lista_palabras):\r\n",
        "  lista_normalizada = []\r\n",
        "  for palabra in lista_palabras:\r\n",
        "    lista_normalizada.append(palabra.lower())\r\n",
        "  return lista_normalizada"
      ],
      "execution_count": 16,
      "outputs": []
    },
    {
      "cell_type": "code",
      "metadata": {
        "colab": {
          "base_uri": "https://localhost:8080/"
        },
        "id": "q8uY9uTXvNWy",
        "outputId": "d61426cf-5ada-420c-a901-e6686cfc3221"
      },
      "source": [
        "palabras_normalizadas = normalizar(lista_palabras)\r\n",
        "print(palabras_normalizadas[:20])"
      ],
      "execution_count": 17,
      "outputs": [
        {
          "output_type": "stream",
          "text": [
            "['http', 'diferencias', 'entre', 'get', 'y', 'post', 'vea', 'las', 'diferencias', 'entre', 'los', 'métodos', 'get', 'y', 'post', 'de', 'consulta', 'la', 'funcionalidad', 'de']\n"
          ],
          "name": "stdout"
        }
      ]
    },
    {
      "cell_type": "code",
      "metadata": {
        "colab": {
          "base_uri": "https://localhost:8080/"
        },
        "id": "d5CalVJhvXB4",
        "outputId": "443ea532-88aa-4b59-e45a-fee6c663e833"
      },
      "source": [
        "palabras_unicas = set(palabras_normalizadas)\r\n",
        "print(len(palabras_unicas))"
      ],
      "execution_count": 18,
      "outputs": [
        {
          "output_type": "stream",
          "text": [
            "5101\n"
          ],
          "name": "stdout"
        }
      ]
    },
    {
      "cell_type": "markdown",
      "metadata": {
        "id": "abL9ybuOK1md"
      },
      "source": [
        "#Operación de Adición"
      ]
    },
    {
      "cell_type": "code",
      "metadata": {
        "id": "iohpCcggK59A"
      },
      "source": [
        "def adicionar_letras(partes):\r\n",
        "  letras = 'abcdefghijklmnñopqrstuvwxyzáéíóú'\r\n",
        "  nuevas_palabras = []\r\n",
        "  for I,D in partes:\r\n",
        "    for letra in letras:\r\n",
        "      nuevas_palabras.append(I + letra + D)\r\n",
        "  return nuevas_palabras\r\n",
        "\r\n",
        "def generar_palabras(palabra):\r\n",
        "  partes = []\r\n",
        "  for i in range(len(palabra)+1):\r\n",
        "    partes.append((palabra[:i],palabra[i:]))\r\n",
        "  palabras_generadas = adicionar_letras(partes)\r\n",
        "  return palabras_generadas\r\n",
        "\r\n"
      ],
      "execution_count": 19,
      "outputs": []
    },
    {
      "cell_type": "code",
      "metadata": {
        "colab": {
          "base_uri": "https://localhost:8080/"
        },
        "id": "L0LlpYTMPCZH",
        "outputId": "66386e4a-f47f-4e2e-c869-e27415d65200"
      },
      "source": [
        "palabra = 'lgica'\r\n",
        "palabras_generadas = generar_palabras(palabra)\r\n",
        "print(palabras_generadas)"
      ],
      "execution_count": 20,
      "outputs": [
        {
          "output_type": "stream",
          "text": [
            "['algica', 'blgica', 'clgica', 'dlgica', 'elgica', 'flgica', 'glgica', 'hlgica', 'ilgica', 'jlgica', 'klgica', 'llgica', 'mlgica', 'nlgica', 'ñlgica', 'olgica', 'plgica', 'qlgica', 'rlgica', 'slgica', 'tlgica', 'ulgica', 'vlgica', 'wlgica', 'xlgica', 'ylgica', 'zlgica', 'álgica', 'élgica', 'ílgica', 'ólgica', 'úlgica', 'lagica', 'lbgica', 'lcgica', 'ldgica', 'legica', 'lfgica', 'lggica', 'lhgica', 'ligica', 'ljgica', 'lkgica', 'llgica', 'lmgica', 'lngica', 'lñgica', 'logica', 'lpgica', 'lqgica', 'lrgica', 'lsgica', 'ltgica', 'lugica', 'lvgica', 'lwgica', 'lxgica', 'lygica', 'lzgica', 'lágica', 'légica', 'lígica', 'lógica', 'lúgica', 'lgaica', 'lgbica', 'lgcica', 'lgdica', 'lgeica', 'lgfica', 'lggica', 'lghica', 'lgiica', 'lgjica', 'lgkica', 'lglica', 'lgmica', 'lgnica', 'lgñica', 'lgoica', 'lgpica', 'lgqica', 'lgrica', 'lgsica', 'lgtica', 'lguica', 'lgvica', 'lgwica', 'lgxica', 'lgyica', 'lgzica', 'lgáica', 'lgéica', 'lgíica', 'lgóica', 'lgúica', 'lgiaca', 'lgibca', 'lgicca', 'lgidca', 'lgieca', 'lgifca', 'lgigca', 'lgihca', 'lgiica', 'lgijca', 'lgikca', 'lgilca', 'lgimca', 'lginca', 'lgiñca', 'lgioca', 'lgipca', 'lgiqca', 'lgirca', 'lgisca', 'lgitca', 'lgiuca', 'lgivca', 'lgiwca', 'lgixca', 'lgiyca', 'lgizca', 'lgiáca', 'lgiéca', 'lgiíca', 'lgióca', 'lgiúca', 'lgicaa', 'lgicba', 'lgicca', 'lgicda', 'lgicea', 'lgicfa', 'lgicga', 'lgicha', 'lgicia', 'lgicja', 'lgicka', 'lgicla', 'lgicma', 'lgicna', 'lgicña', 'lgicoa', 'lgicpa', 'lgicqa', 'lgicra', 'lgicsa', 'lgicta', 'lgicua', 'lgicva', 'lgicwa', 'lgicxa', 'lgicya', 'lgicza', 'lgicáa', 'lgicéa', 'lgicía', 'lgicóa', 'lgicúa', 'lgicaa', 'lgicab', 'lgicac', 'lgicad', 'lgicae', 'lgicaf', 'lgicag', 'lgicah', 'lgicai', 'lgicaj', 'lgicak', 'lgical', 'lgicam', 'lgican', 'lgicañ', 'lgicao', 'lgicap', 'lgicaq', 'lgicar', 'lgicas', 'lgicat', 'lgicau', 'lgicav', 'lgicaw', 'lgicax', 'lgicay', 'lgicaz', 'lgicaá', 'lgicaé', 'lgicaí', 'lgicaó', 'lgicaú']\n"
          ],
          "name": "stdout"
        }
      ]
    },
    {
      "cell_type": "markdown",
      "metadata": {
        "id": "IrntrTaisK9a"
      },
      "source": [
        "#Corrector"
      ]
    },
    {
      "cell_type": "code",
      "metadata": {
        "id": "Ah778vMYZ8IQ"
      },
      "source": [
        "def corrector(palabra):\r\n",
        "  palabras_generadas = generar_palabras(palabra)\r\n",
        "  palabra_corregida = max(palabras_generadas, key=probabilidad)\r\n",
        "  return palabra_corregida"
      ],
      "execution_count": 21,
      "outputs": []
    },
    {
      "cell_type": "code",
      "metadata": {
        "colab": {
          "base_uri": "https://localhost:8080/"
        },
        "id": "0cr9jNhwsiCh",
        "outputId": "9248f55e-adf3-4641-b883-58c6f27d065a"
      },
      "source": [
        "frecuencia = nltk.FreqDist(palabras_normalizadas)\r\n",
        "frecuencia.most_common(10)\r\n",
        "total_palabras = len(palabras_normalizadas)"
      ],
      "execution_count": 28,
      "outputs": [
        {
          "output_type": "stream",
          "text": [
            "40052\n"
          ],
          "name": "stdout"
        }
      ]
    },
    {
      "cell_type": "code",
      "metadata": {
        "id": "m4TbEND6sNzC"
      },
      "source": [
        "def probabilidad(palabra_generada):\r\n",
        "  return frecuencia[palabra_generada]/total_palabras "
      ],
      "execution_count": 29,
      "outputs": []
    },
    {
      "cell_type": "code",
      "metadata": {
        "colab": {
          "base_uri": "https://localhost:8080/",
          "height": 35
        },
        "id": "La4bLA-1tev9",
        "outputId": "0d003bef-415a-4728-fb7e-5c285ed7fbe3"
      },
      "source": [
        "corrector('lógia')"
      ],
      "execution_count": 32,
      "outputs": [
        {
          "output_type": "execute_result",
          "data": {
            "application/vnd.google.colaboratory.intrinsic+json": {
              "type": "string"
            },
            "text/plain": [
              "'lógica'"
            ]
          },
          "metadata": {
            "tags": []
          },
          "execution_count": 32
        }
      ]
    },
    {
      "cell_type": "markdown",
      "metadata": {
        "id": "ozlJdJaXz6VZ"
      },
      "source": [
        "#Evaluador"
      ]
    },
    {
      "cell_type": "code",
      "metadata": {
        "id": "R8qnEO5Y0I5f"
      },
      "source": [
        "def crear_datos_prueba(nombre_archivo):\r\n",
        "  lista_pruebas = []\r\n",
        "  f = open(nombre_archivo, 'r')\r\n",
        "  for fila in f:\r\n",
        "    palabra_correcta,palabra_incorrecta = fila.split()\r\n",
        "    lista_pruebas.append((palabra_correcta,palabra_incorrecta))\r\n",
        "  f.close()\r\n",
        "  return lista_pruebas\r\n",
        "\r\n",
        "lista_pruebas = crear_datos_prueba('palabras_pruebas.txt')\r\n"
      ],
      "execution_count": 35,
      "outputs": []
    },
    {
      "cell_type": "code",
      "metadata": {
        "colab": {
          "base_uri": "https://localhost:8080/"
        },
        "id": "y2GnAjQpz7-Z",
        "outputId": "25ed725d-8d52-4747-ca27-6eefd53a305c"
      },
      "source": [
        "def evaluador(pruebas):\r\n",
        "  numero_palabras = len(pruebas)\r\n",
        "  aciertos = 0\r\n",
        "  for palabra_correcta, palabra_incorrecta in pruebas:\r\n",
        "    palabra_corregida = corrector(palabra_incorrecta)\r\n",
        "    if palabra_corregida == palabra_correcta:\r\n",
        "      aciertos +=1\r\n",
        "  tasa_acierto = round(aciertos*100/numero_palabras,2)\r\n",
        "  print(f\"La tasa de acierto es: {tasa_acierto}% de {numero_palabras} palabras\")\r\n",
        "\r\n",
        "evaluador(lista_pruebas)"
      ],
      "execution_count": 38,
      "outputs": [
        {
          "output_type": "stream",
          "text": [
            "La tasa de acierto es: 5.14% de 175 palabras\n"
          ],
          "name": "stdout"
        }
      ]
    }
  ]
}