{
  "nbformat": 4,
  "nbformat_minor": 0,
  "metadata": {
    "colab": {
      "name": "NLP - Corrector Ortográfico.ipynb",
      "provenance": [],
      "toc_visible": true
    },
    "kernelspec": {
      "name": "python3",
      "display_name": "Python 3"
    }
  },
  "cells": [
    {
      "cell_type": "markdown",
      "metadata": {
        "id": "UBSoG_NWYd0L"
      },
      "source": [
        "#Importar el corpus"
      ]
    },
    {
      "cell_type": "code",
      "metadata": {
        "colab": {
          "base_uri": "https://localhost:8080/"
        },
        "id": "KtXP9EkkvPr8",
        "outputId": "0f934d6e-e3e6-4ff0-80c7-fa6626e1dc3b"
      },
      "source": [
        "open('textos_articulos.txt','r')"
      ],
      "execution_count": 1,
      "outputs": [
        {
          "output_type": "execute_result",
          "data": {
            "text/plain": [
              "<_io.TextIOWrapper name='textos_articulos.txt' mode='r' encoding='UTF-8'>"
            ]
          },
          "metadata": {
            "tags": []
          },
          "execution_count": 1
        }
      ]
    },
    {
      "cell_type": "code",
      "metadata": {
        "colab": {
          "base_uri": "https://localhost:8080/"
        },
        "id": "OwFAMGL6wfbu",
        "outputId": "80517a6d-1e48-49f2-bdc6-4b0d7d622982"
      },
      "source": [
        "with open('textos_articulos.txt','r') as f:\r\n",
        "  articulos = f.read()\r\n",
        "print(articulos[:500])"
      ],
      "execution_count": 2,
      "outputs": [
        {
          "output_type": "stream",
          "text": [
            "\n",
            "\"HTTP: Diferencias entre GET y POST \"\n",
            "2020-10-21\n",
            "\"Vea las diferencias entre los métodos GET y POST de HTTP. Consulta la funcionalidad de cada uno y cuándo usarlos en la web.\"\n",
            "\"yuri-oliveira\"\n",
            "\"yuri.oliveira@alura.com.br\"\n",
            "\"front-end\"\n",
            "\n",
            "Cuando vamos a acceder a un sistema web, es bastante común pasar por una pantalla de inicio de sesión, en la que ponemos nuestras credenciales para acceder al sistema.\n",
            "Estas informaciones deben ser confidenciales, sin embargo, cuando intenté iniciar sesión en una ap\n"
          ],
          "name": "stdout"
        }
      ]
    },
    {
      "cell_type": "markdown",
      "metadata": {
        "id": "bQg0QzI4Yn7u"
      },
      "source": [
        "#Separando Palabras"
      ]
    },
    {
      "cell_type": "code",
      "metadata": {
        "colab": {
          "base_uri": "https://localhost:8080/"
        },
        "id": "-CovjhcqIXY8",
        "outputId": "3187ae56-5759-4055-b7b7-8347a7d0e0b8"
      },
      "source": [
        "len(articulos)"
      ],
      "execution_count": 3,
      "outputs": [
        {
          "output_type": "execute_result",
          "data": {
            "text/plain": [
              "288071"
            ]
          },
          "metadata": {
            "tags": []
          },
          "execution_count": 3
        }
      ]
    },
    {
      "cell_type": "code",
      "metadata": {
        "colab": {
          "base_uri": "https://localhost:8080/"
        },
        "id": "0PtQRTL8IaeM",
        "outputId": "453133a5-94b8-43ac-f921-1a8b9b5c3942"
      },
      "source": [
        "texto_ejemplo = 'hola que tal'\r\n",
        "print(len(texto_ejemplo))\r\n",
        "palabras = texto_ejemplo.split()\r\n",
        "print(len(palabras))\r\n",
        "print(palabras)"
      ],
      "execution_count": 4,
      "outputs": [
        {
          "output_type": "stream",
          "text": [
            "12\n",
            "3\n",
            "['hola', 'que', 'tal']\n"
          ],
          "name": "stdout"
        }
      ]
    },
    {
      "cell_type": "code",
      "metadata": {
        "colab": {
          "base_uri": "https://localhost:8080/"
        },
        "id": "NVd5IT5iIwpw",
        "outputId": "325c11d1-ab3b-4fc8-b4b0-12e4b89339c7"
      },
      "source": [
        "texto_ejemplo = 'hola Christian, ¿que tal?'\r\n",
        "print(len(texto_ejemplo))\r\n",
        "tokens = texto_ejemplo.split()\r\n",
        "print(len(tokens))\r\n",
        "print(tokens)"
      ],
      "execution_count": 5,
      "outputs": [
        {
          "output_type": "stream",
          "text": [
            "25\n",
            "4\n",
            "['hola', 'Christian,', '¿que', 'tal?']\n"
          ],
          "name": "stdout"
        }
      ]
    },
    {
      "cell_type": "markdown",
      "metadata": {
        "id": "Vlb-LT1QYtLs"
      },
      "source": [
        "#Tokenización"
      ]
    },
    {
      "cell_type": "code",
      "metadata": {
        "colab": {
          "base_uri": "https://localhost:8080/"
        },
        "id": "evGhfPGsYvxJ",
        "outputId": "9e7cd7c6-d33e-4ffc-ce69-2d5915ca3093"
      },
      "source": [
        "import nltk\r\n",
        "nltk.download('punkt')"
      ],
      "execution_count": 6,
      "outputs": [
        {
          "output_type": "stream",
          "text": [
            "[nltk_data] Downloading package punkt to /root/nltk_data...\n",
            "[nltk_data]   Package punkt is already up-to-date!\n"
          ],
          "name": "stdout"
        },
        {
          "output_type": "execute_result",
          "data": {
            "text/plain": [
              "True"
            ]
          },
          "metadata": {
            "tags": []
          },
          "execution_count": 6
        }
      ]
    },
    {
      "cell_type": "code",
      "metadata": {
        "colab": {
          "base_uri": "https://localhost:8080/"
        },
        "id": "Nhmp9KfbZFwb",
        "outputId": "2872b5ce-9cb7-40ff-ae62-1cdab886c5c8"
      },
      "source": [
        "palabras_separadas = nltk.tokenize.word_tokenize(texto_ejemplo)\r\n",
        "print(palabras_separadas)"
      ],
      "execution_count": 7,
      "outputs": [
        {
          "output_type": "stream",
          "text": [
            "['hola', 'Christian', ',', '¿que', 'tal', '?']\n"
          ],
          "name": "stdout"
        }
      ]
    },
    {
      "cell_type": "code",
      "metadata": {
        "id": "Q6c0wrw1ZUo0"
      },
      "source": [
        "from nltk.tokenize.toktok import ToktokTokenizer"
      ],
      "execution_count": 8,
      "outputs": []
    },
    {
      "cell_type": "code",
      "metadata": {
        "colab": {
          "base_uri": "https://localhost:8080/"
        },
        "id": "RLHIVGB-Z73B",
        "outputId": "1a7eaaea-8ea6-4dd8-bc1d-1b6be504cffa"
      },
      "source": [
        "toktok = ToktokTokenizer()\r\n",
        "palabras_separadas = toktok.tokenize(texto_ejemplo)\r\n",
        "print(palabras_separadas)"
      ],
      "execution_count": 9,
      "outputs": [
        {
          "output_type": "stream",
          "text": [
            "['hola', 'Christian', ',', '¿', 'que', 'tal', '?']\n"
          ],
          "name": "stdout"
        }
      ]
    },
    {
      "cell_type": "code",
      "metadata": {
        "colab": {
          "base_uri": "https://localhost:8080/"
        },
        "id": "WXXe7wh8aLgo",
        "outputId": "22ccea74-b663-4295-d9fa-0d1f2bd259e2"
      },
      "source": [
        "len(palabras_separadas)"
      ],
      "execution_count": 10,
      "outputs": [
        {
          "output_type": "execute_result",
          "data": {
            "text/plain": [
              "7"
            ]
          },
          "metadata": {
            "tags": []
          },
          "execution_count": 10
        }
      ]
    },
    {
      "cell_type": "markdown",
      "metadata": {
        "id": "Ln7N7UEOgeWE"
      },
      "source": [
        "#Excluyendo caracteres y puntuaciones"
      ]
    },
    {
      "cell_type": "code",
      "metadata": {
        "id": "v9IYQ0i8gi52"
      },
      "source": [
        "def separa_palabras(lista_tokens):\r\n",
        "  lista_palabras = []\r\n",
        "  for token in lista_tokens:\r\n",
        "    if token.isalpha():\r\n",
        "      lista_palabras.append(token)\r\n",
        "  return lista_palabras"
      ],
      "execution_count": 11,
      "outputs": []
    },
    {
      "cell_type": "code",
      "metadata": {
        "colab": {
          "base_uri": "https://localhost:8080/"
        },
        "id": "sj5rzWUGhFS-",
        "outputId": "03a81f96-f84c-467a-a640-033b4089f28e"
      },
      "source": [
        "separa_palabras(palabras_separadas)"
      ],
      "execution_count": 12,
      "outputs": [
        {
          "output_type": "execute_result",
          "data": {
            "text/plain": [
              "['hola', 'Christian', 'que', 'tal']"
            ]
          },
          "metadata": {
            "tags": []
          },
          "execution_count": 12
        }
      ]
    },
    {
      "cell_type": "markdown",
      "metadata": {
        "id": "DpMFD6Vnm6J_"
      },
      "source": [
        "#Contando palabras del Corpus"
      ]
    },
    {
      "cell_type": "code",
      "metadata": {
        "id": "3ljBZz8rm86T"
      },
      "source": [
        "palabras_separadas = toktok.tokenize(articulos)\r\n",
        "lista_palabras = separa_palabras(palabras_separadas)"
      ],
      "execution_count": 13,
      "outputs": []
    },
    {
      "cell_type": "code",
      "metadata": {
        "colab": {
          "base_uri": "https://localhost:8080/"
        },
        "id": "ytH-vc8EnN8z",
        "outputId": "96aa839f-e81c-4f50-9620-f9c44a610dfc"
      },
      "source": [
        "print(f'La cantidad de palabras en el Corpus es de: {len(lista_palabras)}')"
      ],
      "execution_count": 14,
      "outputs": [
        {
          "output_type": "stream",
          "text": [
            "La cantidad de palabras en el Corpus es de: 40052\n"
          ],
          "name": "stdout"
        }
      ]
    },
    {
      "cell_type": "code",
      "metadata": {
        "colab": {
          "base_uri": "https://localhost:8080/"
        },
        "id": "FPa6ynT5nmc_",
        "outputId": "8cb53417-89ce-4ef0-ba02-2026b177a3a7"
      },
      "source": [
        "lista_palabras[:20]"
      ],
      "execution_count": 15,
      "outputs": [
        {
          "output_type": "execute_result",
          "data": {
            "text/plain": [
              "['HTTP',\n",
              " 'Diferencias',\n",
              " 'entre',\n",
              " 'GET',\n",
              " 'y',\n",
              " 'POST',\n",
              " 'Vea',\n",
              " 'las',\n",
              " 'diferencias',\n",
              " 'entre',\n",
              " 'los',\n",
              " 'métodos',\n",
              " 'GET',\n",
              " 'y',\n",
              " 'POST',\n",
              " 'de',\n",
              " 'Consulta',\n",
              " 'la',\n",
              " 'funcionalidad',\n",
              " 'de']"
            ]
          },
          "metadata": {
            "tags": []
          },
          "execution_count": 15
        }
      ]
    },
    {
      "cell_type": "markdown",
      "metadata": {
        "id": "xaonhxrKuvcd"
      },
      "source": [
        "#Normalizando y eliminando duplicados"
      ]
    },
    {
      "cell_type": "code",
      "metadata": {
        "id": "SjqV9d5quy78"
      },
      "source": [
        "def normalizar(lista_palabras):\r\n",
        "  lista_normalizada = []\r\n",
        "  for palabra in lista_palabras:\r\n",
        "    lista_normalizada.append(palabra.lower())\r\n",
        "  return lista_normalizada"
      ],
      "execution_count": 16,
      "outputs": []
    },
    {
      "cell_type": "code",
      "metadata": {
        "colab": {
          "base_uri": "https://localhost:8080/"
        },
        "id": "q8uY9uTXvNWy",
        "outputId": "990d9866-b229-4170-f9fb-e2a098215c91"
      },
      "source": [
        "palabras_normalizadas = normalizar(lista_palabras)\r\n",
        "print(palabras_normalizadas[:20])"
      ],
      "execution_count": 17,
      "outputs": [
        {
          "output_type": "stream",
          "text": [
            "['http', 'diferencias', 'entre', 'get', 'y', 'post', 'vea', 'las', 'diferencias', 'entre', 'los', 'métodos', 'get', 'y', 'post', 'de', 'consulta', 'la', 'funcionalidad', 'de']\n"
          ],
          "name": "stdout"
        }
      ]
    },
    {
      "cell_type": "code",
      "metadata": {
        "colab": {
          "base_uri": "https://localhost:8080/"
        },
        "id": "d5CalVJhvXB4",
        "outputId": "578865e5-6eec-44b3-f2c8-21cb7a39f334"
      },
      "source": [
        "palabras_unicas = set(palabras_normalizadas)\r\n",
        "print(len(palabras_unicas))"
      ],
      "execution_count": 18,
      "outputs": [
        {
          "output_type": "stream",
          "text": [
            "5101\n"
          ],
          "name": "stdout"
        }
      ]
    },
    {
      "cell_type": "markdown",
      "metadata": {
        "id": "abL9ybuOK1md"
      },
      "source": [
        "#Operación de Adición"
      ]
    },
    {
      "cell_type": "code",
      "metadata": {
        "id": "iohpCcggK59A"
      },
      "source": [
        "def adicionar_letras(partes):\r\n",
        "  letras = 'abcdefghijklmnñopqrstuvwxyzáéíóú'\r\n",
        "  nuevas_palabras = []\r\n",
        "  for I,D in partes:\r\n",
        "    for letra in letras:\r\n",
        "      nuevas_palabras.append(I + letra + D)\r\n",
        "  return nuevas_palabras\r\n",
        "\r\n",
        "def generar_palabras(palabra):\r\n",
        "  partes = []\r\n",
        "  for i in range(len(palabra)+1):\r\n",
        "    partes.append((palabra[:i],palabra[i:]))\r\n",
        "  palabras_generadas = adicionar_letras(partes)\r\n",
        "  return palabras_generadas\r\n",
        "\r\n"
      ],
      "execution_count": 19,
      "outputs": []
    },
    {
      "cell_type": "code",
      "metadata": {
        "colab": {
          "base_uri": "https://localhost:8080/"
        },
        "id": "L0LlpYTMPCZH",
        "outputId": "6e161714-717f-4e6d-ca87-9abcb6781711"
      },
      "source": [
        "palabra = 'lgica'\r\n",
        "palabras_generadas = generar_palabras(palabra)\r\n",
        "print(palabras_generadas)"
      ],
      "execution_count": 20,
      "outputs": [
        {
          "output_type": "stream",
          "text": [
            "['algica', 'blgica', 'clgica', 'dlgica', 'elgica', 'flgica', 'glgica', 'hlgica', 'ilgica', 'jlgica', 'klgica', 'llgica', 'mlgica', 'nlgica', 'ñlgica', 'olgica', 'plgica', 'qlgica', 'rlgica', 'slgica', 'tlgica', 'ulgica', 'vlgica', 'wlgica', 'xlgica', 'ylgica', 'zlgica', 'álgica', 'élgica', 'ílgica', 'ólgica', 'úlgica', 'lagica', 'lbgica', 'lcgica', 'ldgica', 'legica', 'lfgica', 'lggica', 'lhgica', 'ligica', 'ljgica', 'lkgica', 'llgica', 'lmgica', 'lngica', 'lñgica', 'logica', 'lpgica', 'lqgica', 'lrgica', 'lsgica', 'ltgica', 'lugica', 'lvgica', 'lwgica', 'lxgica', 'lygica', 'lzgica', 'lágica', 'légica', 'lígica', 'lógica', 'lúgica', 'lgaica', 'lgbica', 'lgcica', 'lgdica', 'lgeica', 'lgfica', 'lggica', 'lghica', 'lgiica', 'lgjica', 'lgkica', 'lglica', 'lgmica', 'lgnica', 'lgñica', 'lgoica', 'lgpica', 'lgqica', 'lgrica', 'lgsica', 'lgtica', 'lguica', 'lgvica', 'lgwica', 'lgxica', 'lgyica', 'lgzica', 'lgáica', 'lgéica', 'lgíica', 'lgóica', 'lgúica', 'lgiaca', 'lgibca', 'lgicca', 'lgidca', 'lgieca', 'lgifca', 'lgigca', 'lgihca', 'lgiica', 'lgijca', 'lgikca', 'lgilca', 'lgimca', 'lginca', 'lgiñca', 'lgioca', 'lgipca', 'lgiqca', 'lgirca', 'lgisca', 'lgitca', 'lgiuca', 'lgivca', 'lgiwca', 'lgixca', 'lgiyca', 'lgizca', 'lgiáca', 'lgiéca', 'lgiíca', 'lgióca', 'lgiúca', 'lgicaa', 'lgicba', 'lgicca', 'lgicda', 'lgicea', 'lgicfa', 'lgicga', 'lgicha', 'lgicia', 'lgicja', 'lgicka', 'lgicla', 'lgicma', 'lgicna', 'lgicña', 'lgicoa', 'lgicpa', 'lgicqa', 'lgicra', 'lgicsa', 'lgicta', 'lgicua', 'lgicva', 'lgicwa', 'lgicxa', 'lgicya', 'lgicza', 'lgicáa', 'lgicéa', 'lgicía', 'lgicóa', 'lgicúa', 'lgicaa', 'lgicab', 'lgicac', 'lgicad', 'lgicae', 'lgicaf', 'lgicag', 'lgicah', 'lgicai', 'lgicaj', 'lgicak', 'lgical', 'lgicam', 'lgican', 'lgicañ', 'lgicao', 'lgicap', 'lgicaq', 'lgicar', 'lgicas', 'lgicat', 'lgicau', 'lgicav', 'lgicaw', 'lgicax', 'lgicay', 'lgicaz', 'lgicaá', 'lgicaé', 'lgicaí', 'lgicaó', 'lgicaú']\n"
          ],
          "name": "stdout"
        }
      ]
    },
    {
      "cell_type": "markdown",
      "metadata": {
        "id": "IrntrTaisK9a"
      },
      "source": [
        "#Corrector"
      ]
    },
    {
      "cell_type": "code",
      "metadata": {
        "id": "Ah778vMYZ8IQ"
      },
      "source": [
        "def corrector(palabra):\r\n",
        "  palabras_generadas = generar_palabras(palabra)\r\n",
        "  palabra_corregida = max(palabras_generadas, key=probabilidad)\r\n",
        "  return palabra_corregida"
      ],
      "execution_count": 21,
      "outputs": []
    },
    {
      "cell_type": "code",
      "metadata": {
        "id": "0cr9jNhwsiCh"
      },
      "source": [
        "frecuencia = nltk.FreqDist(palabras_normalizadas)\r\n",
        "frecuencia.most_common(10)\r\n",
        "total_palabras = len(palabras_normalizadas)"
      ],
      "execution_count": 22,
      "outputs": []
    },
    {
      "cell_type": "code",
      "metadata": {
        "id": "m4TbEND6sNzC"
      },
      "source": [
        "def probabilidad(palabra_generada):\r\n",
        "  return frecuencia[palabra_generada]/total_palabras "
      ],
      "execution_count": 23,
      "outputs": []
    },
    {
      "cell_type": "code",
      "metadata": {
        "colab": {
          "base_uri": "https://localhost:8080/",
          "height": 35
        },
        "id": "La4bLA-1tev9",
        "outputId": "6ef071e9-d936-4d7a-f1be-39207e62c61c"
      },
      "source": [
        "corrector('lógia')"
      ],
      "execution_count": 24,
      "outputs": [
        {
          "output_type": "execute_result",
          "data": {
            "application/vnd.google.colaboratory.intrinsic+json": {
              "type": "string"
            },
            "text/plain": [
              "'lógica'"
            ]
          },
          "metadata": {
            "tags": []
          },
          "execution_count": 24
        }
      ]
    },
    {
      "cell_type": "markdown",
      "metadata": {
        "id": "ozlJdJaXz6VZ"
      },
      "source": [
        "#Evaluador"
      ]
    },
    {
      "cell_type": "code",
      "metadata": {
        "id": "R8qnEO5Y0I5f"
      },
      "source": [
        "def crear_datos_prueba(nombre_archivo):\r\n",
        "  lista_pruebas = []\r\n",
        "  f = open(nombre_archivo, 'r')\r\n",
        "  for fila in f:\r\n",
        "    palabra_correcta,palabra_incorrecta = fila.split()\r\n",
        "    lista_pruebas.append((palabra_correcta,palabra_incorrecta))\r\n",
        "  f.close()\r\n",
        "  return lista_pruebas\r\n",
        "\r\n",
        "lista_pruebas = crear_datos_prueba('palabras_pruebas.txt')\r\n"
      ],
      "execution_count": 25,
      "outputs": []
    },
    {
      "cell_type": "code",
      "metadata": {
        "colab": {
          "base_uri": "https://localhost:8080/"
        },
        "id": "y2GnAjQpz7-Z",
        "outputId": "7d3f0d02-1777-495a-a013-5e660834f401"
      },
      "source": [
        "def evaluador(pruebas):\r\n",
        "  numero_palabras = len(pruebas)\r\n",
        "  aciertos = 0\r\n",
        "  for palabra_correcta, palabra_incorrecta in pruebas:\r\n",
        "    palabra_corregida = corrector(palabra_incorrecta)\r\n",
        "    if palabra_corregida == palabra_correcta:\r\n",
        "      aciertos +=1\r\n",
        "  tasa_acierto = round(aciertos*100/numero_palabras,2)\r\n",
        "  print(f\"La tasa de acierto es: {tasa_acierto}% de {numero_palabras} palabras\")\r\n",
        "\r\n",
        "evaluador(lista_pruebas)"
      ],
      "execution_count": 26,
      "outputs": [
        {
          "output_type": "stream",
          "text": [
            "La tasa de acierto es: 5.14% de 175 palabras\n"
          ],
          "name": "stdout"
        }
      ]
    },
    {
      "cell_type": "markdown",
      "metadata": {
        "id": "mj2q_vTbF7VI"
      },
      "source": [
        "#Operación de Eliminación"
      ]
    },
    {
      "cell_type": "code",
      "metadata": {
        "id": "miQgs4U2F-PW"
      },
      "source": [
        "def eliminar_caracteres(partes):\r\n",
        "  nuevas_palabras = []\r\n",
        "  for I,D in partes:\r\n",
        "    nuevas_palabras.append(I + D[1:])\r\n",
        "  return nuevas_palabras"
      ],
      "execution_count": 27,
      "outputs": []
    },
    {
      "cell_type": "code",
      "metadata": {
        "id": "tgn75xJlGpOT"
      },
      "source": [
        "def generar_palabras(palabra):\r\n",
        "  partes = []\r\n",
        "  for i in range(len(palabra)+1):\r\n",
        "    partes.append((palabra[:i],palabra[i:]))\r\n",
        "  palabras_generadas = adicionar_letras(partes)\r\n",
        "  palabras_generadas += eliminar_caracteres(partes) \r\n",
        "  return palabras_generadas"
      ],
      "execution_count": 28,
      "outputs": []
    },
    {
      "cell_type": "code",
      "metadata": {
        "colab": {
          "base_uri": "https://localhost:8080/"
        },
        "id": "5qyRQH_cJAYe",
        "outputId": "c84eb5bc-5a4d-4c57-9c4d-931e27db5bd9"
      },
      "source": [
        "print(generar_palabras('lóigica'))"
      ],
      "execution_count": 29,
      "outputs": [
        {
          "output_type": "stream",
          "text": [
            "['alóigica', 'blóigica', 'clóigica', 'dlóigica', 'elóigica', 'flóigica', 'glóigica', 'hlóigica', 'ilóigica', 'jlóigica', 'klóigica', 'llóigica', 'mlóigica', 'nlóigica', 'ñlóigica', 'olóigica', 'plóigica', 'qlóigica', 'rlóigica', 'slóigica', 'tlóigica', 'ulóigica', 'vlóigica', 'wlóigica', 'xlóigica', 'ylóigica', 'zlóigica', 'álóigica', 'élóigica', 'ílóigica', 'ólóigica', 'úlóigica', 'laóigica', 'lbóigica', 'lcóigica', 'ldóigica', 'leóigica', 'lfóigica', 'lgóigica', 'lhóigica', 'lióigica', 'ljóigica', 'lkóigica', 'llóigica', 'lmóigica', 'lnóigica', 'lñóigica', 'loóigica', 'lpóigica', 'lqóigica', 'lróigica', 'lsóigica', 'ltóigica', 'luóigica', 'lvóigica', 'lwóigica', 'lxóigica', 'lyóigica', 'lzóigica', 'láóigica', 'léóigica', 'líóigica', 'lóóigica', 'lúóigica', 'lóaigica', 'lóbigica', 'lócigica', 'lódigica', 'lóeigica', 'lófigica', 'lógigica', 'lóhigica', 'lóiigica', 'lójigica', 'lókigica', 'lóligica', 'lómigica', 'lónigica', 'lóñigica', 'lóoigica', 'lópigica', 'lóqigica', 'lórigica', 'lósigica', 'lótigica', 'lóuigica', 'lóvigica', 'lówigica', 'lóxigica', 'lóyigica', 'lózigica', 'lóáigica', 'lóéigica', 'lóíigica', 'lóóigica', 'lóúigica', 'lóiagica', 'lóibgica', 'lóicgica', 'lóidgica', 'lóiegica', 'lóifgica', 'lóiggica', 'lóihgica', 'lóiigica', 'lóijgica', 'lóikgica', 'lóilgica', 'lóimgica', 'lóingica', 'lóiñgica', 'lóiogica', 'lóipgica', 'lóiqgica', 'lóirgica', 'lóisgica', 'lóitgica', 'lóiugica', 'lóivgica', 'lóiwgica', 'lóixgica', 'lóiygica', 'lóizgica', 'lóiágica', 'lóiégica', 'lóiígica', 'lóiógica', 'lóiúgica', 'lóigaica', 'lóigbica', 'lóigcica', 'lóigdica', 'lóigeica', 'lóigfica', 'lóiggica', 'lóighica', 'lóigiica', 'lóigjica', 'lóigkica', 'lóiglica', 'lóigmica', 'lóignica', 'lóigñica', 'lóigoica', 'lóigpica', 'lóigqica', 'lóigrica', 'lóigsica', 'lóigtica', 'lóiguica', 'lóigvica', 'lóigwica', 'lóigxica', 'lóigyica', 'lóigzica', 'lóigáica', 'lóigéica', 'lóigíica', 'lóigóica', 'lóigúica', 'lóigiaca', 'lóigibca', 'lóigicca', 'lóigidca', 'lóigieca', 'lóigifca', 'lóigigca', 'lóigihca', 'lóigiica', 'lóigijca', 'lóigikca', 'lóigilca', 'lóigimca', 'lóiginca', 'lóigiñca', 'lóigioca', 'lóigipca', 'lóigiqca', 'lóigirca', 'lóigisca', 'lóigitca', 'lóigiuca', 'lóigivca', 'lóigiwca', 'lóigixca', 'lóigiyca', 'lóigizca', 'lóigiáca', 'lóigiéca', 'lóigiíca', 'lóigióca', 'lóigiúca', 'lóigicaa', 'lóigicba', 'lóigicca', 'lóigicda', 'lóigicea', 'lóigicfa', 'lóigicga', 'lóigicha', 'lóigicia', 'lóigicja', 'lóigicka', 'lóigicla', 'lóigicma', 'lóigicna', 'lóigicña', 'lóigicoa', 'lóigicpa', 'lóigicqa', 'lóigicra', 'lóigicsa', 'lóigicta', 'lóigicua', 'lóigicva', 'lóigicwa', 'lóigicxa', 'lóigicya', 'lóigicza', 'lóigicáa', 'lóigicéa', 'lóigicía', 'lóigicóa', 'lóigicúa', 'lóigicaa', 'lóigicab', 'lóigicac', 'lóigicad', 'lóigicae', 'lóigicaf', 'lóigicag', 'lóigicah', 'lóigicai', 'lóigicaj', 'lóigicak', 'lóigical', 'lóigicam', 'lóigican', 'lóigicañ', 'lóigicao', 'lóigicap', 'lóigicaq', 'lóigicar', 'lóigicas', 'lóigicat', 'lóigicau', 'lóigicav', 'lóigicaw', 'lóigicax', 'lóigicay', 'lóigicaz', 'lóigicaá', 'lóigicaé', 'lóigicaí', 'lóigicaó', 'lóigicaú', 'óigica', 'ligica', 'lógica', 'lóiica', 'lóigca', 'lóigia', 'lóigic', 'lóigica']\n"
          ],
          "name": "stdout"
        }
      ]
    },
    {
      "cell_type": "code",
      "metadata": {
        "colab": {
          "base_uri": "https://localhost:8080/"
        },
        "id": "b8iz8oZKJGx0",
        "outputId": "8f409e3e-3f50-41cd-e496-1552b6429227"
      },
      "source": [
        "evaluador(lista_pruebas)"
      ],
      "execution_count": 30,
      "outputs": [
        {
          "output_type": "stream",
          "text": [
            "La tasa de acierto es: 38.29% de 175 palabras\n"
          ],
          "name": "stdout"
        }
      ]
    }
  ]
}