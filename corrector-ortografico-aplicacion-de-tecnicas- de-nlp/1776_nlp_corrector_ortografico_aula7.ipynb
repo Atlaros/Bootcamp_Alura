{
  "nbformat": 4,
  "nbformat_minor": 0,
  "metadata": {
    "colab": {
      "provenance": []
    },
    "kernelspec": {
      "name": "python3",
      "display_name": "Python 3"
    }
  },
  "cells": [
    {
      "cell_type": "markdown",
      "metadata": {
        "id": "UBSoG_NWYd0L"
      },
      "source": [
        "#Importar el corpus"
      ]
    },
    {
      "cell_type": "code",
      "metadata": {
        "colab": {
          "base_uri": "https://localhost:8080/"
        },
        "id": "KtXP9EkkvPr8",
        "outputId": "d55bbe76-1bf0-454c-ffc6-ff1eff6a8915"
      },
      "source": [
        "open('/content/textos_articulo.txt','r')"
      ],
      "execution_count": 1,
      "outputs": [
        {
          "output_type": "execute_result",
          "data": {
            "text/plain": [
              "<_io.TextIOWrapper name='/content/textos_articulo.txt' mode='r' encoding='UTF-8'>"
            ]
          },
          "metadata": {},
          "execution_count": 1
        }
      ]
    },
    {
      "cell_type": "code",
      "metadata": {
        "colab": {
          "base_uri": "https://localhost:8080/"
        },
        "id": "OwFAMGL6wfbu",
        "outputId": "264b6322-830e-4163-e9c0-2398977039b2"
      },
      "source": [
        "with open('/content/textos_articulo.txt','r') as f:\n",
        "  #articulo es el corpus del proyecto.el corpus es la base de dtosq analizamos.\n",
        "  #usamos el metodo read en el objeto f q contruimos en la linea anterior\n",
        "  articulos = f.read()\n",
        "  #imprimos los primero 500 caracteres\n",
        "print(articulos[:500])"
      ],
      "execution_count": 2,
      "outputs": [
        {
          "output_type": "stream",
          "name": "stdout",
          "text": [
            "\n",
            "\"HTTP: Diferencias entre GET y POST \"\n",
            "2020-10-21\n",
            "\"Vea las diferencias entre los métodos GET y POST de HTTP. Consulta la funcionalidad de cada uno y cuándo usarlos en la web.\"\n",
            "\"yuri-oliveira\"\n",
            "\"yuri.oliveira@alura.com.br\"\n",
            "\"front-end\"\n",
            "\n",
            "Cuando vamos a acceder a un sistema web, es bastante común pasar por una pantalla de inicio de sesión, en la que ponemos nuestras credenciales para acceder al sistema.\n",
            "Estas informaciones deben ser confidenciales, sin embargo, cuando intenté iniciar sesión en una ap\n"
          ]
        }
      ]
    },
    {
      "cell_type": "markdown",
      "metadata": {
        "id": "bQg0QzI4Yn7u"
      },
      "source": [
        "#Separando Palabras"
      ]
    },
    {
      "cell_type": "code",
      "metadata": {
        "colab": {
          "base_uri": "https://localhost:8080/"
        },
        "id": "-CovjhcqIXY8",
        "outputId": "3e5b9663-1756-4055-cf4c-8e42c5925c05"
      },
      "source": [
        "len(articulos)"
      ],
      "execution_count": 3,
      "outputs": [
        {
          "output_type": "execute_result",
          "data": {
            "text/plain": [
              "288071"
            ]
          },
          "metadata": {},
          "execution_count": 3
        }
      ]
    },
    {
      "cell_type": "code",
      "metadata": {
        "colab": {
          "base_uri": "https://localhost:8080/"
        },
        "id": "0PtQRTL8IaeM",
        "outputId": "ba5f28f1-1281-4b37-aa92-e2e674223d17"
      },
      "source": [
        "#hacemos una ejemplo con la funcion split para ver las lapabras q hay en el texto\n",
        "texto_ejemplo = 'hola que tal'\n",
        "print(len(texto_ejemplo))\n",
        "palabras = texto_ejemplo.split()\n",
        "print(len(palabras))\n",
        "print(palabras)"
      ],
      "execution_count": 4,
      "outputs": [
        {
          "output_type": "stream",
          "name": "stdout",
          "text": [
            "12\n",
            "3\n",
            "['hola', 'que', 'tal']\n"
          ]
        }
      ]
    },
    {
      "cell_type": "code",
      "metadata": {
        "colab": {
          "base_uri": "https://localhost:8080/"
        },
        "id": "NVd5IT5iIwpw",
        "outputId": "603e3448-4d22-48d5-be51-b4c0bc765c00"
      },
      "source": [
        "texto_ejemplo = 'hola Christian, ¿que tal?'\n",
        "print(len(texto_ejemplo))\n",
        "tokens = texto_ejemplo.split()\n",
        "print(len(tokens))\n",
        "print(tokens)"
      ],
      "execution_count": 5,
      "outputs": [
        {
          "output_type": "stream",
          "name": "stdout",
          "text": [
            "25\n",
            "4\n",
            "['hola', 'Christian,', '¿que', 'tal?']\n"
          ]
        }
      ]
    },
    {
      "cell_type": "markdown",
      "metadata": {
        "id": "Vlb-LT1QYtLs"
      },
      "source": [
        "#Tokenización"
      ]
    },
    {
      "cell_type": "code",
      "metadata": {
        "colab": {
          "base_uri": "https://localhost:8080/"
        },
        "id": "evGhfPGsYvxJ",
        "outputId": "d2de8492-d77a-4cf2-8dcd-749925eaab51"
      },
      "source": [
        "import nltk\n",
        "nltk.download('punkt')"
      ],
      "execution_count": 6,
      "outputs": [
        {
          "output_type": "stream",
          "name": "stderr",
          "text": [
            "[nltk_data] Downloading package punkt to /root/nltk_data...\n",
            "[nltk_data]   Unzipping tokenizers/punkt.zip.\n"
          ]
        },
        {
          "output_type": "execute_result",
          "data": {
            "text/plain": [
              "True"
            ]
          },
          "metadata": {},
          "execution_count": 6
        }
      ]
    },
    {
      "cell_type": "code",
      "metadata": {
        "colab": {
          "base_uri": "https://localhost:8080/"
        },
        "id": "Nhmp9KfbZFwb",
        "outputId": "e9ce86ad-ba77-4999-870c-76ed8014d2f2"
      },
      "source": [
        "palabras_separadas = nltk.tokenize.word_tokenize(texto_ejemplo)\n",
        "print(palabras_separadas)"
      ],
      "execution_count": 7,
      "outputs": [
        {
          "output_type": "stream",
          "name": "stdout",
          "text": [
            "['hola', 'Christian', ',', '¿que', 'tal', '?']\n"
          ]
        }
      ]
    },
    {
      "cell_type": "code",
      "metadata": {
        "id": "Q6c0wrw1ZUo0"
      },
      "source": [
        "from nltk.tokenize.toktok import ToktokTokenizer"
      ],
      "execution_count": 8,
      "outputs": []
    },
    {
      "cell_type": "code",
      "metadata": {
        "colab": {
          "base_uri": "https://localhost:8080/"
        },
        "id": "RLHIVGB-Z73B",
        "outputId": "401a9d42-2f44-4fcc-f69a-33dda488b165"
      },
      "source": [
        "#contruimos un objeto toktok y tokenizamos\n",
        "toktok = ToktokTokenizer()\n",
        "palabras_separadas = toktok.tokenize(texto_ejemplo)\n",
        "print(palabras_separadas)"
      ],
      "execution_count": 9,
      "outputs": [
        {
          "output_type": "stream",
          "name": "stdout",
          "text": [
            "['hola', 'Christian', ',', '¿', 'que', 'tal', '?']\n"
          ]
        }
      ]
    },
    {
      "cell_type": "code",
      "metadata": {
        "colab": {
          "base_uri": "https://localhost:8080/"
        },
        "id": "WXXe7wh8aLgo",
        "outputId": "7ccdaa51-b335-4fea-8bf4-3a2b1a9f9f86"
      },
      "source": [
        "len(palabras_separadas)"
      ],
      "execution_count": 10,
      "outputs": [
        {
          "output_type": "execute_result",
          "data": {
            "text/plain": [
              "7"
            ]
          },
          "metadata": {},
          "execution_count": 10
        }
      ]
    },
    {
      "cell_type": "markdown",
      "metadata": {
        "id": "Ln7N7UEOgeWE"
      },
      "source": [
        "#Excluyendo caracteres y puntuaciones"
      ]
    },
    {
      "cell_type": "code",
      "metadata": {
        "id": "v9IYQ0i8gi52"
      },
      "source": [
        "#creamos un funcion que nos identificara cuales son palabras y cuales son caracteres especailes, le pasamos los tokens creados anteriromente.\n",
        "def separa_palabras(lista_tokens):\n",
        "  lista_palabras = []\n",
        "  #hacemos un loop para iterar\n",
        "  for token in lista_tokens:\n",
        "    #usamos la funcion isalpha apra identificar si es una letra del alfabeto o no.\n",
        "    #(si es un caracter del alfabeto voy ahcer alguna cosa)\n",
        "    if token.isalpha():\n",
        "      #lo incluimos en lista de palabras\n",
        "      #(si el token es alfabetico lo voy incluir en mi lista d epalabras)\n",
        "      lista_palabras.append(token)\n",
        "  return lista_palabras"
      ],
      "execution_count": 11,
      "outputs": []
    },
    {
      "cell_type": "code",
      "metadata": {
        "colab": {
          "base_uri": "https://localhost:8080/"
        },
        "id": "sj5rzWUGhFS-",
        "outputId": "b03682e4-2b0b-4b50-eddf-f2862a8196aa"
      },
      "source": [
        "separa_palabras(palabras_separadas)"
      ],
      "execution_count": 12,
      "outputs": [
        {
          "output_type": "execute_result",
          "data": {
            "text/plain": [
              "['hola', 'Christian', 'que', 'tal']"
            ]
          },
          "metadata": {},
          "execution_count": 12
        }
      ]
    },
    {
      "cell_type": "markdown",
      "metadata": {
        "id": "DpMFD6Vnm6J_"
      },
      "source": [
        "#Contando palabras del Corpus"
      ]
    },
    {
      "cell_type": "code",
      "metadata": {
        "id": "3ljBZz8rm86T"
      },
      "source": [
        "palabras_separadas = toktok.tokenize(articulos)\n",
        "lista_palabras = separa_palabras(palabras_separadas)"
      ],
      "execution_count": 13,
      "outputs": []
    },
    {
      "cell_type": "code",
      "metadata": {
        "colab": {
          "base_uri": "https://localhost:8080/"
        },
        "id": "ytH-vc8EnN8z",
        "outputId": "e7926a53-93b2-4141-9655-cbdd7bc47799"
      },
      "source": [
        "print(f'La cantidad de palabras en el Corpus es de: {len(lista_palabras)}')"
      ],
      "execution_count": 14,
      "outputs": [
        {
          "output_type": "stream",
          "name": "stdout",
          "text": [
            "La cantidad de palabras en el Corpus es de: 40052\n"
          ]
        }
      ]
    },
    {
      "cell_type": "code",
      "metadata": {
        "colab": {
          "base_uri": "https://localhost:8080/"
        },
        "id": "FPa6ynT5nmc_",
        "outputId": "237d6084-ac5f-4d14-b60c-ae53e105a59b"
      },
      "source": [
        "lista_palabras[:20]"
      ],
      "execution_count": 15,
      "outputs": [
        {
          "output_type": "execute_result",
          "data": {
            "text/plain": [
              "['HTTP',\n",
              " 'Diferencias',\n",
              " 'entre',\n",
              " 'GET',\n",
              " 'y',\n",
              " 'POST',\n",
              " 'Vea',\n",
              " 'las',\n",
              " 'diferencias',\n",
              " 'entre',\n",
              " 'los',\n",
              " 'métodos',\n",
              " 'GET',\n",
              " 'y',\n",
              " 'POST',\n",
              " 'de',\n",
              " 'Consulta',\n",
              " 'la',\n",
              " 'funcionalidad',\n",
              " 'de']"
            ]
          },
          "metadata": {},
          "execution_count": 15
        }
      ]
    },
    {
      "cell_type": "markdown",
      "metadata": {
        "id": "xaonhxrKuvcd"
      },
      "source": [
        "#Normalizando y eliminando duplicados"
      ]
    },
    {
      "cell_type": "code",
      "metadata": {
        "id": "SjqV9d5quy78"
      },
      "source": [
        "def normalizar(lista_palabras):\n",
        "  lista_normalizada = []\n",
        "  for palabra in lista_palabras:\n",
        "    lista_normalizada.append(palabra.lower())\n",
        "  return lista_normalizada"
      ],
      "execution_count": 16,
      "outputs": []
    },
    {
      "cell_type": "code",
      "metadata": {
        "colab": {
          "base_uri": "https://localhost:8080/"
        },
        "id": "q8uY9uTXvNWy",
        "outputId": "dfd60674-1650-42c1-b455-9c77c237a61b"
      },
      "source": [
        "palabras_normalizadas = normalizar(lista_palabras)\n",
        "print(palabras_normalizadas[:20])"
      ],
      "execution_count": 17,
      "outputs": [
        {
          "output_type": "stream",
          "name": "stdout",
          "text": [
            "['http', 'diferencias', 'entre', 'get', 'y', 'post', 'vea', 'las', 'diferencias', 'entre', 'los', 'métodos', 'get', 'y', 'post', 'de', 'consulta', 'la', 'funcionalidad', 'de']\n"
          ]
        }
      ]
    },
    {
      "cell_type": "code",
      "metadata": {
        "colab": {
          "base_uri": "https://localhost:8080/"
        },
        "id": "d5CalVJhvXB4",
        "outputId": "027a2d8d-fc94-48a4-9852-b6b364c471c9"
      },
      "source": [
        "palabras_unicas = set(palabras_normalizadas)\n",
        "print(len(palabras_unicas))"
      ],
      "execution_count": 18,
      "outputs": [
        {
          "output_type": "stream",
          "name": "stdout",
          "text": [
            "5101\n"
          ]
        }
      ]
    },
    {
      "cell_type": "markdown",
      "metadata": {
        "id": "abL9ybuOK1md"
      },
      "source": [
        "#Operación de Adición"
      ]
    },
    {
      "cell_type": "code",
      "metadata": {
        "id": "iohpCcggK59A"
      },
      "source": [
        "def adicionar_letras(partes):\n",
        "  letras = 'abcdefghijklmnñopqrstuvwxyzáéíóú'\n",
        "  nuevas_palabras = []\n",
        "  for I,D in partes:\n",
        "    for letra in letras:\n",
        "      nuevas_palabras.append(I + letra + D)\n",
        "  return nuevas_palabras\n",
        "\n",
        "def generar_palabras(palabra):\n",
        "  partes = []\n",
        "  for i in range(len(palabra)+1):\n",
        "    partes.append((palabra[:i],palabra[i:]))\n",
        "  palabras_generadas = adicionar_letras(partes)\n",
        "  return palabras_generadas\n",
        "\n"
      ],
      "execution_count": 19,
      "outputs": []
    },
    {
      "cell_type": "code",
      "metadata": {
        "colab": {
          "base_uri": "https://localhost:8080/"
        },
        "id": "L0LlpYTMPCZH",
        "outputId": "ebf96205-dea4-4720-c747-c7a221258a6b"
      },
      "source": [
        "palabra = 'lgica'\n",
        "palabras_generadas = generar_palabras(palabra)\n",
        "print(palabras_generadas)"
      ],
      "execution_count": 20,
      "outputs": [
        {
          "output_type": "stream",
          "name": "stdout",
          "text": [
            "['algica', 'blgica', 'clgica', 'dlgica', 'elgica', 'flgica', 'glgica', 'hlgica', 'ilgica', 'jlgica', 'klgica', 'llgica', 'mlgica', 'nlgica', 'ñlgica', 'olgica', 'plgica', 'qlgica', 'rlgica', 'slgica', 'tlgica', 'ulgica', 'vlgica', 'wlgica', 'xlgica', 'ylgica', 'zlgica', 'álgica', 'élgica', 'ílgica', 'ólgica', 'úlgica', 'lagica', 'lbgica', 'lcgica', 'ldgica', 'legica', 'lfgica', 'lggica', 'lhgica', 'ligica', 'ljgica', 'lkgica', 'llgica', 'lmgica', 'lngica', 'lñgica', 'logica', 'lpgica', 'lqgica', 'lrgica', 'lsgica', 'ltgica', 'lugica', 'lvgica', 'lwgica', 'lxgica', 'lygica', 'lzgica', 'lágica', 'légica', 'lígica', 'lógica', 'lúgica', 'lgaica', 'lgbica', 'lgcica', 'lgdica', 'lgeica', 'lgfica', 'lggica', 'lghica', 'lgiica', 'lgjica', 'lgkica', 'lglica', 'lgmica', 'lgnica', 'lgñica', 'lgoica', 'lgpica', 'lgqica', 'lgrica', 'lgsica', 'lgtica', 'lguica', 'lgvica', 'lgwica', 'lgxica', 'lgyica', 'lgzica', 'lgáica', 'lgéica', 'lgíica', 'lgóica', 'lgúica', 'lgiaca', 'lgibca', 'lgicca', 'lgidca', 'lgieca', 'lgifca', 'lgigca', 'lgihca', 'lgiica', 'lgijca', 'lgikca', 'lgilca', 'lgimca', 'lginca', 'lgiñca', 'lgioca', 'lgipca', 'lgiqca', 'lgirca', 'lgisca', 'lgitca', 'lgiuca', 'lgivca', 'lgiwca', 'lgixca', 'lgiyca', 'lgizca', 'lgiáca', 'lgiéca', 'lgiíca', 'lgióca', 'lgiúca', 'lgicaa', 'lgicba', 'lgicca', 'lgicda', 'lgicea', 'lgicfa', 'lgicga', 'lgicha', 'lgicia', 'lgicja', 'lgicka', 'lgicla', 'lgicma', 'lgicna', 'lgicña', 'lgicoa', 'lgicpa', 'lgicqa', 'lgicra', 'lgicsa', 'lgicta', 'lgicua', 'lgicva', 'lgicwa', 'lgicxa', 'lgicya', 'lgicza', 'lgicáa', 'lgicéa', 'lgicía', 'lgicóa', 'lgicúa', 'lgicaa', 'lgicab', 'lgicac', 'lgicad', 'lgicae', 'lgicaf', 'lgicag', 'lgicah', 'lgicai', 'lgicaj', 'lgicak', 'lgical', 'lgicam', 'lgican', 'lgicañ', 'lgicao', 'lgicap', 'lgicaq', 'lgicar', 'lgicas', 'lgicat', 'lgicau', 'lgicav', 'lgicaw', 'lgicax', 'lgicay', 'lgicaz', 'lgicaá', 'lgicaé', 'lgicaí', 'lgicaó', 'lgicaú']\n"
          ]
        }
      ]
    },
    {
      "cell_type": "markdown",
      "metadata": {
        "id": "IrntrTaisK9a"
      },
      "source": [
        "#Corrector"
      ]
    },
    {
      "cell_type": "code",
      "metadata": {
        "id": "Ah778vMYZ8IQ"
      },
      "source": [
        "def corrector(palabra):\n",
        "  palabras_generadas = generar_palabras(palabra)\n",
        "  palabra_corregida = max(palabras_generadas, key=probabilidad)\n",
        "  return palabra_corregida"
      ],
      "execution_count": 21,
      "outputs": []
    },
    {
      "cell_type": "code",
      "metadata": {
        "id": "0cr9jNhwsiCh"
      },
      "source": [
        "frecuencia = nltk.FreqDist(palabras_normalizadas)\n",
        "frecuencia.most_common(10)\n",
        "total_palabras = len(palabras_normalizadas)"
      ],
      "execution_count": 22,
      "outputs": []
    },
    {
      "cell_type": "code",
      "metadata": {
        "id": "m4TbEND6sNzC"
      },
      "source": [
        "def probabilidad(palabra_generada):\n",
        "  return frecuencia[palabra_generada]/total_palabras"
      ],
      "execution_count": 23,
      "outputs": []
    },
    {
      "cell_type": "code",
      "metadata": {
        "colab": {
          "base_uri": "https://localhost:8080/",
          "height": 35
        },
        "id": "La4bLA-1tev9",
        "outputId": "7cfc0791-c3a4-4572-8397-82198e5607fb"
      },
      "source": [
        "corrector('lógia')"
      ],
      "execution_count": 24,
      "outputs": [
        {
          "output_type": "execute_result",
          "data": {
            "text/plain": [
              "'lógica'"
            ],
            "application/vnd.google.colaboratory.intrinsic+json": {
              "type": "string"
            }
          },
          "metadata": {},
          "execution_count": 24
        }
      ]
    },
    {
      "cell_type": "markdown",
      "metadata": {
        "id": "ozlJdJaXz6VZ"
      },
      "source": [
        "#Evaluador"
      ]
    },
    {
      "cell_type": "code",
      "metadata": {
        "id": "R8qnEO5Y0I5f"
      },
      "source": [
        "def crear_datos_prueba(nombre_archivo):\n",
        "  lista_pruebas = []\n",
        "  f = open(nombre_archivo, 'r')\n",
        "  for fila in f:\n",
        "    palabra_correcta,palabra_incorrecta = fila.split()\n",
        "    lista_pruebas.append((palabra_correcta,palabra_incorrecta))\n",
        "  f.close()\n",
        "  return lista_pruebas\n",
        "\n",
        "lista_pruebas = crear_datos_prueba('palabras_pruebas.txt')\n"
      ],
      "execution_count": 25,
      "outputs": []
    },
    {
      "cell_type": "code",
      "metadata": {
        "colab": {
          "base_uri": "https://localhost:8080/"
        },
        "id": "y2GnAjQpz7-Z",
        "outputId": "bea4d976-bad3-440c-a0b0-8b791a191e54"
      },
      "source": [
        "def evaluador(pruebas):\n",
        "  numero_palabras = len(pruebas)\n",
        "  aciertos = 0\n",
        "  for palabra_correcta, palabra_incorrecta in pruebas:\n",
        "    palabra_corregida = corrector(palabra_incorrecta)\n",
        "    if palabra_corregida == palabra_correcta:\n",
        "      aciertos +=1\n",
        "  tasa_acierto = round(aciertos*100/numero_palabras,2)\n",
        "  print(f\"La tasa de acierto es: {tasa_acierto}% de {numero_palabras} palabras\")\n",
        "\n",
        "evaluador(lista_pruebas)"
      ],
      "execution_count": 26,
      "outputs": [
        {
          "output_type": "stream",
          "name": "stdout",
          "text": [
            "La tasa de acierto es: 5.14% de 175 palabras\n"
          ]
        }
      ]
    },
    {
      "cell_type": "markdown",
      "metadata": {
        "id": "mj2q_vTbF7VI"
      },
      "source": [
        "#Operación de Eliminación"
      ]
    },
    {
      "cell_type": "code",
      "metadata": {
        "id": "miQgs4U2F-PW"
      },
      "source": [
        "def eliminar_caracteres(partes):\n",
        "  nuevas_palabras = []\n",
        "  for I,D in partes:\n",
        "    nuevas_palabras.append(I + D[1:])\n",
        "  return nuevas_palabras"
      ],
      "execution_count": 27,
      "outputs": []
    },
    {
      "cell_type": "code",
      "metadata": {
        "id": "tgn75xJlGpOT"
      },
      "source": [
        "def generar_palabras(palabra):\n",
        "  partes = []\n",
        "  for i in range(len(palabra)+1):\n",
        "    partes.append((palabra[:i],palabra[i:]))\n",
        "  palabras_generadas = adicionar_letras(partes)\n",
        "  palabras_generadas += eliminar_caracteres(partes)\n",
        "  return palabras_generadas"
      ],
      "execution_count": 28,
      "outputs": []
    },
    {
      "cell_type": "code",
      "metadata": {
        "colab": {
          "base_uri": "https://localhost:8080/"
        },
        "id": "5qyRQH_cJAYe",
        "outputId": "a7d57a50-0245-49b5-a621-a95029bcc302"
      },
      "source": [
        "print(generar_palabras('lóigica'))"
      ],
      "execution_count": 29,
      "outputs": [
        {
          "output_type": "stream",
          "name": "stdout",
          "text": [
            "['alóigica', 'blóigica', 'clóigica', 'dlóigica', 'elóigica', 'flóigica', 'glóigica', 'hlóigica', 'ilóigica', 'jlóigica', 'klóigica', 'llóigica', 'mlóigica', 'nlóigica', 'ñlóigica', 'olóigica', 'plóigica', 'qlóigica', 'rlóigica', 'slóigica', 'tlóigica', 'ulóigica', 'vlóigica', 'wlóigica', 'xlóigica', 'ylóigica', 'zlóigica', 'álóigica', 'élóigica', 'ílóigica', 'ólóigica', 'úlóigica', 'laóigica', 'lbóigica', 'lcóigica', 'ldóigica', 'leóigica', 'lfóigica', 'lgóigica', 'lhóigica', 'lióigica', 'ljóigica', 'lkóigica', 'llóigica', 'lmóigica', 'lnóigica', 'lñóigica', 'loóigica', 'lpóigica', 'lqóigica', 'lróigica', 'lsóigica', 'ltóigica', 'luóigica', 'lvóigica', 'lwóigica', 'lxóigica', 'lyóigica', 'lzóigica', 'láóigica', 'léóigica', 'líóigica', 'lóóigica', 'lúóigica', 'lóaigica', 'lóbigica', 'lócigica', 'lódigica', 'lóeigica', 'lófigica', 'lógigica', 'lóhigica', 'lóiigica', 'lójigica', 'lókigica', 'lóligica', 'lómigica', 'lónigica', 'lóñigica', 'lóoigica', 'lópigica', 'lóqigica', 'lórigica', 'lósigica', 'lótigica', 'lóuigica', 'lóvigica', 'lówigica', 'lóxigica', 'lóyigica', 'lózigica', 'lóáigica', 'lóéigica', 'lóíigica', 'lóóigica', 'lóúigica', 'lóiagica', 'lóibgica', 'lóicgica', 'lóidgica', 'lóiegica', 'lóifgica', 'lóiggica', 'lóihgica', 'lóiigica', 'lóijgica', 'lóikgica', 'lóilgica', 'lóimgica', 'lóingica', 'lóiñgica', 'lóiogica', 'lóipgica', 'lóiqgica', 'lóirgica', 'lóisgica', 'lóitgica', 'lóiugica', 'lóivgica', 'lóiwgica', 'lóixgica', 'lóiygica', 'lóizgica', 'lóiágica', 'lóiégica', 'lóiígica', 'lóiógica', 'lóiúgica', 'lóigaica', 'lóigbica', 'lóigcica', 'lóigdica', 'lóigeica', 'lóigfica', 'lóiggica', 'lóighica', 'lóigiica', 'lóigjica', 'lóigkica', 'lóiglica', 'lóigmica', 'lóignica', 'lóigñica', 'lóigoica', 'lóigpica', 'lóigqica', 'lóigrica', 'lóigsica', 'lóigtica', 'lóiguica', 'lóigvica', 'lóigwica', 'lóigxica', 'lóigyica', 'lóigzica', 'lóigáica', 'lóigéica', 'lóigíica', 'lóigóica', 'lóigúica', 'lóigiaca', 'lóigibca', 'lóigicca', 'lóigidca', 'lóigieca', 'lóigifca', 'lóigigca', 'lóigihca', 'lóigiica', 'lóigijca', 'lóigikca', 'lóigilca', 'lóigimca', 'lóiginca', 'lóigiñca', 'lóigioca', 'lóigipca', 'lóigiqca', 'lóigirca', 'lóigisca', 'lóigitca', 'lóigiuca', 'lóigivca', 'lóigiwca', 'lóigixca', 'lóigiyca', 'lóigizca', 'lóigiáca', 'lóigiéca', 'lóigiíca', 'lóigióca', 'lóigiúca', 'lóigicaa', 'lóigicba', 'lóigicca', 'lóigicda', 'lóigicea', 'lóigicfa', 'lóigicga', 'lóigicha', 'lóigicia', 'lóigicja', 'lóigicka', 'lóigicla', 'lóigicma', 'lóigicna', 'lóigicña', 'lóigicoa', 'lóigicpa', 'lóigicqa', 'lóigicra', 'lóigicsa', 'lóigicta', 'lóigicua', 'lóigicva', 'lóigicwa', 'lóigicxa', 'lóigicya', 'lóigicza', 'lóigicáa', 'lóigicéa', 'lóigicía', 'lóigicóa', 'lóigicúa', 'lóigicaa', 'lóigicab', 'lóigicac', 'lóigicad', 'lóigicae', 'lóigicaf', 'lóigicag', 'lóigicah', 'lóigicai', 'lóigicaj', 'lóigicak', 'lóigical', 'lóigicam', 'lóigican', 'lóigicañ', 'lóigicao', 'lóigicap', 'lóigicaq', 'lóigicar', 'lóigicas', 'lóigicat', 'lóigicau', 'lóigicav', 'lóigicaw', 'lóigicax', 'lóigicay', 'lóigicaz', 'lóigicaá', 'lóigicaé', 'lóigicaí', 'lóigicaó', 'lóigicaú', 'óigica', 'ligica', 'lógica', 'lóiica', 'lóigca', 'lóigia', 'lóigic', 'lóigica']\n"
          ]
        }
      ]
    },
    {
      "cell_type": "code",
      "metadata": {
        "colab": {
          "base_uri": "https://localhost:8080/"
        },
        "id": "b8iz8oZKJGx0",
        "outputId": "caeddc0d-1064-4f76-a242-ffd537a1aba2"
      },
      "source": [
        "evaluador(lista_pruebas)"
      ],
      "execution_count": 30,
      "outputs": [
        {
          "output_type": "stream",
          "name": "stdout",
          "text": [
            "La tasa de acierto es: 38.29% de 175 palabras\n"
          ]
        }
      ]
    },
    {
      "cell_type": "markdown",
      "metadata": {
        "id": "3iAfVZCMX8eQ"
      },
      "source": [
        "#Operación de Alteración"
      ]
    },
    {
      "cell_type": "code",
      "metadata": {
        "id": "Kl25YvUDYAUs"
      },
      "source": [
        "def alterar_caracteres(partes):\n",
        "  letras = 'abcdefghijklmnñopqrstuvwxyzáéíóú'\n",
        "  nuevas_palabras = []\n",
        "  for I,D in partes:\n",
        "    for letra in letras:\n",
        "      nuevas_palabras.append(I + letra + D[1:])\n",
        "  return nuevas_palabras"
      ],
      "execution_count": 31,
      "outputs": []
    },
    {
      "cell_type": "code",
      "metadata": {
        "id": "TA_9_2U_YZsO"
      },
      "source": [
        "def generar_palabras(palabra):\n",
        "  partes = []\n",
        "  for i in range(len(palabra)+1):\n",
        "    partes.append((palabra[:i],palabra[i:]))\n",
        "  palabras_generadas = adicionar_letras(partes)\n",
        "  palabras_generadas += eliminar_caracteres(partes)\n",
        "  palabras_generadas += alterar_caracteres(partes)\n",
        "  return palabras_generadas"
      ],
      "execution_count": 32,
      "outputs": []
    },
    {
      "cell_type": "code",
      "metadata": {
        "colab": {
          "base_uri": "https://localhost:8080/"
        },
        "id": "svQY9TXQYicu",
        "outputId": "f3d6b0dc-4a12-41ba-b0b6-14317cc9ea80"
      },
      "source": [
        "print(generar_palabras('lígica'))"
      ],
      "execution_count": 33,
      "outputs": [
        {
          "output_type": "stream",
          "name": "stdout",
          "text": [
            "['alígica', 'blígica', 'clígica', 'dlígica', 'elígica', 'flígica', 'glígica', 'hlígica', 'ilígica', 'jlígica', 'klígica', 'llígica', 'mlígica', 'nlígica', 'ñlígica', 'olígica', 'plígica', 'qlígica', 'rlígica', 'slígica', 'tlígica', 'ulígica', 'vlígica', 'wlígica', 'xlígica', 'ylígica', 'zlígica', 'álígica', 'élígica', 'ílígica', 'ólígica', 'úlígica', 'laígica', 'lbígica', 'lcígica', 'ldígica', 'leígica', 'lfígica', 'lgígica', 'lhígica', 'liígica', 'ljígica', 'lkígica', 'llígica', 'lmígica', 'lnígica', 'lñígica', 'loígica', 'lpígica', 'lqígica', 'lrígica', 'lsígica', 'ltígica', 'luígica', 'lvígica', 'lwígica', 'lxígica', 'lyígica', 'lzígica', 'láígica', 'léígica', 'líígica', 'lóígica', 'lúígica', 'líagica', 'líbgica', 'lícgica', 'lídgica', 'líegica', 'lífgica', 'líggica', 'líhgica', 'líigica', 'líjgica', 'líkgica', 'lílgica', 'límgica', 'língica', 'líñgica', 'líogica', 'lípgica', 'líqgica', 'lírgica', 'lísgica', 'lítgica', 'líugica', 'lívgica', 'líwgica', 'líxgica', 'líygica', 'lízgica', 'líágica', 'líégica', 'líígica', 'líógica', 'líúgica', 'lígaica', 'lígbica', 'lígcica', 'lígdica', 'lígeica', 'lígfica', 'líggica', 'líghica', 'lígiica', 'lígjica', 'lígkica', 'líglica', 'lígmica', 'lígnica', 'lígñica', 'lígoica', 'lígpica', 'lígqica', 'lígrica', 'lígsica', 'lígtica', 'líguica', 'lígvica', 'lígwica', 'lígxica', 'lígyica', 'lígzica', 'lígáica', 'lígéica', 'lígíica', 'lígóica', 'lígúica', 'lígiaca', 'lígibca', 'lígicca', 'lígidca', 'lígieca', 'lígifca', 'lígigca', 'lígihca', 'lígiica', 'lígijca', 'lígikca', 'lígilca', 'lígimca', 'líginca', 'lígiñca', 'lígioca', 'lígipca', 'lígiqca', 'lígirca', 'lígisca', 'lígitca', 'lígiuca', 'lígivca', 'lígiwca', 'lígixca', 'lígiyca', 'lígizca', 'lígiáca', 'lígiéca', 'lígiíca', 'lígióca', 'lígiúca', 'lígicaa', 'lígicba', 'lígicca', 'lígicda', 'lígicea', 'lígicfa', 'lígicga', 'lígicha', 'lígicia', 'lígicja', 'lígicka', 'lígicla', 'lígicma', 'lígicna', 'lígicña', 'lígicoa', 'lígicpa', 'lígicqa', 'lígicra', 'lígicsa', 'lígicta', 'lígicua', 'lígicva', 'lígicwa', 'lígicxa', 'lígicya', 'lígicza', 'lígicáa', 'lígicéa', 'lígicía', 'lígicóa', 'lígicúa', 'lígicaa', 'lígicab', 'lígicac', 'lígicad', 'lígicae', 'lígicaf', 'lígicag', 'lígicah', 'lígicai', 'lígicaj', 'lígicak', 'lígical', 'lígicam', 'lígican', 'lígicañ', 'lígicao', 'lígicap', 'lígicaq', 'lígicar', 'lígicas', 'lígicat', 'lígicau', 'lígicav', 'lígicaw', 'lígicax', 'lígicay', 'lígicaz', 'lígicaá', 'lígicaé', 'lígicaí', 'lígicaó', 'lígicaú', 'ígica', 'lgica', 'líica', 'lígca', 'lígia', 'lígic', 'lígica', 'aígica', 'bígica', 'cígica', 'dígica', 'eígica', 'fígica', 'gígica', 'hígica', 'iígica', 'jígica', 'kígica', 'lígica', 'mígica', 'nígica', 'ñígica', 'oígica', 'pígica', 'qígica', 'rígica', 'sígica', 'tígica', 'uígica', 'vígica', 'wígica', 'xígica', 'yígica', 'zígica', 'áígica', 'éígica', 'íígica', 'óígica', 'úígica', 'lagica', 'lbgica', 'lcgica', 'ldgica', 'legica', 'lfgica', 'lggica', 'lhgica', 'ligica', 'ljgica', 'lkgica', 'llgica', 'lmgica', 'lngica', 'lñgica', 'logica', 'lpgica', 'lqgica', 'lrgica', 'lsgica', 'ltgica', 'lugica', 'lvgica', 'lwgica', 'lxgica', 'lygica', 'lzgica', 'lágica', 'légica', 'lígica', 'lógica', 'lúgica', 'líaica', 'líbica', 'lícica', 'lídica', 'líeica', 'lífica', 'lígica', 'líhica', 'líiica', 'líjica', 'líkica', 'lílica', 'límica', 'línica', 'líñica', 'líoica', 'lípica', 'líqica', 'lírica', 'lísica', 'lítica', 'líuica', 'lívica', 'líwica', 'líxica', 'líyica', 'lízica', 'líáica', 'líéica', 'lííica', 'líóica', 'líúica', 'lígaca', 'lígbca', 'lígcca', 'lígdca', 'lígeca', 'lígfca', 'líggca', 'líghca', 'lígica', 'lígjca', 'lígkca', 'líglca', 'lígmca', 'lígnca', 'lígñca', 'lígoca', 'lígpca', 'lígqca', 'lígrca', 'lígsca', 'lígtca', 'líguca', 'lígvca', 'lígwca', 'lígxca', 'lígyca', 'lígzca', 'lígáca', 'lígéca', 'lígíca', 'lígóca', 'lígúca', 'lígiaa', 'lígiba', 'lígica', 'lígida', 'lígiea', 'lígifa', 'lígiga', 'lígiha', 'lígiia', 'lígija', 'lígika', 'lígila', 'lígima', 'lígina', 'lígiña', 'lígioa', 'lígipa', 'lígiqa', 'lígira', 'lígisa', 'lígita', 'lígiua', 'lígiva', 'lígiwa', 'lígixa', 'lígiya', 'lígiza', 'lígiáa', 'lígiéa', 'lígiía', 'lígióa', 'lígiúa', 'lígica', 'lígicb', 'lígicc', 'lígicd', 'lígice', 'lígicf', 'lígicg', 'lígich', 'lígici', 'lígicj', 'lígick', 'lígicl', 'lígicm', 'lígicn', 'lígicñ', 'lígico', 'lígicp', 'lígicq', 'lígicr', 'lígics', 'lígict', 'lígicu', 'lígicv', 'lígicw', 'lígicx', 'lígicy', 'lígicz', 'lígicá', 'lígicé', 'lígicí', 'lígicó', 'lígicú', 'lígicaa', 'lígicab', 'lígicac', 'lígicad', 'lígicae', 'lígicaf', 'lígicag', 'lígicah', 'lígicai', 'lígicaj', 'lígicak', 'lígical', 'lígicam', 'lígican', 'lígicañ', 'lígicao', 'lígicap', 'lígicaq', 'lígicar', 'lígicas', 'lígicat', 'lígicau', 'lígicav', 'lígicaw', 'lígicax', 'lígicay', 'lígicaz', 'lígicaá', 'lígicaé', 'lígicaí', 'lígicaó', 'lígicaú']\n"
          ]
        }
      ]
    },
    {
      "cell_type": "code",
      "metadata": {
        "colab": {
          "base_uri": "https://localhost:8080/"
        },
        "id": "KyA8B2EqYpYn",
        "outputId": "4ee99755-0b4a-4e71-f3f7-f247df995375"
      },
      "source": [
        "evaluador(lista_pruebas)"
      ],
      "execution_count": 34,
      "outputs": [
        {
          "output_type": "stream",
          "name": "stdout",
          "text": [
            "La tasa de acierto es: 64.57% de 175 palabras\n"
          ]
        }
      ]
    },
    {
      "cell_type": "markdown",
      "metadata": {
        "id": "_aOdJqKtc17y"
      },
      "source": [
        "#Operación de inversión"
      ]
    },
    {
      "cell_type": "code",
      "metadata": {
        "id": "TgyFSNkSYz8E"
      },
      "source": [
        "def invertir_caracteres(partes):\n",
        "  nuevas_palabras = []\n",
        "  for I,D in partes:\n",
        "    if len(D) > 1:\n",
        "      nuevas_palabras.append(I + D[1] + D[0] + D[2:])\n",
        "  return nuevas_palabras"
      ],
      "execution_count": 35,
      "outputs": []
    },
    {
      "cell_type": "code",
      "metadata": {
        "id": "Lp2yQk_9dj0e"
      },
      "source": [
        "def generar_palabras(palabra):\n",
        "  partes = []\n",
        "  for i in range(len(palabra)+1):\n",
        "    partes.append((palabra[:i],palabra[i:]))\n",
        "  palabras_generadas = adicionar_letras(partes)\n",
        "  palabras_generadas += eliminar_caracteres(partes)\n",
        "  palabras_generadas += alterar_caracteres(partes)\n",
        "  palabras_generadas += invertir_caracteres(partes)\n",
        "  return palabras_generadas"
      ],
      "execution_count": 36,
      "outputs": []
    },
    {
      "cell_type": "code",
      "metadata": {
        "colab": {
          "base_uri": "https://localhost:8080/"
        },
        "id": "k6uX4L48dqSX",
        "outputId": "b78e90df-2c88-4d32-df8a-bb5d9bb707e2"
      },
      "source": [
        "print(generar_palabras('lgóica'))"
      ],
      "execution_count": 37,
      "outputs": [
        {
          "output_type": "stream",
          "name": "stdout",
          "text": [
            "['algóica', 'blgóica', 'clgóica', 'dlgóica', 'elgóica', 'flgóica', 'glgóica', 'hlgóica', 'ilgóica', 'jlgóica', 'klgóica', 'llgóica', 'mlgóica', 'nlgóica', 'ñlgóica', 'olgóica', 'plgóica', 'qlgóica', 'rlgóica', 'slgóica', 'tlgóica', 'ulgóica', 'vlgóica', 'wlgóica', 'xlgóica', 'ylgóica', 'zlgóica', 'álgóica', 'élgóica', 'ílgóica', 'ólgóica', 'úlgóica', 'lagóica', 'lbgóica', 'lcgóica', 'ldgóica', 'legóica', 'lfgóica', 'lggóica', 'lhgóica', 'ligóica', 'ljgóica', 'lkgóica', 'llgóica', 'lmgóica', 'lngóica', 'lñgóica', 'logóica', 'lpgóica', 'lqgóica', 'lrgóica', 'lsgóica', 'ltgóica', 'lugóica', 'lvgóica', 'lwgóica', 'lxgóica', 'lygóica', 'lzgóica', 'lágóica', 'légóica', 'lígóica', 'lógóica', 'lúgóica', 'lgaóica', 'lgbóica', 'lgcóica', 'lgdóica', 'lgeóica', 'lgfóica', 'lggóica', 'lghóica', 'lgióica', 'lgjóica', 'lgkóica', 'lglóica', 'lgmóica', 'lgnóica', 'lgñóica', 'lgoóica', 'lgpóica', 'lgqóica', 'lgróica', 'lgsóica', 'lgtóica', 'lguóica', 'lgvóica', 'lgwóica', 'lgxóica', 'lgyóica', 'lgzóica', 'lgáóica', 'lgéóica', 'lgíóica', 'lgóóica', 'lgúóica', 'lgóaica', 'lgóbica', 'lgócica', 'lgódica', 'lgóeica', 'lgófica', 'lgógica', 'lgóhica', 'lgóiica', 'lgójica', 'lgókica', 'lgólica', 'lgómica', 'lgónica', 'lgóñica', 'lgóoica', 'lgópica', 'lgóqica', 'lgórica', 'lgósica', 'lgótica', 'lgóuica', 'lgóvica', 'lgówica', 'lgóxica', 'lgóyica', 'lgózica', 'lgóáica', 'lgóéica', 'lgóíica', 'lgóóica', 'lgóúica', 'lgóiaca', 'lgóibca', 'lgóicca', 'lgóidca', 'lgóieca', 'lgóifca', 'lgóigca', 'lgóihca', 'lgóiica', 'lgóijca', 'lgóikca', 'lgóilca', 'lgóimca', 'lgóinca', 'lgóiñca', 'lgóioca', 'lgóipca', 'lgóiqca', 'lgóirca', 'lgóisca', 'lgóitca', 'lgóiuca', 'lgóivca', 'lgóiwca', 'lgóixca', 'lgóiyca', 'lgóizca', 'lgóiáca', 'lgóiéca', 'lgóiíca', 'lgóióca', 'lgóiúca', 'lgóicaa', 'lgóicba', 'lgóicca', 'lgóicda', 'lgóicea', 'lgóicfa', 'lgóicga', 'lgóicha', 'lgóicia', 'lgóicja', 'lgóicka', 'lgóicla', 'lgóicma', 'lgóicna', 'lgóicña', 'lgóicoa', 'lgóicpa', 'lgóicqa', 'lgóicra', 'lgóicsa', 'lgóicta', 'lgóicua', 'lgóicva', 'lgóicwa', 'lgóicxa', 'lgóicya', 'lgóicza', 'lgóicáa', 'lgóicéa', 'lgóicía', 'lgóicóa', 'lgóicúa', 'lgóicaa', 'lgóicab', 'lgóicac', 'lgóicad', 'lgóicae', 'lgóicaf', 'lgóicag', 'lgóicah', 'lgóicai', 'lgóicaj', 'lgóicak', 'lgóical', 'lgóicam', 'lgóican', 'lgóicañ', 'lgóicao', 'lgóicap', 'lgóicaq', 'lgóicar', 'lgóicas', 'lgóicat', 'lgóicau', 'lgóicav', 'lgóicaw', 'lgóicax', 'lgóicay', 'lgóicaz', 'lgóicaá', 'lgóicaé', 'lgóicaí', 'lgóicaó', 'lgóicaú', 'góica', 'lóica', 'lgica', 'lgóca', 'lgóia', 'lgóic', 'lgóica', 'agóica', 'bgóica', 'cgóica', 'dgóica', 'egóica', 'fgóica', 'ggóica', 'hgóica', 'igóica', 'jgóica', 'kgóica', 'lgóica', 'mgóica', 'ngóica', 'ñgóica', 'ogóica', 'pgóica', 'qgóica', 'rgóica', 'sgóica', 'tgóica', 'ugóica', 'vgóica', 'wgóica', 'xgóica', 'ygóica', 'zgóica', 'ágóica', 'égóica', 'ígóica', 'ógóica', 'úgóica', 'laóica', 'lbóica', 'lcóica', 'ldóica', 'leóica', 'lfóica', 'lgóica', 'lhóica', 'lióica', 'ljóica', 'lkóica', 'llóica', 'lmóica', 'lnóica', 'lñóica', 'loóica', 'lpóica', 'lqóica', 'lróica', 'lsóica', 'ltóica', 'luóica', 'lvóica', 'lwóica', 'lxóica', 'lyóica', 'lzóica', 'láóica', 'léóica', 'líóica', 'lóóica', 'lúóica', 'lgaica', 'lgbica', 'lgcica', 'lgdica', 'lgeica', 'lgfica', 'lggica', 'lghica', 'lgiica', 'lgjica', 'lgkica', 'lglica', 'lgmica', 'lgnica', 'lgñica', 'lgoica', 'lgpica', 'lgqica', 'lgrica', 'lgsica', 'lgtica', 'lguica', 'lgvica', 'lgwica', 'lgxica', 'lgyica', 'lgzica', 'lgáica', 'lgéica', 'lgíica', 'lgóica', 'lgúica', 'lgóaca', 'lgóbca', 'lgócca', 'lgódca', 'lgóeca', 'lgófca', 'lgógca', 'lgóhca', 'lgóica', 'lgójca', 'lgókca', 'lgólca', 'lgómca', 'lgónca', 'lgóñca', 'lgóoca', 'lgópca', 'lgóqca', 'lgórca', 'lgósca', 'lgótca', 'lgóuca', 'lgóvca', 'lgówca', 'lgóxca', 'lgóyca', 'lgózca', 'lgóáca', 'lgóéca', 'lgóíca', 'lgóóca', 'lgóúca', 'lgóiaa', 'lgóiba', 'lgóica', 'lgóida', 'lgóiea', 'lgóifa', 'lgóiga', 'lgóiha', 'lgóiia', 'lgóija', 'lgóika', 'lgóila', 'lgóima', 'lgóina', 'lgóiña', 'lgóioa', 'lgóipa', 'lgóiqa', 'lgóira', 'lgóisa', 'lgóita', 'lgóiua', 'lgóiva', 'lgóiwa', 'lgóixa', 'lgóiya', 'lgóiza', 'lgóiáa', 'lgóiéa', 'lgóiía', 'lgóióa', 'lgóiúa', 'lgóica', 'lgóicb', 'lgóicc', 'lgóicd', 'lgóice', 'lgóicf', 'lgóicg', 'lgóich', 'lgóici', 'lgóicj', 'lgóick', 'lgóicl', 'lgóicm', 'lgóicn', 'lgóicñ', 'lgóico', 'lgóicp', 'lgóicq', 'lgóicr', 'lgóics', 'lgóict', 'lgóicu', 'lgóicv', 'lgóicw', 'lgóicx', 'lgóicy', 'lgóicz', 'lgóicá', 'lgóicé', 'lgóicí', 'lgóicó', 'lgóicú', 'lgóicaa', 'lgóicab', 'lgóicac', 'lgóicad', 'lgóicae', 'lgóicaf', 'lgóicag', 'lgóicah', 'lgóicai', 'lgóicaj', 'lgóicak', 'lgóical', 'lgóicam', 'lgóican', 'lgóicañ', 'lgóicao', 'lgóicap', 'lgóicaq', 'lgóicar', 'lgóicas', 'lgóicat', 'lgóicau', 'lgóicav', 'lgóicaw', 'lgóicax', 'lgóicay', 'lgóicaz', 'lgóicaá', 'lgóicaé', 'lgóicaí', 'lgóicaó', 'lgóicaú', 'glóica', 'lógica', 'lgióca', 'lgócia', 'lgóiac']\n"
          ]
        }
      ]
    },
    {
      "cell_type": "code",
      "metadata": {
        "colab": {
          "base_uri": "https://localhost:8080/"
        },
        "id": "umCUV5-GdwNj",
        "outputId": "29e98ba7-a220-4f68-adab-9024fdd89a72"
      },
      "source": [
        "evaluador(lista_pruebas)"
      ],
      "execution_count": 38,
      "outputs": [
        {
          "output_type": "stream",
          "name": "stdout",
          "text": [
            "La tasa de acierto es: 65.71% de 175 palabras\n"
          ]
        }
      ]
    },
    {
      "cell_type": "markdown",
      "metadata": {
        "id": "qh3KLB7akvZO"
      },
      "source": [
        "#Limitación del corrector"
      ]
    },
    {
      "cell_type": "code",
      "metadata": {
        "colab": {
          "base_uri": "https://localhost:8080/"
        },
        "id": "5cdAC6bIk2_i",
        "outputId": "830240c7-95a0-4612-bb49-f2eeddd3fed7"
      },
      "source": [
        "def evaluador(pruebas,vocabulario):\n",
        "  numero_palabras = len(pruebas)\n",
        "  aciertos = 0\n",
        "  desconocidas = 0\n",
        "  for palabra_correcta, palabra_incorrecta in pruebas:\n",
        "    palabra_corregida = corrector(palabra_incorrecta)\n",
        "    desconocidas += (palabra_correcta not in vocabulario)\n",
        "    if palabra_corregida == palabra_correcta:\n",
        "      aciertos +=1\n",
        "  tasa_acierto = round(aciertos*100/numero_palabras,2)\n",
        "  tasa_desconocidas = round(desconocidas*100/numero_palabras,2)\n",
        "  print(f\"La tasa de acierto es: {tasa_acierto}% de {numero_palabras} palabras\")\n",
        "  print(f\"La tasa de desconocidas es: {tasa_desconocidas}% de {numero_palabras} palabras\")\n",
        "\n",
        "evaluador(lista_pruebas, palabras_unicas)"
      ],
      "execution_count": 39,
      "outputs": [
        {
          "output_type": "stream",
          "name": "stdout",
          "text": [
            "La tasa de acierto es: 65.71% de 175 palabras\n",
            "La tasa de desconocidas es: 12.0% de 175 palabras\n"
          ]
        }
      ]
    },
    {
      "cell_type": "code",
      "metadata": {
        "colab": {
          "base_uri": "https://localhost:8080/"
        },
        "id": "4_rSw59sl4Go",
        "outputId": "f431a9ff-271d-432b-8d5f-5e5729b5d8d9"
      },
      "source": [
        "100 - 12"
      ],
      "execution_count": 40,
      "outputs": [
        {
          "output_type": "execute_result",
          "data": {
            "text/plain": [
              "88"
            ]
          },
          "metadata": {},
          "execution_count": 40
        }
      ]
    },
    {
      "cell_type": "code",
      "metadata": {
        "colab": {
          "base_uri": "https://localhost:8080/"
        },
        "id": "r5GsjdrumDch",
        "outputId": "7441d54e-d18b-4923-f994-32b84043fdf5"
      },
      "source": [
        "88 - 65.71"
      ],
      "execution_count": 41,
      "outputs": [
        {
          "output_type": "execute_result",
          "data": {
            "text/plain": [
              "22.290000000000006"
            ]
          },
          "metadata": {},
          "execution_count": 41
        }
      ]
    },
    {
      "cell_type": "code",
      "metadata": {
        "colab": {
          "base_uri": "https://localhost:8080/",
          "height": 35
        },
        "id": "wwZlmPv8mHrK",
        "outputId": "aa076aff-8c1d-4e5f-f32d-03c85b11f545"
      },
      "source": [
        "corrector('lgóica')"
      ],
      "execution_count": 42,
      "outputs": [
        {
          "output_type": "execute_result",
          "data": {
            "text/plain": [
              "'lógica'"
            ],
            "application/vnd.google.colaboratory.intrinsic+json": {
              "type": "string"
            }
          },
          "metadata": {},
          "execution_count": 42
        }
      ]
    }
  ]
}