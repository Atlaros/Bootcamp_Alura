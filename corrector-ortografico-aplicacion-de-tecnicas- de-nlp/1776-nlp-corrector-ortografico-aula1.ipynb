{
  "nbformat": 4,
  "nbformat_minor": 0,
  "metadata": {
    "colab": {
      "name": "NLP - Corrector Ortográfico.ipynb",
      "provenance": []
    },
    "kernelspec": {
      "name": "python3",
      "display_name": "Python 3"
    }
  },
  "cells": [
    {
      "cell_type": "code",
      "metadata": {
        "colab": {
          "base_uri": "https://localhost:8080/"
        },
        "id": "KtXP9EkkvPr8",
        "outputId": "8c3d1702-392a-4b24-97b7-70b97bdcea2f"
      },
      "source": [
        "open('textos_articulos.txt','r')"
      ],
      "execution_count": 1,
      "outputs": [
        {
          "output_type": "execute_result",
          "data": {
            "text/plain": [
              "<_io.TextIOWrapper name='textos_articulos.txt' mode='r' encoding='UTF-8'>"
            ]
          },
          "metadata": {
            "tags": []
          },
          "execution_count": 1
        }
      ]
    },
    {
      "cell_type": "code",
      "metadata": {
        "colab": {
          "base_uri": "https://localhost:8080/"
        },
        "id": "OwFAMGL6wfbu",
        "outputId": "dfc2c0bd-2451-4640-d96c-c4dd0c8844d1"
      },
      "source": [
        "with open('textos_articulos.txt','r') as f:\r\n",
        "  articulos = f.read()\r\n",
        "print(articulos[:500])"
      ],
      "execution_count": 3,
      "outputs": [
        {
          "output_type": "stream",
          "text": [
            "\n",
            "\"HTTP: Diferencias entre GET y POST \"\n",
            "2020-10-21\n",
            "\"Vea las diferencias entre los métodos GET y POST de HTTP. Consulta la funcionalidad de cada uno y cuándo usarlos en la web.\"\n",
            "\"yuri-oliveira\"\n",
            "\"yuri.oliveira@alura.com.br\"\n",
            "\"front-end\"\n",
            "\n",
            "Cuando vamos a acceder a un sistema web, es bastante común pasar por una pantalla de inicio de sesión, en la que ponemos nuestras credenciales para acceder al sistema.\n",
            "Estas informaciones deben ser confidenciales, sin embargo, cuando intenté iniciar sesión en una ap\n"
          ],
          "name": "stdout"
        }
      ]
    },
    {
      "cell_type": "code",
      "metadata": {
        "colab": {
          "base_uri": "https://localhost:8080/"
        },
        "id": "-CovjhcqIXY8",
        "outputId": "cb3519b5-78e3-447a-b3b3-2ecf6dd7df7f"
      },
      "source": [
        "len(articulos)"
      ],
      "execution_count": 9,
      "outputs": [
        {
          "output_type": "execute_result",
          "data": {
            "text/plain": [
              "288071"
            ]
          },
          "metadata": {
            "tags": []
          },
          "execution_count": 9
        }
      ]
    },
    {
      "cell_type": "code",
      "metadata": {
        "colab": {
          "base_uri": "https://localhost:8080/"
        },
        "id": "0PtQRTL8IaeM",
        "outputId": "02fc5901-bd81-4f04-f2b6-16c3ea8f8abe"
      },
      "source": [
        "texto_ejemplo = 'hola que tal'\r\n",
        "print(len(texto_ejemplo))\r\n",
        "palabras = texto_ejemplo.split()\r\n",
        "print(len(palabras))\r\n",
        "print(palabras)"
      ],
      "execution_count": 11,
      "outputs": [
        {
          "output_type": "stream",
          "text": [
            "12\n",
            "3\n",
            "['hola', 'que', 'tal']\n"
          ],
          "name": "stdout"
        }
      ]
    },
    {
      "cell_type": "code",
      "metadata": {
        "colab": {
          "base_uri": "https://localhost:8080/"
        },
        "id": "NVd5IT5iIwpw",
        "outputId": "34e139f1-8e98-4d59-e8a0-8a638a2707b7"
      },
      "source": [
        "texto_ejemplo = 'hola Christian, ¿que tal?'\r\n",
        "print(len(texto_ejemplo))\r\n",
        "tokens = texto_ejemplo.split()\r\n",
        "print(len(tokens))\r\n",
        "print(tokens)"
      ],
      "execution_count": 13,
      "outputs": [
        {
          "output_type": "stream",
          "text": [
            "25\n",
            "4\n",
            "['hola', 'Christian,', '¿que', 'tal?']\n"
          ],
          "name": "stdout"
        }
      ]
    }
  ]
}