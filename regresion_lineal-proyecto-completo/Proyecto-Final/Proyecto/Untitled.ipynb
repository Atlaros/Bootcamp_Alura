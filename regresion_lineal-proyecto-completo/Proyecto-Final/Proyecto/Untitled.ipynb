{
  "nbformat": 4,
  "nbformat_minor": 0,
  "metadata": {
    "colab": {
      "name": "Untitled3.ipynb",
      "provenance": []
    },
    "kernelspec": {
      "name": "python3",
      "display_name": "Python 3"
    }
  },
  "cells": [
    {
      "cell_type": "code",
      "metadata": {
        "colab": {
          "base_uri": "https://localhost:8080/"
        },
        "id": "2e1p7fmJ98Zv",
        "outputId": "4f89adfd-694d-405e-b5aa-21dd355ee58c"
      },
      "source": [
        "import pickle\r\n",
        " \r\n",
        "modelo = open('modelo_consumo_cerveza','rb')\r\n",
        "lm_new = pickle.load(modelo)\r\n",
        "modelo.close()\r\n",
        " \r\n",
        "temp_max = 30.5\r\n",
        "lluvia = 12.2\r\n",
        "fds = 0\r\n",
        "entrada = [[temp_max, lluvia, fds]]\r\n",
        "print('{} litros'.format(lm_new.predict(entrada)[0].round(2)))"
      ],
      "execution_count": 1,
      "outputs": [
        {
          "output_type": "stream",
          "text": [
            "26094.9 litros\n"
          ],
          "name": "stdout"
        }
      ]
    },
    {
      "cell_type": "code",
      "metadata": {
        "id": "VRZK4RqE996S"
      },
      "source": [
        ""
      ],
      "execution_count": null,
      "outputs": []
    }
  ]
}