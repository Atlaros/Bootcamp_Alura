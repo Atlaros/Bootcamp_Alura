{
  "nbformat": 4,
  "nbformat_minor": 0,
  "metadata": {
    "kernelspec": {
      "display_name": "Python 3",
      "language": "python",
      "name": "python3"
    },
    "language_info": {
      "codemirror_mode": {
        "name": "ipython",
        "version": 3
      },
      "file_extension": ".py",
      "mimetype": "text/x-python",
      "name": "python",
      "nbconvert_exporter": "python",
      "pygments_lexer": "ipython3",
      "version": "3.7.0"
    },
    "colab": {
      "name": "Regresión Lineal - Exerjicio.ipynb",
      "provenance": [],
      "collapsed_sections": []
    }
  },
  "cells": [
    {
      "cell_type": "markdown",
      "metadata": {
        "id": "9-sUpxJnAx_1"
      },
      "source": [
        "<h1 style='color: green; font-size: 36px; font-weight: bold;'>Data Science  - Regresión Lineal</h1>"
      ]
    },
    {
      "cell_type": "markdown",
      "metadata": {
        "id": "d1tr39BYAx_5"
      },
      "source": [
        "# <font color='red' style='font-size: 30px;'>Conociendo el Dataset</font>\n",
        "\n",
        "<hr style='border: 2px solid red;'>"
      ]
    },
    {
      "cell_type": "markdown",
      "metadata": {
        "id": "g0B37mpkAx_9"
      },
      "source": [
        "## Importando bibliotecas"
      ]
    },
    {
      "cell_type": "code",
      "metadata": {
        "id": "56nferJfAx_-"
      },
      "source": [
        ""
      ],
      "execution_count": null,
      "outputs": []
    },
    {
      "cell_type": "markdown",
      "metadata": {
        "id": "FsjHXJq0Ax__"
      },
      "source": [
        "## Bibliotecas opcionales"
      ]
    },
    {
      "cell_type": "code",
      "metadata": {
        "id": "Sdg1G9rnAyAA"
      },
      "source": [
        ""
      ],
      "execution_count": null,
      "outputs": []
    },
    {
      "cell_type": "markdown",
      "metadata": {
        "id": "THqTQnK0AyAA"
      },
      "source": [
        "## El Dataset y el Proyecto\n",
        "<hr>\n",
        "\n",
        "### Fuente: https://www.kaggle.com/greenwing1985/housepricing\n",
        "\n",
        "### Descripción:\n",
        "<p style='font-size: 18px; line-height: 2; margin: 10px 50px; text-align: justify;'>Nuestro objetivo en este ejercicio es crear un modelo de Machine Learning, mediante la técnica de regresión lineal, que haga predicciones sobre los precios de las propriedades a partir de un conjunto de características conocidas de las propriedades.</p>\n",
        "\n",
        "<p style='font-size: 18px; line-height: 2; margin: 10px 50px; text-align: justify;'>Usaremos un dataset disponible en Kaggle que fue generado por ordenador para entrenamiento de machine learning para principiantes. Este conjunto de datos fue modificado para facilitar nuestro objetivo, que es fijar los conocimientos adquiridos en el proyecto de Regresión lineal.</p>\n",
        "\n",
        "<p style='font-size: 18px; line-height: 2; margin: 10px 50px; text-align: justify;'>Siga los pasos propuestos en los comentarios arriba de cada celda y buenos estudios.</p>\n",
        "\n",
        "### Datos:\n",
        "<ul style='font-size: 18px; line-height: 2; text-align: justify;'>\n",
        "    <li><b>precio</b> - Precio de la propriedad</li>\n",
        "    <li><b>área</b> - Área de la propriedad</li>\n",
        "    <li><b>garaje</b> - Número de plazas de garaje</li>\n",
        "    <li><b>baño</b> - Número de baños de la propriedad</li>\n",
        "    <li><b>chimenea</b> - Número de chimeneas da la propriedad</li>\n",
        "    <li><b>mármol</b> - Si la propiedad está acabada en mármol blanco (1) o no (0)</li>\n",
        "    <li><b>piso</b> - Si la propiedad tiene más de un piso (1) o no (0)</li>\n",
        "</ul>"
      ]
    },
    {
      "cell_type": "markdown",
      "metadata": {
        "id": "2uNYZM7yAyAB"
      },
      "source": [
        "## Lectura de los datos\n",
        "\n",
        "Dataset está en la carpeta \"Datos\" con el nombre \"HousePrices_HalfMil.csv\", y el separador \";\" es usado."
      ]
    },
    {
      "cell_type": "code",
      "metadata": {
        "id": "DEhVoqFFAyAB"
      },
      "source": [
        ""
      ],
      "execution_count": null,
      "outputs": []
    },
    {
      "cell_type": "markdown",
      "metadata": {
        "id": "bzfGKnqwAyAC"
      },
      "source": [
        "## Ver los datos"
      ]
    },
    {
      "cell_type": "code",
      "metadata": {
        "scrolled": true,
        "id": "R7Fh3AxDAyAC"
      },
      "source": [
        ""
      ],
      "execution_count": null,
      "outputs": []
    },
    {
      "cell_type": "markdown",
      "metadata": {
        "id": "sauYz6oBAyAD"
      },
      "source": [
        "## Verificando el tamaño del dataset"
      ]
    },
    {
      "cell_type": "code",
      "metadata": {
        "id": "8yM2k9HHAyAD"
      },
      "source": [
        ""
      ],
      "execution_count": null,
      "outputs": []
    },
    {
      "cell_type": "markdown",
      "metadata": {
        "id": "n_ekY2HbAyAD"
      },
      "source": [
        "# <font color='red' style='font-size: 30px;'>Analisis Preliminar</font>\n",
        "<hr style='border: 2px solid red;'>"
      ]
    },
    {
      "cell_type": "markdown",
      "metadata": {
        "id": "F6QOnErfAyAE"
      },
      "source": [
        "## Estadísticos descriptivos"
      ]
    },
    {
      "cell_type": "code",
      "metadata": {
        "id": "pCqaJngzAyAE"
      },
      "source": [
        ""
      ],
      "execution_count": null,
      "outputs": []
    },
    {
      "cell_type": "markdown",
      "metadata": {
        "id": "xxMNEPZPAyAG"
      },
      "source": [
        "## Matriz de correlación\n",
        "\n",
        "<p style='font-size: 18px; line-height: 2; margin: 10px 50px; text-align: justify;'>El <b> coeficiente de correlación </b> es una medida de asociación lineal entre dos variables y su valor está entre <b> -1 </b> y <b> +1 </b>, dónde <b> - 1 </b> indica asociación negativa perfecta y <b> +1 </b> indica asociación positiva perfecta.</p>\n",
        "\n",
        "### Observe las correlaciones entre las variables:\n",
        "<ul style='font-size: 16px; line-height: 2; text-align: justify;'>\n",
        "    <li>¿Cuáles están más correlacionadas con la variable dependiente (precio)?</li>\n",
        "    <li>¿Cuál es la relación entre ellas (positiva o negativa)?</li>\n",
        "    <li>¿Hay correlación fuerte entre las variables explicativas?</li>\n",
        "</ul>"
      ]
    },
    {
      "cell_type": "code",
      "metadata": {
        "id": "bkkGehnkAyAH"
      },
      "source": [
        ""
      ],
      "execution_count": null,
      "outputs": []
    },
    {
      "cell_type": "markdown",
      "metadata": {
        "id": "V3tVlGhnAyAJ"
      },
      "source": [
        "# <font color='red' style='font-size: 30px;'>Comportamiento de la Variable Dependiente (Y)</font>\n",
        "<hr style='border: 2px solid red;'>"
      ]
    },
    {
      "cell_type": "markdown",
      "metadata": {
        "id": "XjRWFvUpAyAJ"
      },
      "source": [
        "# Análisis gráfico"
      ]
    },
    {
      "cell_type": "markdown",
      "metadata": {
        "id": "84nGQTBRAyAK"
      },
      "source": [
        "<img width='700px' src='https://caelum-online-public.s3.amazonaws.com/ESP-1774-regresion-lineal/Box-Plot.png'>"
      ]
    },
    {
      "cell_type": "markdown",
      "metadata": {
        "id": "DaC4ANZvAyAK"
      },
      "source": [
        "## Importando la biblioteca seaborn"
      ]
    },
    {
      "cell_type": "code",
      "metadata": {
        "id": "_VrPNnUZAyAK"
      },
      "source": [
        ""
      ],
      "execution_count": null,
      "outputs": []
    },
    {
      "cell_type": "markdown",
      "metadata": {
        "id": "2bs6SYyQAyAL"
      },
      "source": [
        "## Configure el estilo y color de los gráficos (opcional)"
      ]
    },
    {
      "cell_type": "code",
      "metadata": {
        "id": "_VL4mJHgAyAN"
      },
      "source": [
        "# palette -> Accent, Accent_r, Blues, Blues_r, BrBG, BrBG_r, BuGn, BuGn_r, BuPu, BuPu_r, CMRmap, CMRmap_r, Dark2, Dark2_r, GnBu, GnBu_r, Greens, Greens_r, Greys, Greys_r, OrRd, OrRd_r, Oranges, Oranges_r, PRGn, PRGn_r, Paired, Paired_r, Pastel1, Pastel1_r, Pastel2, Pastel2_r, PiYG, PiYG_r, PuBu, PuBuGn, PuBuGn_r, PuBu_r, PuOr, PuOr_r, PuRd, PuRd_r, Purples, Purples_r, RdBu, RdBu_r, RdGy, RdGy_r, RdPu, RdPu_r, RdYlBu, RdYlBu_r, RdYlGn, RdYlGn_r, Reds, Reds_r, Set1, Set1_r, Set2, Set2_r, Set3, Set3_r, Spectral, Spectral_r, Wistia, Wistia_r, YlGn, YlGnBu, YlGnBu_r, YlGn_r, YlOrBr, YlOrBr_r, YlOrRd, YlOrRd_r, afmhot, afmhot_r, autumn, autumn_r, binary, binary_r, bone, bone_r, brg, brg_r, bwr, bwr_r, cividis, cividis_r, cool, cool_r, coolwarm, coolwarm_r, copper, copper_r, cubehelix, cubehelix_r, flag, flag_r, gist_earth, gist_earth_r, gist_gray, gist_gray_r, gist_heat, gist_heat_r, gist_ncar, gist_ncar_r, gist_rainbow, gist_rainbow_r, gist_stern, gist_stern_r, gist_yarg, gist_yarg_r, gnuplot, gnuplot2, gnuplot2_r, gnuplot_r, gray, gray_r, hot, hot_r, hsv, hsv_r, icefire, icefire_r, inferno, inferno_r, jet, jet_r, magma, magma_r, mako, mako_r, nipy_spectral, nipy_spectral_r, ocean, ocean_r, pink, pink_r, plasma, plasma_r, prism, prism_r, rainbow, rainbow_r, rocket, rocket_r, seismic, seismic_r, spring, spring_r, summer, summer_r, tab10, tab10_r, tab20, tab20_r, tab20b, tab20b_r, tab20c, tab20c_r, terrain, terrain_r, viridis, viridis_r, vlag, vlag_r, winter, winter_r\n",
        "sns.set_palette(\"Accent\")\n",
        "\n",
        "# style -> white, dark, whitegrid, darkgrid, ticks\n",
        "sns.set_style(\"darkgrid\")"
      ],
      "execution_count": null,
      "outputs": []
    },
    {
      "cell_type": "markdown",
      "metadata": {
        "id": "4Ylc_hIYAyAP"
      },
      "source": [
        "## Box plot de la variable *dependiente* (y)\n",
        "\n",
        "\n",
        "### Evalúe el comportamiento de la distribución de la variable dependiente:\n",
        "<ul style='font-size: 16px; line-height: 2; text-align: justify;'>\n",
        "    <li>¿Parece haber valores atípicos?</li>\n",
        "    <li>¿El box plot muestra alguna asimetría?</li>\n",
        "</ul>"
      ]
    },
    {
      "cell_type": "markdown",
      "metadata": {
        "id": "5qUbCL34AyAQ"
      },
      "source": [
        "https://seaborn.pydata.org/generated/seaborn.boxplot.html?highlight=boxplot#seaborn.boxplot"
      ]
    },
    {
      "cell_type": "code",
      "metadata": {
        "id": "hR1MnsIjAyAQ"
      },
      "source": [
        ""
      ],
      "execution_count": null,
      "outputs": []
    },
    {
      "cell_type": "markdown",
      "metadata": {
        "id": "8rf7hJ1pAyAR"
      },
      "source": [
        "## Investigando la variable *dependiente* (y) junto con otras características.\n",
        "\n",
        "Construya un box plot de la variable dependiente junto con cada variable explicativa (solo las categóricas).\n",
        "\n",
        "### Evalúe el comportamiento de la distribución de la variable dependiente con cada variable explicativa categórica:\n",
        "\n",
        "<ul style='font-size: 16px; line-height: 2; text-align: justify;'>\n",
        "    <li>¿Los estadísticos cambian significativamente entre las categorías?</li>\n",
        "    <li>¿Tiene el box plot alguna tendencia bien definida?</li>\n",
        "</ul>"
      ]
    },
    {
      "cell_type": "markdown",
      "metadata": {
        "id": "wNBZ-N7eAyAS"
      },
      "source": [
        "### Box-plot (Precio X Garaje)"
      ]
    },
    {
      "cell_type": "code",
      "metadata": {
        "id": "SwMjUccSAyAS"
      },
      "source": [
        ""
      ],
      "execution_count": null,
      "outputs": []
    },
    {
      "cell_type": "markdown",
      "metadata": {
        "id": "OMxMzA76AyAT"
      },
      "source": [
        "### Box-plot (Precio X Baños)"
      ]
    },
    {
      "cell_type": "code",
      "metadata": {
        "id": "uh7yVHaoAyAT"
      },
      "source": [
        ""
      ],
      "execution_count": null,
      "outputs": []
    },
    {
      "cell_type": "markdown",
      "metadata": {
        "id": "3DgpITc0AyAU"
      },
      "source": [
        "### Box-plot (Precio X Chimenea)"
      ]
    },
    {
      "cell_type": "code",
      "metadata": {
        "id": "UZN0lcI9AyAV"
      },
      "source": [
        ""
      ],
      "execution_count": null,
      "outputs": []
    },
    {
      "cell_type": "markdown",
      "metadata": {
        "id": "pRlL_9DWAyAW"
      },
      "source": [
        "### Box-plot (Precio X Acabado de Mármol)"
      ]
    },
    {
      "cell_type": "code",
      "metadata": {
        "id": "ushfwNTBAyAW"
      },
      "source": [
        ""
      ],
      "execution_count": null,
      "outputs": []
    },
    {
      "cell_type": "markdown",
      "metadata": {
        "id": "e75o7nTZAyAX"
      },
      "source": [
        "### Box-plot (Precio X Pisos)"
      ]
    },
    {
      "cell_type": "code",
      "metadata": {
        "id": "yUVvl0E1AyAX"
      },
      "source": [
        ""
      ],
      "execution_count": null,
      "outputs": []
    },
    {
      "cell_type": "markdown",
      "metadata": {
        "id": "-TrA4QgwAyAY"
      },
      "source": [
        "## Distribución de frecuencias de la variable *dependiente* (y)\n",
        "\n",
        "Construya un histograma de la variable dependiente (Precio).\n",
        "\n",
        "### Evalúe:\n",
        "<ul style='font-size: 16px; line-height: 2; text-align: justify;'>\n",
        "    <li>¿Parece asimétrica la distribución de frecuencias de la variable dependiente?</li>\n",
        "    <li>¿Es posible suponer que la variable dependiente sigue una distribución normal?</li>\n",
        "</ul>"
      ]
    },
    {
      "cell_type": "markdown",
      "metadata": {
        "id": "lIdR3XFNAyAY"
      },
      "source": [
        "https://seaborn.pydata.org/generated/seaborn.distplot.html?highlight=distplot#seaborn.distplot"
      ]
    },
    {
      "cell_type": "code",
      "metadata": {
        "id": "LcuIrQIpAyAY"
      },
      "source": [
        ""
      ],
      "execution_count": null,
      "outputs": []
    },
    {
      "cell_type": "markdown",
      "metadata": {
        "id": "rpraAcXtAyAZ"
      },
      "source": [
        "## Gráficos de dispersión entre las variables del dataset"
      ]
    },
    {
      "cell_type": "markdown",
      "metadata": {
        "id": "d_08KGdCAyAZ"
      },
      "source": [
        "## Graficar el pairplot fijando solo una variable en el eje y\n",
        "\n",
        "https://seaborn.pydata.org/generated/seaborn.pairplot.html?highlight=pairplot#seaborn.pairplot\n",
        "\n",
        "Grafique diagramas de dispersión de la variable dependiente contra cada variable explicativa. Para ello utilice el pairplot de la biblioteca seaborn.\n",
        "\n",
        "Construya el mismo gráfico usando el parámetro kind = 'reg'.\n",
        "\n",
        "### Evalúe:\n",
        "<ul style='font-size: 16px; line-height: 2; text-align: justify;'>\n",
        "    <li>¿Es posible identificar alguna relación lineal entre las variables?</li>\n",
        "    <li>¿La relación es positiva o negativa?</li>\n",
        "    <li>Compare con los resultados obtenidos en la matriz de correlación.</li>\n",
        "</ul>"
      ]
    },
    {
      "cell_type": "code",
      "metadata": {
        "id": "cBMqal_fAyAa"
      },
      "source": [
        ""
      ],
      "execution_count": null,
      "outputs": []
    },
    {
      "cell_type": "code",
      "metadata": {
        "id": "fNraDqbSAyAa"
      },
      "source": [
        ""
      ],
      "execution_count": null,
      "outputs": []
    },
    {
      "cell_type": "markdown",
      "metadata": {
        "id": "6sjzIib4AyAb"
      },
      "source": [
        "# <font color='red' style='font-size: 30px;'>Estimando un Modelo de Regresión Lineal</font>\n",
        "<hr style='border: 2px solid red;'>"
      ]
    },
    {
      "cell_type": "markdown",
      "metadata": {
        "id": "K9yNeb9gAyAb"
      },
      "source": [
        "## Importando *train_test_split* de la biblioteca *scikit-learn*\n",
        "\n",
        "https://scikit-learn.org/stable/modules/generated/sklearn.model_selection.train_test_split.html"
      ]
    },
    {
      "cell_type": "code",
      "metadata": {
        "id": "lYDnzDWwAyAb"
      },
      "source": [
        ""
      ],
      "execution_count": null,
      "outputs": []
    },
    {
      "cell_type": "markdown",
      "metadata": {
        "id": "WuKxGRo0AyAb"
      },
      "source": [
        "## Creando una Series (pandas) para almacenar la variable dependiente (y)"
      ]
    },
    {
      "cell_type": "code",
      "metadata": {
        "id": "Mm6H3zGBAyAd"
      },
      "source": [
        ""
      ],
      "execution_count": null,
      "outputs": []
    },
    {
      "cell_type": "markdown",
      "metadata": {
        "id": "IBA9WhpnAyAe"
      },
      "source": [
        "## Creando un DataFrame (pandas) para almacenar las variables explicativas (X)"
      ]
    },
    {
      "cell_type": "code",
      "metadata": {
        "id": "04XBfM-eAyAf"
      },
      "source": [
        ""
      ],
      "execution_count": null,
      "outputs": []
    },
    {
      "cell_type": "markdown",
      "metadata": {
        "id": "IyhXedo1AyAf"
      },
      "source": [
        "## Creando los datasets de entrenamiento y de prueba"
      ]
    },
    {
      "cell_type": "code",
      "metadata": {
        "id": "lmytUnMYAyAf"
      },
      "source": [
        ""
      ],
      "execution_count": null,
      "outputs": []
    },
    {
      "cell_type": "markdown",
      "metadata": {
        "id": "S7NslLDMAyAg"
      },
      "source": [
        "## Importando *LinearRegression* y *metrics* de la biblioteca *scikit-learn*\n",
        "\n",
        "https://scikit-learn.org/stable/modules/generated/sklearn.linear_model.LinearRegression.html\n",
        "\n",
        "https://scikit-learn.org/stable/modules/classes.html#regression-metrics"
      ]
    },
    {
      "cell_type": "code",
      "metadata": {
        "id": "AH-ewR56AyAg"
      },
      "source": [
        ""
      ],
      "execution_count": null,
      "outputs": []
    },
    {
      "cell_type": "markdown",
      "metadata": {
        "id": "3AMiTwrMAyAh"
      },
      "source": [
        "## Instanciando la clase *LinearRegression()*"
      ]
    },
    {
      "cell_type": "code",
      "metadata": {
        "id": "b-mcv9pgAyAh"
      },
      "source": [
        ""
      ],
      "execution_count": null,
      "outputs": []
    },
    {
      "cell_type": "markdown",
      "metadata": {
        "id": "tP0agpilAyAh"
      },
      "source": [
        "## Utilizando el método *fit()* para estimar el modelo lineal con los datos de ENTRENAMIENTO (y_train y X_train)\n",
        "\n",
        "https://scikit-learn.org/stable/modules/generated/sklearn.linear_model.LinearRegression.html#sklearn.linear_model.LinearRegression.fit"
      ]
    },
    {
      "cell_type": "code",
      "metadata": {
        "id": "5YOeAuZeAyAi"
      },
      "source": [
        ""
      ],
      "execution_count": null,
      "outputs": []
    },
    {
      "cell_type": "markdown",
      "metadata": {
        "id": "nQWeDAMPAyAi"
      },
      "source": [
        "## Obteniendo el coeficiente de determinación (R²) del modelo estimado con los datos de ENTRENAMIENTO\n",
        "\n",
        "https://scikit-learn.org/stable/modules/generated/sklearn.linear_model.LinearRegression.html#sklearn.linear_model.LinearRegression.score\n",
        "\n",
        "\n",
        "### Evalúe:\n",
        "<ul style='font-size: 16px; line-height: 2; text-align: justify;'>\n",
        "    <li>¿El modelo presenta un buen ajuste?</li>\n",
        "    <li>¿Recuerdas lo que representa R²?</li>\n",
        "    <li>¿Qué podemos hacer para mejorar esta estadística?</li>\n",
        "</ul>"
      ]
    },
    {
      "cell_type": "code",
      "metadata": {
        "id": "Oq0B-qcrAyAi"
      },
      "source": [
        ""
      ],
      "execution_count": null,
      "outputs": []
    },
    {
      "cell_type": "markdown",
      "metadata": {
        "id": "GqFzeJnmAyAj"
      },
      "source": [
        "## Generando predicciones para los datos de PRUEBA (X_test) con el método *predict()*\n",
        "\n",
        "https://scikit-learn.org/stable/modules/generated/sklearn.linear_model.LinearRegression.html#sklearn.linear_model.LinearRegression.predict"
      ]
    },
    {
      "cell_type": "code",
      "metadata": {
        "id": "cAkVbFclAyAj"
      },
      "source": [
        ""
      ],
      "execution_count": null,
      "outputs": []
    },
    {
      "cell_type": "markdown",
      "metadata": {
        "id": "OF29qwHPAyAk"
      },
      "source": [
        "## Obteniendo el coeficiente de determinación (R²) para las predicciones de nuestro modelo\n",
        "\n",
        "https://scikit-learn.org/stable/modules/generated/sklearn.metrics.r2_score.html#sklearn.metrics.r2_score"
      ]
    },
    {
      "cell_type": "code",
      "metadata": {
        "id": "KiAR3VpwAyAk"
      },
      "source": [
        ""
      ],
      "execution_count": null,
      "outputs": []
    },
    {
      "cell_type": "markdown",
      "metadata": {
        "id": "WV2RiID_AyAk"
      },
      "source": [
        "# <font color='red' style='font-size: 30px;'>Obteniendo Predicciones Puntuales</font>\n",
        "<hr style='border: 2px solid red;'>"
      ]
    },
    {
      "cell_type": "markdown",
      "metadata": {
        "id": "hiwTqhnvAyAk"
      },
      "source": [
        "## Creando un simulador simple\n",
        "\n",
        "Cree un simulador que genere estimaciones de precios a partir de un conjunto de informaciones sobre la propiedad."
      ]
    },
    {
      "cell_type": "code",
      "metadata": {
        "id": "2c2H9ia0AyAl"
      },
      "source": [
        ""
      ],
      "execution_count": null,
      "outputs": []
    },
    {
      "cell_type": "markdown",
      "metadata": {
        "id": "oAmx0LWjAyAl"
      },
      "source": [
        "# <font color='red' style='font-size: 30px;'>Métricas de Regresión</font>\n",
        "<hr style='border: 2px solid red;'>"
      ]
    },
    {
      "cell_type": "markdown",
      "metadata": {
        "id": "dXHHQQ8YAyAl"
      },
      "source": [
        "## Métricas da regresión\n",
        "<hr>\n",
        "\n",
        "fuente: https://scikit-learn.org/stable/modules/model_evaluation.html#regression-metrics\n",
        "\n",
        "Algunas estadísticas obtenidas del modelo de regresión son muy útiles como criterio para comparar varios modelos estimados y seleccionar el mejor modelo. Las principales métricas de regresión que scikit-learn pone a disposición para los modelos lineales son las siguientes:\n",
        "\n",
        "### Error Cuadrático Medio\n",
        "\n",
        "Media de los cuadrados de los errores. Los mejores ajustes tienen un $EQM$ más bajo.\n",
        "\n",
        "$$EQM(y, \\hat{y}) = \\frac 1n\\sum_{i=0}^{n-1}(y_i-\\hat{y}_i)^2$$\n",
        "\n",
        "### Raíz del Error Cuadrático Medio\n",
        "\n",
        "Raíz cuadrada de la media de los cuadrados de los errores. Los mejores ajustes tienen un $\\sqrt{EQM}$ más bajo.\n",
        "\n",
        "$$\\sqrt{EQM(y, \\hat{y})} = \\sqrt{\\frac 1n\\sum_{i=0}^{n-1}(y_i-\\hat{y}_i)^2}$$\n",
        "\n",
        "### Coeficiente de Determinación - R²\n",
        "\n",
        "El coeficiente de determinación (R²) es una medida de resumen que indica cuánto se ajusta la recta de regresión a los datos. Es un valor entre 0 y 1.\n",
        "\n",
        "$$R^2(y, \\hat{y}) = 1 - \\frac {\\sum_{i=0}^{n-1}(y_i-\\hat{y}_i)^2}{\\sum_{i=0}^{n-1}(y_i-\\bar{y}_i)^2}$$"
      ]
    },
    {
      "cell_type": "markdown",
      "metadata": {
        "id": "z607Ku1uAyAn"
      },
      "source": [
        "## Creando un dataframe con las métricas"
      ]
    },
    {
      "cell_type": "code",
      "metadata": {
        "id": "lQ9l6bFgAyAo"
      },
      "source": [
        ""
      ],
      "execution_count": null,
      "outputs": []
    },
    {
      "cell_type": "markdown",
      "metadata": {
        "id": "y2EtIguHAyAp"
      },
      "source": [
        "# <font color='red' style='font-size: 30px;'>Guardando y cargando el modelo estimado</font>\n",
        "\n",
        "\n",
        "<hr style='border: 2px solid red;'>"
      ]
    },
    {
      "cell_type": "markdown",
      "metadata": {
        "id": "e9ae6MTxAyAp"
      },
      "source": [
        "## Importando la biblioteca pickle"
      ]
    },
    {
      "cell_type": "code",
      "metadata": {
        "id": "D2qRHizcAyAq"
      },
      "source": [
        ""
      ],
      "execution_count": null,
      "outputs": []
    },
    {
      "cell_type": "markdown",
      "metadata": {
        "id": "HW0rql4-AyAr"
      },
      "source": [
        "## Guardando el modelo estimado"
      ]
    },
    {
      "cell_type": "code",
      "metadata": {
        "id": "aSMFkgzoAyAr"
      },
      "source": [
        ""
      ],
      "execution_count": null,
      "outputs": []
    },
    {
      "cell_type": "markdown",
      "metadata": {
        "id": "I8FrFPzdAyAr"
      },
      "source": [
        "### En un nuevo notebook/proyecto Python\n",
        "\n",
        "<h4 style='color: blue; font-weight: normal'>In [1]:</h4>\n",
        "\n",
        "```sh\n",
        "import pickle\n",
        "\n",
        "modelo = open('modelo_precio','rb')\n",
        "lm_new = pickle.load(modelo)\n",
        "modelo.close()\n",
        "\n",
        "area = 38\n",
        "garaje = 2\n",
        "banos = 4\n",
        "chimenea = 4\n",
        "marmol = 0\n",
        "pisos = 1\n",
        "\n",
        "entrada = [[area, garaje, banos, chimenea, marmol, pisos]]\n",
        "\n",
        "print('{} litros'.format(lm_new.predict(entrada)[0].round(2)))\n",
        "```\n",
        "\n",
        "<h4 style='color: red; font-weight: normal'>Out [1]:</h4>\n",
        "\n",
        "```\n",
        "$ 46389.80\n",
        "```"
      ]
    },
    {
      "cell_type": "code",
      "metadata": {
        "id": "y09pnuXQNa-E"
      },
      "source": [
        ""
      ],
      "execution_count": null,
      "outputs": []
    }
  ]
}