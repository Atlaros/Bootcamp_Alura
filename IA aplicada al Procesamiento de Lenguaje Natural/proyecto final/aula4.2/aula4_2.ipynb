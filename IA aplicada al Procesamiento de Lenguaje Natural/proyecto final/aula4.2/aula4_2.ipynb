{
  "nbformat": 4,
  "nbformat_minor": 0,
  "metadata": {
    "colab": {
      "name": "aula4.2.ipynb",
      "provenance": [],
      "collapsed_sections": []
    },
    "kernelspec": {
      "name": "python3",
      "display_name": "Python 3"
    },
    "language_info": {
      "name": "python"
    }
  },
  "cells": [
    {
      "cell_type": "code",
      "metadata": {
        "id": "dr-kjMPUrfCn"
      },
      "source": [
        "import pandas as pd\n",
        "pd.set_option('display.max_rows', None)\n",
        "pd.set_option('display.max_columns', None)\n",
        "pd.set_option('display.width', None)\n",
        "pd.set_option('display.max_colwidth', None)\n",
        "import warnings\n",
        "warnings.filterwarnings(\"ignore\")"
      ],
      "execution_count": null,
      "outputs": []
    },
    {
      "cell_type": "code",
      "metadata": {
        "id": "M8NSaAocriEo"
      },
      "source": [
        "df = pd.read_csv('/content/sample_data/colombian_elections.csv')"
      ],
      "execution_count": null,
      "outputs": []
    },
    {
      "cell_type": "code",
      "metadata": {
        "id": "_HGAVlSSri8M"
      },
      "source": [
        "df = df[['tweetText','polarity_value']].rename(columns={\"tweetText\":\"texto\",\"polarity_value\":\"sentimiento\"})"
      ],
      "execution_count": null,
      "outputs": []
    },
    {
      "cell_type": "code",
      "metadata": {
        "id": "AVilnlMOrlnb"
      },
      "source": [
        "df.head()"
      ],
      "execution_count": null,
      "outputs": []
    },
    {
      "cell_type": "code",
      "metadata": {
        "id": "4ik-aoQQrpO_"
      },
      "source": [
        "df['sentimiento'].value_counts()"
      ],
      "execution_count": null,
      "outputs": []
    },
    {
      "cell_type": "code",
      "metadata": {
        "id": "yqzEp7d7rtci"
      },
      "source": [
        "from sklearn.model_selection import train_test_split"
      ],
      "execution_count": null,
      "outputs": []
    },
    {
      "cell_type": "code",
      "metadata": {
        "id": "p5TcTZ3Jrv4X"
      },
      "source": [
        "X_train, X_test, y_train,y_test = train_test_split(df.texto,df.sentimiento,random_state = 41)"
      ],
      "execution_count": null,
      "outputs": []
    },
    {
      "cell_type": "code",
      "metadata": {
        "id": "9iAwVXaUryE5"
      },
      "source": [
        "X_train"
      ],
      "execution_count": null,
      "outputs": []
    },
    {
      "cell_type": "code",
      "metadata": {
        "id": "clmJfHiUry8f"
      },
      "source": [
        "from sklearn.linear_model import LinearRegression\n",
        "from sklearn.linear_model import LogisticRegression"
      ],
      "execution_count": null,
      "outputs": []
    },
    {
      "cell_type": "code",
      "metadata": {
        "id": "AzZEsFrvr29B"
      },
      "source": [
        "regression = LinearRegression()\n",
        "regression.fit(X_train,y_train)\n",
        "acc = regression.score(X_test,y_test)\n",
        "print(acc)"
      ],
      "execution_count": null,
      "outputs": []
    },
    {
      "cell_type": "code",
      "metadata": {
        "id": "Tn_gHwp3suP0"
      },
      "source": [
        "df[2:3]"
      ],
      "execution_count": null,
      "outputs": []
    },
    {
      "cell_type": "code",
      "metadata": {
        "id": "qayfItKAsw4J"
      },
      "source": [
        "df['sentiment'] = df['sentimiento'].replace([\"N\",\"P\"],[0,1])"
      ],
      "execution_count": null,
      "outputs": []
    },
    {
      "cell_type": "code",
      "metadata": {
        "id": "580QmbeQsy_e"
      },
      "source": [
        "df.shape"
      ],
      "execution_count": null,
      "outputs": []
    },
    {
      "cell_type": "code",
      "metadata": {
        "id": "-YeouQvKs0_E"
      },
      "source": [
        "df.head()"
      ],
      "execution_count": null,
      "outputs": []
    },
    {
      "cell_type": "code",
      "metadata": {
        "id": "WL_hJo-Ate11"
      },
      "source": [
        "from sklearn.feature_extraction.text import CountVectorizer"
      ],
      "execution_count": null,
      "outputs": []
    },
    {
      "cell_type": "code",
      "metadata": {
        "id": "Wp4RJV5ztg3R"
      },
      "source": [
        "texto = [\"Las propuestas son buenas\", \"Las propuestas son malas\"]\n",
        "\n",
        "vectorizer = CountVectorizer(lowercase=False)\n",
        "\n",
        "bag_of_words = vectorizer.fit_transform(texto)"
      ],
      "execution_count": null,
      "outputs": []
    },
    {
      "cell_type": "code",
      "metadata": {
        "id": "c7siuIvcthlR"
      },
      "source": [
        "print(bag_of_words.shape)"
      ],
      "execution_count": null,
      "outputs": []
    },
    {
      "cell_type": "code",
      "metadata": {
        "id": "5bxaOPNEtj0d"
      },
      "source": [
        "vectorizer.get_feature_names()"
      ],
      "execution_count": null,
      "outputs": []
    },
    {
      "cell_type": "code",
      "metadata": {
        "id": "n-YN70C_tmyC"
      },
      "source": [
        "matrix = pd.DataFrame.sparse.from_spmatrix(bag_of_words, columns = vectorizer.get_feature_names())"
      ],
      "execution_count": null,
      "outputs": []
    },
    {
      "cell_type": "code",
      "metadata": {
        "id": "2KlXL09QtpWb"
      },
      "source": [
        "matrix"
      ],
      "execution_count": null,
      "outputs": []
    },
    {
      "cell_type": "code",
      "metadata": {
        "id": "WDrvTZEJvk8g"
      },
      "source": [
        "vectorizer2 = CountVectorizer(lowercase=False, max_features = 100)\n",
        "\n",
        "bag_of_words2 = vectorizer2.fit_transform(df.texto)"
      ],
      "execution_count": null,
      "outputs": []
    },
    {
      "cell_type": "code",
      "metadata": {
        "id": "Nk0Wz4yvvnBQ"
      },
      "source": [
        "print(bag_of_words2.shape)"
      ],
      "execution_count": null,
      "outputs": []
    },
    {
      "cell_type": "code",
      "metadata": {
        "id": "JPMrZQbwvpU-"
      },
      "source": [
        "X_train, X_test, y_train,y_test = train_test_split(bag_of_words2,df.sentiment,random_state = 41)"
      ],
      "execution_count": null,
      "outputs": []
    },
    {
      "cell_type": "code",
      "metadata": {
        "id": "e7RCEk-2vrgX"
      },
      "source": [
        "regression = LinearRegression()\n",
        "regression.fit(X_train,y_train)\n",
        "acc = regression.score(X_test,y_test)\n",
        "print(acc)"
      ],
      "execution_count": null,
      "outputs": []
    },
    {
      "cell_type": "code",
      "metadata": {
        "id": "z4OAc1opvuFd"
      },
      "source": [
        "regression = LogisticRegression()\n",
        "regression.fit(X_train,y_train)\n",
        "acc = regression.score(X_test,y_test)\n",
        "print(acc)"
      ],
      "execution_count": null,
      "outputs": []
    },
    {
      "cell_type": "code",
      "metadata": {
        "id": "WSk1i52HxTm7"
      },
      "source": [
        "def clasificador(texto, columna_texto, categoria):\n",
        "  vectorizer = CountVectorizer(lowercase=False, max_features = 400)\n",
        "  bag_of_words = vectorizer.fit_transform(texto[columna_texto])\n",
        "  X_train, X_test, y_train,y_test = train_test_split(bag_of_words,texto[categoria],random_state = 41)\n",
        "  regression = LogisticRegression()\n",
        "  regression.fit(X_train,y_train)\n",
        "  return regression.score(X_test,y_test)"
      ],
      "execution_count": null,
      "outputs": []
    },
    {
      "cell_type": "code",
      "metadata": {
        "id": "SWRq_PrBxXBA"
      },
      "source": [
        "clasificador(df, \"texto\", \"sentiment\")"
      ],
      "execution_count": null,
      "outputs": []
    },
    {
      "cell_type": "code",
      "metadata": {
        "id": "PLApD0-ax9S2"
      },
      "source": [
        "from wordcloud import WordCloud"
      ],
      "execution_count": null,
      "outputs": []
    },
    {
      "cell_type": "code",
      "metadata": {
        "id": "Akv_WP8Jx_wQ"
      },
      "source": [
        "palabras = ' '.join([palabras for palabras in df['texto']])"
      ],
      "execution_count": null,
      "outputs": []
    },
    {
      "cell_type": "code",
      "metadata": {
        "id": "ohhipZYbyCBs"
      },
      "source": [
        "palabras"
      ],
      "execution_count": null,
      "outputs": []
    },
    {
      "cell_type": "code",
      "metadata": {
        "id": "RS0fdGKdyEL2"
      },
      "source": [
        "len(palabras)"
      ],
      "execution_count": null,
      "outputs": []
    },
    {
      "cell_type": "code",
      "metadata": {
        "id": "W18Mv1_gyHPU"
      },
      "source": [
        "import matplotlib.pyplot as plt\n",
        "%matplotlib inline \n",
        "\n",
        "def plot_cloud(wordcloud):\n",
        "  plt.figure(figsize=(10,5))\n",
        "  plt.imshow(wordcloud, interpolation = 'bilinear')\n",
        "  plt.axis('off')"
      ],
      "execution_count": null,
      "outputs": []
    },
    {
      "cell_type": "code",
      "metadata": {
        "id": "EaKziQPzyKS9"
      },
      "source": [
        "wordcloud = WordCloud(width=800, height=500, collocations=False).generate(palabras)\n",
        "plot_cloud(wordcloud)"
      ],
      "execution_count": null,
      "outputs": []
    },
    {
      "cell_type": "code",
      "metadata": {
        "id": "8GV4mEBK2N1u"
      },
      "source": [
        "df_pos = df.query(\"sentimiento == 'P'\")"
      ],
      "execution_count": null,
      "outputs": []
    },
    {
      "cell_type": "code",
      "metadata": {
        "id": "KG8ydxdZ2OYh"
      },
      "source": [
        "df_pos.head()"
      ],
      "execution_count": null,
      "outputs": []
    },
    {
      "cell_type": "code",
      "metadata": {
        "id": "GdU3bMPg2Qnl"
      },
      "source": [
        "def plot_cloud_neg(texto):\n",
        "  df_neg = df.query(\"sentimiento == 'N'\")\n",
        "  palabras = ' '.join([palabras for palabras in df_neg['texto']])\n",
        "  wordcloud = WordCloud(width=800, height=500, collocations=False).generate(palabras)\n",
        "  plt.figure(figsize=(10,5))\n",
        "  plt.imshow(wordcloud, interpolation = 'bilinear')\n",
        "  plt.axis('off')"
      ],
      "execution_count": null,
      "outputs": []
    },
    {
      "cell_type": "code",
      "metadata": {
        "id": "FfoFWgou2TS6"
      },
      "source": [
        "def plot_cloud_pos(texto):\n",
        "  df_pos = df.query(\"sentimiento == 'P'\")\n",
        "  palabras = ' '.join([palabras for palabras in df_pos['texto']])\n",
        "  wordcloud = WordCloud(width=800, height=500, collocations=False).generate(palabras)\n",
        "  plt.figure(figsize=(10,5))\n",
        "  plt.imshow(wordcloud, interpolation = 'bilinear')\n",
        "  plt.axis('off')"
      ],
      "execution_count": null,
      "outputs": []
    },
    {
      "cell_type": "code",
      "metadata": {
        "id": "kx_cEVie34YC"
      },
      "source": [
        "plot_cloud_neg(df)"
      ],
      "execution_count": null,
      "outputs": []
    },
    {
      "cell_type": "code",
      "metadata": {
        "id": "DGQCXBe_36xK"
      },
      "source": [
        "plot_cloud_pos(df)"
      ],
      "execution_count": null,
      "outputs": []
    },
    {
      "cell_type": "code",
      "metadata": {
        "id": "gs4YMc8z43T6"
      },
      "source": [
        "import nltk \n",
        "\n",
        "frase =['el candidato es bueno', 'el candidato es malo']\n",
        "\n",
        "frequencia = nltk.FreqDist(frase)"
      ],
      "execution_count": null,
      "outputs": []
    },
    {
      "cell_type": "code",
      "metadata": {
        "id": "n83k7XwW4-Hb"
      },
      "source": [
        "frequencia"
      ],
      "execution_count": null,
      "outputs": []
    },
    {
      "cell_type": "code",
      "metadata": {
        "id": "ne-BxXgz57Dr"
      },
      "source": [
        "from nltk import tokenize"
      ],
      "execution_count": null,
      "outputs": []
    },
    {
      "cell_type": "code",
      "metadata": {
        "id": "_eSYNSIN59ej"
      },
      "source": [
        "frase2 = 'el candidato quiere aprender LNP!'\n",
        "\n",
        "token_espacio = tokenize.WhitespaceTokenizer()\n",
        "\n",
        "frase_token = token_espacio.tokenize(frase2)"
      ],
      "execution_count": null,
      "outputs": []
    },
    {
      "cell_type": "code",
      "metadata": {
        "id": "9J2cg7wO6Ayu"
      },
      "source": [
        "print(frase_token)"
      ],
      "execution_count": null,
      "outputs": []
    }
  ]
}