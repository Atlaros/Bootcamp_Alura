{
  "nbformat": 4,
  "nbformat_minor": 0,
  "metadata": {
    "kernelspec": {
      "display_name": "Python 3",
      "language": "python",
      "name": "python3"
    },
    "language_info": {
      "codemirror_mode": {
        "name": "ipython",
        "version": 3
      },
      "file_extension": ".py",
      "mimetype": "text/x-python",
      "name": "python",
      "nbconvert_exporter": "python",
      "pygments_lexer": "ipython3",
      "version": "3.6.4"
    },
    "colab": {
      "name": "Creando Agrupamientos.ipynb",
      "provenance": [],
      "collapsed_sections": []
    }
  },
  "cells": [
    {
      "cell_type": "markdown",
      "metadata": {
        "id": "x5FCjKxmT5vp"
      },
      "source": [
        "# Reporte de Análisis VII"
      ]
    },
    {
      "cell_type": "markdown",
      "metadata": {
        "id": "icvyoBbTT5vq"
      },
      "source": [
        "## Creando Agrupamientos"
      ]
    },
    {
      "cell_type": "code",
      "metadata": {
        "id": "lmegI8ZET5vq"
      },
      "source": [
        "import pandas as pd"
      ],
      "execution_count": 1,
      "outputs": []
    },
    {
      "cell_type": "code",
      "metadata": {
        "id": "PNv81_kIT5vr"
      },
      "source": [
        "datos = pd.read_csv('alquiler_residencial.csv', sep = ';')"
      ],
      "execution_count": 2,
      "outputs": []
    },
    {
      "cell_type": "code",
      "metadata": {
        "colab": {
          "base_uri": "https://localhost:8080/",
          "height": 347
        },
        "id": "F0kaMmtzT5vr",
        "outputId": "f085849b-242e-420d-bc2b-35f2666b8ffa"
      },
      "source": [
        "datos.head(10)"
      ],
      "execution_count": 3,
      "outputs": [
        {
          "output_type": "execute_result",
          "data": {
            "text/html": [
              "<div>\n",
              "<style scoped>\n",
              "    .dataframe tbody tr th:only-of-type {\n",
              "        vertical-align: middle;\n",
              "    }\n",
              "\n",
              "    .dataframe tbody tr th {\n",
              "        vertical-align: top;\n",
              "    }\n",
              "\n",
              "    .dataframe thead th {\n",
              "        text-align: right;\n",
              "    }\n",
              "</style>\n",
              "<table border=\"1\" class=\"dataframe\">\n",
              "  <thead>\n",
              "    <tr style=\"text-align: right;\">\n",
              "      <th></th>\n",
              "      <th>Tipo</th>\n",
              "      <th>Distrito</th>\n",
              "      <th>Cuartos</th>\n",
              "      <th>Vacantes</th>\n",
              "      <th>Suites</th>\n",
              "      <th>Area</th>\n",
              "      <th>Valor</th>\n",
              "      <th>Mantenimiento</th>\n",
              "      <th>Impuesto</th>\n",
              "    </tr>\n",
              "  </thead>\n",
              "  <tbody>\n",
              "    <tr>\n",
              "      <th>0</th>\n",
              "      <td>Habitación</td>\n",
              "      <td>San Borja</td>\n",
              "      <td>1</td>\n",
              "      <td>0</td>\n",
              "      <td>0</td>\n",
              "      <td>40</td>\n",
              "      <td>1700.0</td>\n",
              "      <td>500.0</td>\n",
              "      <td>60.0</td>\n",
              "    </tr>\n",
              "    <tr>\n",
              "      <th>1</th>\n",
              "      <td>Casa</td>\n",
              "      <td>Lurigancho</td>\n",
              "      <td>2</td>\n",
              "      <td>0</td>\n",
              "      <td>1</td>\n",
              "      <td>100</td>\n",
              "      <td>7000.0</td>\n",
              "      <td>NaN</td>\n",
              "      <td>NaN</td>\n",
              "    </tr>\n",
              "    <tr>\n",
              "      <th>2</th>\n",
              "      <td>Departamento</td>\n",
              "      <td>Pachacámac</td>\n",
              "      <td>1</td>\n",
              "      <td>0</td>\n",
              "      <td>0</td>\n",
              "      <td>15</td>\n",
              "      <td>800.0</td>\n",
              "      <td>390.0</td>\n",
              "      <td>20.0</td>\n",
              "    </tr>\n",
              "    <tr>\n",
              "      <th>3</th>\n",
              "      <td>Departamento</td>\n",
              "      <td>Ate</td>\n",
              "      <td>1</td>\n",
              "      <td>0</td>\n",
              "      <td>0</td>\n",
              "      <td>48</td>\n",
              "      <td>800.0</td>\n",
              "      <td>230.0</td>\n",
              "      <td>NaN</td>\n",
              "    </tr>\n",
              "    <tr>\n",
              "      <th>4</th>\n",
              "      <td>Departamento</td>\n",
              "      <td>Barranco</td>\n",
              "      <td>3</td>\n",
              "      <td>1</td>\n",
              "      <td>0</td>\n",
              "      <td>70</td>\n",
              "      <td>1200.0</td>\n",
              "      <td>NaN</td>\n",
              "      <td>NaN</td>\n",
              "    </tr>\n",
              "    <tr>\n",
              "      <th>5</th>\n",
              "      <td>Departamento</td>\n",
              "      <td>Comas</td>\n",
              "      <td>2</td>\n",
              "      <td>0</td>\n",
              "      <td>0</td>\n",
              "      <td>50</td>\n",
              "      <td>1300.0</td>\n",
              "      <td>301.0</td>\n",
              "      <td>17.0</td>\n",
              "    </tr>\n",
              "    <tr>\n",
              "      <th>6</th>\n",
              "      <td>Casa en condominio</td>\n",
              "      <td>Ate</td>\n",
              "      <td>5</td>\n",
              "      <td>4</td>\n",
              "      <td>5</td>\n",
              "      <td>750</td>\n",
              "      <td>22000.0</td>\n",
              "      <td>NaN</td>\n",
              "      <td>NaN</td>\n",
              "    </tr>\n",
              "    <tr>\n",
              "      <th>7</th>\n",
              "      <td>Casa en condominio</td>\n",
              "      <td>El Agustino</td>\n",
              "      <td>2</td>\n",
              "      <td>2</td>\n",
              "      <td>0</td>\n",
              "      <td>65</td>\n",
              "      <td>1000.0</td>\n",
              "      <td>NaN</td>\n",
              "      <td>NaN</td>\n",
              "    </tr>\n",
              "    <tr>\n",
              "      <th>8</th>\n",
              "      <td>Departamento</td>\n",
              "      <td>Pachacámac</td>\n",
              "      <td>1</td>\n",
              "      <td>0</td>\n",
              "      <td>0</td>\n",
              "      <td>36</td>\n",
              "      <td>1200.0</td>\n",
              "      <td>NaN</td>\n",
              "      <td>NaN</td>\n",
              "    </tr>\n",
              "    <tr>\n",
              "      <th>9</th>\n",
              "      <td>Departamento</td>\n",
              "      <td>Mi Perú</td>\n",
              "      <td>2</td>\n",
              "      <td>1</td>\n",
              "      <td>0</td>\n",
              "      <td>70</td>\n",
              "      <td>1500.0</td>\n",
              "      <td>642.0</td>\n",
              "      <td>74.0</td>\n",
              "    </tr>\n",
              "  </tbody>\n",
              "</table>\n",
              "</div>"
            ],
            "text/plain": [
              "                 Tipo     Distrito  Cuartos  ...    Valor  Mantenimiento  Impuesto\n",
              "0          Habitación    San Borja        1  ...   1700.0          500.0      60.0\n",
              "1                Casa   Lurigancho        2  ...   7000.0            NaN       NaN\n",
              "2        Departamento   Pachacámac        1  ...    800.0          390.0      20.0\n",
              "3        Departamento          Ate        1  ...    800.0          230.0       NaN\n",
              "4        Departamento     Barranco        3  ...   1200.0            NaN       NaN\n",
              "5        Departamento        Comas        2  ...   1300.0          301.0      17.0\n",
              "6  Casa en condominio          Ate        5  ...  22000.0            NaN       NaN\n",
              "7  Casa en condominio  El Agustino        2  ...   1000.0            NaN       NaN\n",
              "8        Departamento   Pachacámac        1  ...   1200.0            NaN       NaN\n",
              "9        Departamento      Mi Perú        2  ...   1500.0          642.0      74.0\n",
              "\n",
              "[10 rows x 9 columns]"
            ]
          },
          "metadata": {
            "tags": []
          },
          "execution_count": 3
        }
      ]
    },
    {
      "cell_type": "markdown",
      "metadata": {
        "id": "eaqK2EWmT5vs"
      },
      "source": [
        "#### https://pandas.pydata.org/pandas-docs/stable/api.html#api-dataframe-stats"
      ]
    },
    {
      "cell_type": "code",
      "metadata": {
        "colab": {
          "base_uri": "https://localhost:8080/"
        },
        "id": "O1G4Kj3iT5vs",
        "outputId": "a91793a1-4ac6-42fb-af5f-a7063a00272e"
      },
      "source": [
        "datos['Valor'].mean()"
      ],
      "execution_count": 4,
      "outputs": [
        {
          "output_type": "execute_result",
          "data": {
            "text/plain": [
              "4985.730140445705"
            ]
          },
          "metadata": {
            "tags": []
          },
          "execution_count": 4
        }
      ]
    },
    {
      "cell_type": "code",
      "metadata": {
        "id": "rvFu3kCQT5vs"
      },
      "source": [
        "barrios = ['Ate','Barranco','Comas','Lince','El Agustino','San Luis','Callao']\n",
        "seleccion = datos['Distrito'].isin(barrios)\n",
        "datos = datos[seleccion]"
      ],
      "execution_count": 5,
      "outputs": []
    },
    {
      "cell_type": "code",
      "metadata": {
        "colab": {
          "base_uri": "https://localhost:8080/"
        },
        "id": "JBJAEZJjT5vt",
        "outputId": "aaf7d272-c752-43ec-dc09-5dfaa811a813"
      },
      "source": [
        "datos['Distrito'].drop_duplicates()"
      ],
      "execution_count": 6,
      "outputs": [
        {
          "output_type": "execute_result",
          "data": {
            "text/plain": [
              "3             Ate\n",
              "4        Barranco\n",
              "5           Comas\n",
              "7     El Agustino\n",
              "14       San Luis\n",
              "15         Callao\n",
              "24          Lince\n",
              "Name: Distrito, dtype: object"
            ]
          },
          "metadata": {
            "tags": []
          },
          "execution_count": 6
        }
      ]
    },
    {
      "cell_type": "code",
      "metadata": {
        "id": "TFwP2U90T5vt"
      },
      "source": [
        "grupo_barrio = datos.groupby('Distrito')"
      ],
      "execution_count": 7,
      "outputs": []
    },
    {
      "cell_type": "code",
      "metadata": {
        "colab": {
          "base_uri": "https://localhost:8080/"
        },
        "id": "Ue1osfL2T5vt",
        "outputId": "eaddc960-901e-4002-c1c0-c579af1951b1"
      },
      "source": [
        "type(grupo_barrio)"
      ],
      "execution_count": 8,
      "outputs": [
        {
          "output_type": "execute_result",
          "data": {
            "text/plain": [
              "pandas.core.groupby.generic.DataFrameGroupBy"
            ]
          },
          "metadata": {
            "tags": []
          },
          "execution_count": 8
        }
      ]
    },
    {
      "cell_type": "code",
      "metadata": {
        "colab": {
          "base_uri": "https://localhost:8080/"
        },
        "id": "LXh63zaAT5vu",
        "outputId": "93415c06-7b23-444d-809a-4176abae1ad5"
      },
      "source": [
        "grupo_barrio.groups"
      ],
      "execution_count": 9,
      "outputs": [
        {
          "output_type": "execute_result",
          "data": {
            "text/plain": [
              "{'Ate': [3, 6, 16, 18, 23, 32, 34, 37, 44, 45, 58, 63, 64, 65, 67, 71, 77, 82, 85, 97, 111, 114, 116, 122, 133, 136, 138, 142, 156, 159, 161, 171, 172, 180, 195, 198, 217, 224, 231, 234, 243, 246, 249, 254, 269, 275, 285, 287, 302, 303, 304, 306, 313, 319, 322, 336, 346, 347, 356, 371, 377, 379, 385, 391, 398, 400, 411, 423, 429, 444, 445, 447, 448, 451, 461, 463, 474, 475, 477, 485, 488, 497, 508, 514, 518, 526, 532, 553, 554, 555, 556, 559, 563, 568, 570, 571, 572, 601, 605, 606, ...], 'Barranco': [4, 179, 1056, 1192, 1721, 2054, 2141, 2699, 2808, 3072, 3364, 3795, 4891, 4934, 5409, 5647, 6288, 6647, 7616, 7990, 9367, 9847, 9889, 10197, 10457, 11182, 11420, 11745, 11860, 12093, 12529, 12597, 12611, 13184, 13821, 13910, 14774, 15551, 16580, 16881, 17786, 18385, 19336, 19389, 19430, 20168, 20651, 21060, 21597, 21628, 21648, 21649, 22053, 22099, 22268], 'Callao': [15, 61, 87, 110, 128, 141, 162, 169, 197, 214, 232, 282, 316, 317, 357, 394, 467, 504, 549, 623, 709, 721, 804, 838, 887, 909, 995, 1133, 1137, 1395, 1485, 1542, 1570, 1574, 1596, 1613, 1745, 1823, 1839, 1880, 1893, 1945, 1977, 1993, 2006, 2119, 2120, 2243, 2280, 2303, 2333, 2339, 2344, 2390, 2412, 2419, 2445, 2581, 2611, 2631, 2640, 2642, 2683, 2706, 2733, 2785, 2789, 2809, 2990, 3032, 3058, 3071, 3103, 3120, 3159, 3179, 3209, 3280, 3283, 3399, 3439, 3776, 3805, 3838, 3920, 3926, 3938, 3958, 3970, 4015, 4040, 4051, 4085, 4113, 4194, 4236, 4266, 4307, 4405, 4451, ...], 'Comas': [5, 21, 41, 42, 47, 54, 55, 59, 76, 88, 96, 119, 126, 134, 147, 165, 185, 187, 226, 227, 240, 252, 255, 257, 262, 280, 294, 314, 337, 349, 352, 381, 388, 397, 403, 405, 416, 456, 494, 501, 502, 530, 538, 540, 551, 585, 592, 593, 594, 596, 607, 609, 632, 642, 646, 647, 667, 668, 676, 692, 702, 711, 729, 731, 738, 746, 750, 752, 767, 768, 774, 778, 801, 805, 816, 824, 834, 836, 840, 853, 883, 884, 901, 913, 930, 931, 948, 952, 963, 976, 978, 996, 1012, 1014, 1023, 1031, 1040, 1052, 1057, 1063, ...], 'El Agustino': [7, 305, 583, 868, 1240, 1304, 1400, 1561, 1670, 2193, 2245, 2253, 2256, 2299, 2373, 2393, 2433, 2747, 2752, 3088, 3404, 3822, 4455, 4474, 4535, 4562, 4693, 5006, 5149, 5579, 5781, 5787, 5958, 6169, 6219, 6485, 6817, 6875, 6943, 7032, 7073, 7257, 7311, 7391, 7752, 7887, 7979, 7991, 8053, 8129, 8244, 9153, 9351, 9536, 9688, 9832, 9911, 10062, 10148, 10244, 10459, 10557, 10833, 11011, 11125, 11133, 11380, 11435, 11552, 11629, 11962, 12023, 12268, 12292, 12358, 12425, 12768, 13047, 13296, 13304, 13452, 13505, 13530, 13565, 13697, 13777, 13947, 14176, 14229, 14365, 14609, 14619, 14707, 14934, 15073, 15074, 15187, 15328, 15360, 15730, ...], 'Lince': [24, 53, 75, 143, 186, 208, 263, 276, 298, 333, 343, 375, 389, 493, 517, 520, 537, 546, 558, 576, 636, 682, 698, 700, 730, 744, 745, 802, 934, 1015, 1034, 1042, 1071, 1076, 1097, 1139, 1152, 1178, 1195, 1218, 1242, 1254, 1275, 1284, 1330, 1337, 1373, 1433, 1451, 1509, 1513, 1560, 1611, 1649, 1660, 1683, 1690, 1711, 1764, 1815, 1819, 1861, 1935, 1948, 1961, 1998, 2052, 2082, 2086, 2221, 2262, 2302, 2309, 2340, 2389, 2404, 2459, 2538, 2587, 2632, 2652, 2700, 2705, 2709, 2727, 2757, 2837, 2847, 2866, 2880, 2906, 2945, 2952, 2958, 2968, 2989, 3034, 3055, 3101, 3144, ...], 'San Luis': [14, 51, 100, 123, 158, 199, 204, 221, 266, 360, 369, 443, 487, 637, 652, 775, 827, 845, 886, 927, 1003, 1217, 1243, 1294, 1345, 1478, 1516, 1531, 1688, 1731, 1732, 1743, 1762, 1808, 1997, 2062, 2071, 2123, 2139, 2185, 2213, 2215, 2240, 2272, 2315, 2418, 2463, 2533, 2579, 2659, 2925, 2927, 3096, 3152, 3236, 3288, 3340, 3388, 3398, 3445, 3591, 3610, 3623, 3632, 3669, 3711, 3755, 3760, 3803, 3813, 3876, 3904, 3952, 3954, 3987, 4084, 4233, 4302, 4330, 4414, 4444, 4446, 4479, 4591, 4759, 4841, 4910, 4982, 5015, 5033, 5055, 5064, 5113, 5183, 5238, 5271, 5322, 5361, 5494, 5503, ...]}"
            ]
          },
          "metadata": {
            "tags": []
          },
          "execution_count": 9
        }
      ]
    },
    {
      "cell_type": "code",
      "metadata": {
        "colab": {
          "base_uri": "https://localhost:8080/"
        },
        "id": "kSJxhibLT5vu",
        "outputId": "9c173993-8d46-4b1a-8249-8fe51631183f"
      },
      "source": [
        "for barrio, data in grupo_barrio:\n",
        "    print('{} -> {}'.format(barrio, data.Valor.mean()))"
      ],
      "execution_count": 10,
      "outputs": [
        {
          "output_type": "stream",
          "text": [
            "Ate -> 6924.272975658221\n",
            "Barranco -> 1343.2727272727273\n",
            "Callao -> 4764.564315352697\n",
            "Comas -> 8655.839756592291\n",
            "El Agustino -> 1091.7720588235295\n",
            "Lince -> 1462.2043422733077\n",
            "San Luis -> 1705.5948717948718\n"
          ],
          "name": "stdout"
        }
      ]
    },
    {
      "cell_type": "code",
      "metadata": {
        "colab": {
          "base_uri": "https://localhost:8080/",
          "height": 287
        },
        "id": "gI_X12csT5vu",
        "outputId": "f1472f80-a0a0-44ea-fb25-7e81d8ab5c95"
      },
      "source": [
        "grupo_barrio[['Valor', 'Mantenimiento']].mean().round(2)"
      ],
      "execution_count": 11,
      "outputs": [
        {
          "output_type": "execute_result",
          "data": {
            "text/html": [
              "<div>\n",
              "<style scoped>\n",
              "    .dataframe tbody tr th:only-of-type {\n",
              "        vertical-align: middle;\n",
              "    }\n",
              "\n",
              "    .dataframe tbody tr th {\n",
              "        vertical-align: top;\n",
              "    }\n",
              "\n",
              "    .dataframe thead th {\n",
              "        text-align: right;\n",
              "    }\n",
              "</style>\n",
              "<table border=\"1\" class=\"dataframe\">\n",
              "  <thead>\n",
              "    <tr style=\"text-align: right;\">\n",
              "      <th></th>\n",
              "      <th>Valor</th>\n",
              "      <th>Mantenimiento</th>\n",
              "    </tr>\n",
              "    <tr>\n",
              "      <th>Distrito</th>\n",
              "      <th></th>\n",
              "      <th></th>\n",
              "    </tr>\n",
              "  </thead>\n",
              "  <tbody>\n",
              "    <tr>\n",
              "      <th>Ate</th>\n",
              "      <td>6924.27</td>\n",
              "      <td>3568.95</td>\n",
              "    </tr>\n",
              "    <tr>\n",
              "      <th>Barranco</th>\n",
              "      <td>1343.27</td>\n",
              "      <td>381.75</td>\n",
              "    </tr>\n",
              "    <tr>\n",
              "      <th>Callao</th>\n",
              "      <td>4764.56</td>\n",
              "      <td>715.67</td>\n",
              "    </tr>\n",
              "    <tr>\n",
              "      <th>Comas</th>\n",
              "      <td>8655.84</td>\n",
              "      <td>2107.56</td>\n",
              "    </tr>\n",
              "    <tr>\n",
              "      <th>El Agustino</th>\n",
              "      <td>1091.77</td>\n",
              "      <td>298.87</td>\n",
              "    </tr>\n",
              "    <tr>\n",
              "      <th>Lince</th>\n",
              "      <td>1462.20</td>\n",
              "      <td>528.62</td>\n",
              "    </tr>\n",
              "    <tr>\n",
              "      <th>San Luis</th>\n",
              "      <td>1705.59</td>\n",
              "      <td>518.60</td>\n",
              "    </tr>\n",
              "  </tbody>\n",
              "</table>\n",
              "</div>"
            ],
            "text/plain": [
              "               Valor  Mantenimiento\n",
              "Distrito                           \n",
              "Ate          6924.27        3568.95\n",
              "Barranco     1343.27         381.75\n",
              "Callao       4764.56         715.67\n",
              "Comas        8655.84        2107.56\n",
              "El Agustino  1091.77         298.87\n",
              "Lince        1462.20         528.62\n",
              "San Luis     1705.59         518.60"
            ]
          },
          "metadata": {
            "tags": []
          },
          "execution_count": 11
        }
      ]
    },
    {
      "cell_type": "markdown",
      "metadata": {
        "id": "ZUX3YsTdT5vu"
      },
      "source": [
        "## Estadísticas Descriptivas"
      ]
    },
    {
      "cell_type": "code",
      "metadata": {
        "colab": {
          "base_uri": "https://localhost:8080/",
          "height": 287
        },
        "id": "MuG6a8LNT5vv",
        "outputId": "2fa33c2a-71c3-4de6-a257-c9f88e212ca9"
      },
      "source": [
        "grupo_barrio['Valor'].describe().round(2)"
      ],
      "execution_count": 12,
      "outputs": [
        {
          "output_type": "execute_result",
          "data": {
            "text/html": [
              "<div>\n",
              "<style scoped>\n",
              "    .dataframe tbody tr th:only-of-type {\n",
              "        vertical-align: middle;\n",
              "    }\n",
              "\n",
              "    .dataframe tbody tr th {\n",
              "        vertical-align: top;\n",
              "    }\n",
              "\n",
              "    .dataframe thead th {\n",
              "        text-align: right;\n",
              "    }\n",
              "</style>\n",
              "<table border=\"1\" class=\"dataframe\">\n",
              "  <thead>\n",
              "    <tr style=\"text-align: right;\">\n",
              "      <th></th>\n",
              "      <th>count</th>\n",
              "      <th>mean</th>\n",
              "      <th>std</th>\n",
              "      <th>min</th>\n",
              "      <th>25%</th>\n",
              "      <th>50%</th>\n",
              "      <th>75%</th>\n",
              "      <th>max</th>\n",
              "    </tr>\n",
              "    <tr>\n",
              "      <th>Distrito</th>\n",
              "      <th></th>\n",
              "      <th></th>\n",
              "      <th></th>\n",
              "      <th></th>\n",
              "      <th></th>\n",
              "      <th></th>\n",
              "      <th></th>\n",
              "      <th></th>\n",
              "    </tr>\n",
              "  </thead>\n",
              "  <tbody>\n",
              "    <tr>\n",
              "      <th>Ate</th>\n",
              "      <td>4026.0</td>\n",
              "      <td>6924.27</td>\n",
              "      <td>11687.87</td>\n",
              "      <td>100.0</td>\n",
              "      <td>2500.0</td>\n",
              "      <td>4300.0</td>\n",
              "      <td>8500.0</td>\n",
              "      <td>600000.0</td>\n",
              "    </tr>\n",
              "    <tr>\n",
              "      <th>Barranco</th>\n",
              "      <td>55.0</td>\n",
              "      <td>1343.27</td>\n",
              "      <td>1391.96</td>\n",
              "      <td>450.0</td>\n",
              "      <td>775.0</td>\n",
              "      <td>1100.0</td>\n",
              "      <td>1200.0</td>\n",
              "      <td>8000.0</td>\n",
              "    </tr>\n",
              "    <tr>\n",
              "      <th>Callao</th>\n",
              "      <td>482.0</td>\n",
              "      <td>4764.56</td>\n",
              "      <td>44080.45</td>\n",
              "      <td>500.0</td>\n",
              "      <td>1200.0</td>\n",
              "      <td>1700.0</td>\n",
              "      <td>2200.0</td>\n",
              "      <td>800000.0</td>\n",
              "    </tr>\n",
              "    <tr>\n",
              "      <th>Comas</th>\n",
              "      <td>1972.0</td>\n",
              "      <td>8655.84</td>\n",
              "      <td>8196.43</td>\n",
              "      <td>400.0</td>\n",
              "      <td>3800.0</td>\n",
              "      <td>6500.0</td>\n",
              "      <td>10000.0</td>\n",
              "      <td>90000.0</td>\n",
              "    </tr>\n",
              "    <tr>\n",
              "      <th>El Agustino</th>\n",
              "      <td>136.0</td>\n",
              "      <td>1091.77</td>\n",
              "      <td>525.54</td>\n",
              "      <td>500.0</td>\n",
              "      <td>800.0</td>\n",
              "      <td>1000.0</td>\n",
              "      <td>1200.0</td>\n",
              "      <td>4500.0</td>\n",
              "    </tr>\n",
              "    <tr>\n",
              "      <th>Lince</th>\n",
              "      <td>783.0</td>\n",
              "      <td>1462.20</td>\n",
              "      <td>1363.86</td>\n",
              "      <td>300.0</td>\n",
              "      <td>800.0</td>\n",
              "      <td>1100.0</td>\n",
              "      <td>1700.0</td>\n",
              "      <td>15000.0</td>\n",
              "    </tr>\n",
              "    <tr>\n",
              "      <th>San Luis</th>\n",
              "      <td>390.0</td>\n",
              "      <td>1705.59</td>\n",
              "      <td>1197.06</td>\n",
              "      <td>500.0</td>\n",
              "      <td>1000.0</td>\n",
              "      <td>1400.0</td>\n",
              "      <td>1900.0</td>\n",
              "      <td>10000.0</td>\n",
              "    </tr>\n",
              "  </tbody>\n",
              "</table>\n",
              "</div>"
            ],
            "text/plain": [
              "              count     mean       std  ...     50%      75%       max\n",
              "Distrito                                ...                           \n",
              "Ate          4026.0  6924.27  11687.87  ...  4300.0   8500.0  600000.0\n",
              "Barranco       55.0  1343.27   1391.96  ...  1100.0   1200.0    8000.0\n",
              "Callao        482.0  4764.56  44080.45  ...  1700.0   2200.0  800000.0\n",
              "Comas        1972.0  8655.84   8196.43  ...  6500.0  10000.0   90000.0\n",
              "El Agustino   136.0  1091.77    525.54  ...  1000.0   1200.0    4500.0\n",
              "Lince         783.0  1462.20   1363.86  ...  1100.0   1700.0   15000.0\n",
              "San Luis      390.0  1705.59   1197.06  ...  1400.0   1900.0   10000.0\n",
              "\n",
              "[7 rows x 8 columns]"
            ]
          },
          "metadata": {
            "tags": []
          },
          "execution_count": 12
        }
      ]
    },
    {
      "cell_type": "code",
      "metadata": {
        "colab": {
          "base_uri": "https://localhost:8080/",
          "height": 287
        },
        "id": "jS68a0mST5vv",
        "outputId": "1197b576-6828-4cc3-e9ee-d5d35659e5b6"
      },
      "source": [
        "grupo_barrio['Valor'].aggregate(['min', 'max']).rename(columns = {'min': 'Mínimo', 'max': 'Máximo'})"
      ],
      "execution_count": 13,
      "outputs": [
        {
          "output_type": "execute_result",
          "data": {
            "text/html": [
              "<div>\n",
              "<style scoped>\n",
              "    .dataframe tbody tr th:only-of-type {\n",
              "        vertical-align: middle;\n",
              "    }\n",
              "\n",
              "    .dataframe tbody tr th {\n",
              "        vertical-align: top;\n",
              "    }\n",
              "\n",
              "    .dataframe thead th {\n",
              "        text-align: right;\n",
              "    }\n",
              "</style>\n",
              "<table border=\"1\" class=\"dataframe\">\n",
              "  <thead>\n",
              "    <tr style=\"text-align: right;\">\n",
              "      <th></th>\n",
              "      <th>Mínimo</th>\n",
              "      <th>Máximo</th>\n",
              "    </tr>\n",
              "    <tr>\n",
              "      <th>Distrito</th>\n",
              "      <th></th>\n",
              "      <th></th>\n",
              "    </tr>\n",
              "  </thead>\n",
              "  <tbody>\n",
              "    <tr>\n",
              "      <th>Ate</th>\n",
              "      <td>100.0</td>\n",
              "      <td>600000.0</td>\n",
              "    </tr>\n",
              "    <tr>\n",
              "      <th>Barranco</th>\n",
              "      <td>450.0</td>\n",
              "      <td>8000.0</td>\n",
              "    </tr>\n",
              "    <tr>\n",
              "      <th>Callao</th>\n",
              "      <td>500.0</td>\n",
              "      <td>800000.0</td>\n",
              "    </tr>\n",
              "    <tr>\n",
              "      <th>Comas</th>\n",
              "      <td>400.0</td>\n",
              "      <td>90000.0</td>\n",
              "    </tr>\n",
              "    <tr>\n",
              "      <th>El Agustino</th>\n",
              "      <td>500.0</td>\n",
              "      <td>4500.0</td>\n",
              "    </tr>\n",
              "    <tr>\n",
              "      <th>Lince</th>\n",
              "      <td>300.0</td>\n",
              "      <td>15000.0</td>\n",
              "    </tr>\n",
              "    <tr>\n",
              "      <th>San Luis</th>\n",
              "      <td>500.0</td>\n",
              "      <td>10000.0</td>\n",
              "    </tr>\n",
              "  </tbody>\n",
              "</table>\n",
              "</div>"
            ],
            "text/plain": [
              "             Mínimo    Máximo\n",
              "Distrito                     \n",
              "Ate           100.0  600000.0\n",
              "Barranco      450.0    8000.0\n",
              "Callao        500.0  800000.0\n",
              "Comas         400.0   90000.0\n",
              "El Agustino   500.0    4500.0\n",
              "Lince         300.0   15000.0\n",
              "San Luis      500.0   10000.0"
            ]
          },
          "metadata": {
            "tags": []
          },
          "execution_count": 13
        }
      ]
    },
    {
      "cell_type": "code",
      "metadata": {
        "id": "IQN_5EIoT5vv"
      },
      "source": [
        "%matplotlib inline\n",
        "import matplotlib.pyplot as plt\n",
        "plt.rc('figure', figsize = (20, 10))"
      ],
      "execution_count": 14,
      "outputs": []
    },
    {
      "cell_type": "code",
      "metadata": {
        "colab": {
          "base_uri": "https://localhost:8080/",
          "height": 693
        },
        "id": "JMkcVdhvT5vv",
        "outputId": "a8cfba25-202c-40db-d65e-fd3d35458292"
      },
      "source": [
        "fig = grupo_barrio['Valor'].mean().plot.bar(color = 'blue')\n",
        "fig.set_ylabel('Valor del Alquiler')\n",
        "fig.set_title('Valor Médio del Alquiler por Distrito', {'fontsize': 22})"
      ],
      "execution_count": 15,
      "outputs": [
        {
          "output_type": "execute_result",
          "data": {
            "text/plain": [
              "Text(0.5, 1.0, 'Valor Médio del Alquiler por Distrito')"
            ]
          },
          "metadata": {
            "tags": []
          },
          "execution_count": 15
        },
        {
          "output_type": "display_data",
          "data": {
            "image/png": "[encoded data removed]",
            "text/plain": [
              "<Figure size 1440x720 with 1 Axes>"
            ]
          },
          "metadata": {
            "tags": [],
            "needs_background": "light"
          }
        }
      ]
    },
    {
      "cell_type": "code",
      "metadata": {
        "colab": {
          "base_uri": "https://localhost:8080/",
          "height": 693
        },
        "id": "IVtp-a2ZT5vw",
        "outputId": "0c9592bd-f67a-45d4-e6ad-1bf56e131ade"
      },
      "source": [
        "fig = grupo_barrio['Valor'].max().plot.bar(color = 'blue')\n",
        "fig.set_ylabel('Valor del Alquiler')\n",
        "fig.set_title('Valor Médio del Alquiler por Distrito', {'fontsize': 22})"
      ],
      "execution_count": 16,
      "outputs": [
        {
          "output_type": "execute_result",
          "data": {
            "text/plain": [
              "Text(0.5, 1.0, 'Valor Médio del Alquiler por Distrito')"
            ]
          },
          "metadata": {
            "tags": []
          },
          "execution_count": 16
        },
        {
          "output_type": "display_data",
          "data": {
            "image/png": "[encoded data removed]",
            "text/plain": [
              "<Figure size 1440x720 with 1 Axes>"
            ]
          },
          "metadata": {
            "tags": [],
            "needs_background": "light"
          }
        }
      ]
    },
    {
      "cell_type": "code",
      "metadata": {
        "id": "ggw1H8M8T5vw"
      },
      "source": [
        ""
      ],
      "execution_count": null,
      "outputs": []
    }
  ]
}