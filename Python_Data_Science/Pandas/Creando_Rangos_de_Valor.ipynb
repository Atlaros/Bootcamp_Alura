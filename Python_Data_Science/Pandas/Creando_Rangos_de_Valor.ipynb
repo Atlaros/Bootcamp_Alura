{
 "cells": [
  {
   "cell_type": "code",
   "execution_count": 1,
   "metadata": {
    "id": "9msD--dkZK4w"
   },
   "outputs": [],
   "source": [
    "import pandas as pd"
   ]
  },
  {
   "cell_type": "code",
   "execution_count": 2,
   "metadata": {
    "colab": {
     "base_uri": "https://localhost:8080/",
     "height": 347
    },
    "id": "t-7hOiXFZK4x",
    "outputId": "bd4aa381-fa8c-4436-9000-b7d1ad131865"
   },
   "outputs": [
    {
     "data": {
      "text/html": [
       "<div>\n",
       "<style scoped>\n",
       "    .dataframe tbody tr th:only-of-type {\n",
       "        vertical-align: middle;\n",
       "    }\n",
       "\n",
       "    .dataframe tbody tr th {\n",
       "        vertical-align: top;\n",
       "    }\n",
       "\n",
       "    .dataframe thead th {\n",
       "        text-align: right;\n",
       "    }\n",
       "</style>\n",
       "<table border=\"1\" class=\"dataframe\">\n",
       "  <thead>\n",
       "    <tr style=\"text-align: right;\">\n",
       "      <th></th>\n",
       "      <th>Tipo</th>\n",
       "      <th>Distrito</th>\n",
       "      <th>Cuartos</th>\n",
       "      <th>Vacantes</th>\n",
       "      <th>Suites</th>\n",
       "      <th>Area</th>\n",
       "      <th>Valor</th>\n",
       "      <th>Mantenimiento</th>\n",
       "      <th>Impuesto</th>\n",
       "    </tr>\n",
       "  </thead>\n",
       "  <tbody>\n",
       "    <tr>\n",
       "      <th>0</th>\n",
       "      <td>Habitación</td>\n",
       "      <td>San Borja</td>\n",
       "      <td>1</td>\n",
       "      <td>0</td>\n",
       "      <td>0</td>\n",
       "      <td>40</td>\n",
       "      <td>1700.0</td>\n",
       "      <td>500.0</td>\n",
       "      <td>60.0</td>\n",
       "    </tr>\n",
       "    <tr>\n",
       "      <th>1</th>\n",
       "      <td>Casa</td>\n",
       "      <td>Lurigancho</td>\n",
       "      <td>2</td>\n",
       "      <td>0</td>\n",
       "      <td>1</td>\n",
       "      <td>100</td>\n",
       "      <td>7000.0</td>\n",
       "      <td>NaN</td>\n",
       "      <td>NaN</td>\n",
       "    </tr>\n",
       "    <tr>\n",
       "      <th>2</th>\n",
       "      <td>Local comercial</td>\n",
       "      <td>Ate</td>\n",
       "      <td>0</td>\n",
       "      <td>4</td>\n",
       "      <td>0</td>\n",
       "      <td>150</td>\n",
       "      <td>5200.0</td>\n",
       "      <td>4020.0</td>\n",
       "      <td>1111.0</td>\n",
       "    </tr>\n",
       "    <tr>\n",
       "      <th>3</th>\n",
       "      <td>Departamento</td>\n",
       "      <td>Pachacámac</td>\n",
       "      <td>1</td>\n",
       "      <td>0</td>\n",
       "      <td>0</td>\n",
       "      <td>15</td>\n",
       "      <td>800.0</td>\n",
       "      <td>390.0</td>\n",
       "      <td>20.0</td>\n",
       "    </tr>\n",
       "    <tr>\n",
       "      <th>4</th>\n",
       "      <td>Departamento</td>\n",
       "      <td>Ate</td>\n",
       "      <td>1</td>\n",
       "      <td>0</td>\n",
       "      <td>0</td>\n",
       "      <td>48</td>\n",
       "      <td>800.0</td>\n",
       "      <td>230.0</td>\n",
       "      <td>NaN</td>\n",
       "    </tr>\n",
       "    <tr>\n",
       "      <th>5</th>\n",
       "      <td>Departamento</td>\n",
       "      <td>Barranco</td>\n",
       "      <td>3</td>\n",
       "      <td>1</td>\n",
       "      <td>0</td>\n",
       "      <td>70</td>\n",
       "      <td>1200.0</td>\n",
       "      <td>NaN</td>\n",
       "      <td>NaN</td>\n",
       "    </tr>\n",
       "    <tr>\n",
       "      <th>6</th>\n",
       "      <td>Departamento</td>\n",
       "      <td>Comas</td>\n",
       "      <td>2</td>\n",
       "      <td>0</td>\n",
       "      <td>0</td>\n",
       "      <td>50</td>\n",
       "      <td>1300.0</td>\n",
       "      <td>301.0</td>\n",
       "      <td>17.0</td>\n",
       "    </tr>\n",
       "    <tr>\n",
       "      <th>7</th>\n",
       "      <td>Casa en condominio</td>\n",
       "      <td>Ate</td>\n",
       "      <td>5</td>\n",
       "      <td>4</td>\n",
       "      <td>5</td>\n",
       "      <td>750</td>\n",
       "      <td>22000.0</td>\n",
       "      <td>NaN</td>\n",
       "      <td>NaN</td>\n",
       "    </tr>\n",
       "    <tr>\n",
       "      <th>8</th>\n",
       "      <td>Casa en condominio</td>\n",
       "      <td>El Agustino</td>\n",
       "      <td>2</td>\n",
       "      <td>2</td>\n",
       "      <td>0</td>\n",
       "      <td>65</td>\n",
       "      <td>1000.0</td>\n",
       "      <td>NaN</td>\n",
       "      <td>NaN</td>\n",
       "    </tr>\n",
       "    <tr>\n",
       "      <th>9</th>\n",
       "      <td>Local comercial</td>\n",
       "      <td>Pachacámac</td>\n",
       "      <td>0</td>\n",
       "      <td>3</td>\n",
       "      <td>0</td>\n",
       "      <td>695</td>\n",
       "      <td>35000.0</td>\n",
       "      <td>19193.0</td>\n",
       "      <td>3030.0</td>\n",
       "    </tr>\n",
       "  </tbody>\n",
       "</table>\n",
       "</div>"
      ],
      "text/plain": [
       "                 Tipo     Distrito  Cuartos  ...    Valor  Mantenimiento  Impuesto\n",
       "0          Habitación    San Borja        1  ...   1700.0          500.0      60.0\n",
       "1                Casa   Lurigancho        2  ...   7000.0            NaN       NaN\n",
       "2     Local comercial          Ate        0  ...   5200.0         4020.0    1111.0\n",
       "3        Departamento   Pachacámac        1  ...    800.0          390.0      20.0\n",
       "4        Departamento          Ate        1  ...    800.0          230.0       NaN\n",
       "5        Departamento     Barranco        3  ...   1200.0            NaN       NaN\n",
       "6        Departamento        Comas        2  ...   1300.0          301.0      17.0\n",
       "7  Casa en condominio          Ate        5  ...  22000.0            NaN       NaN\n",
       "8  Casa en condominio  El Agustino        2  ...   1000.0            NaN       NaN\n",
       "9     Local comercial   Pachacámac        0  ...  35000.0        19193.0    3030.0\n",
       "\n",
       "[10 rows x 9 columns]"
      ]
     },
     "execution_count": 2,
     "metadata": {
      "tags": []
     },
     "output_type": "execute_result"
    }
   ],
   "source": [
    "datos = pd.read_csv('alquiler.csv', sep = ';')\n",
    "datos.head(10)"
   ]
  },
  {
   "cell_type": "code",
   "execution_count": 3,
   "metadata": {
    "id": "-LBjNGqjZK4y"
   },
   "outputs": [],
   "source": [
    "# 1 y 2\n",
    "# 3 y 4\n",
    "# 5 y 6\n",
    "# 7 ó más\n",
    "clases = [0, 2, 4, 6, 100]"
   ]
  },
  {
   "cell_type": "code",
   "execution_count": 4,
   "metadata": {
    "id": "OjsSrzrxZK4y"
   },
   "outputs": [],
   "source": [
    "cuartos = pd.cut(datos.Cuartos, clases)"
   ]
  },
  {
   "cell_type": "code",
   "execution_count": 5,
   "metadata": {
    "colab": {
     "base_uri": "https://localhost:8080/"
    },
    "id": "hsZiCzlbZK4y",
    "outputId": "3e9a0b08-fd7f-408f-8eec-f5d43a4236a8",
    "scrolled": true
   },
   "outputs": [
    {
     "data": {
      "text/plain": [
       "0        (0.0, 2.0]\n",
       "1        (0.0, 2.0]\n",
       "2               NaN\n",
       "3        (0.0, 2.0]\n",
       "4        (0.0, 2.0]\n",
       "            ...    \n",
       "32955           NaN\n",
       "32956    (2.0, 4.0]\n",
       "32957    (0.0, 2.0]\n",
       "32958    (0.0, 2.0]\n",
       "32959           NaN\n",
       "Name: Cuartos, Length: 32960, dtype: category\n",
       "Categories (4, interval[int64]): [(0, 2] < (2, 4] < (4, 6] < (6, 100]]"
      ]
     },
     "execution_count": 5,
     "metadata": {
      "tags": []
     },
     "output_type": "execute_result"
    }
   ],
   "source": [
    "cuartos"
   ]
  },
  {
   "cell_type": "code",
   "execution_count": 6,
   "metadata": {
    "colab": {
     "base_uri": "https://localhost:8080/"
    },
    "id": "IiiO0r4LZK4z",
    "outputId": "eabacbfc-903c-419a-d9f6-ced60ca9d75d"
   },
   "outputs": [
    {
     "data": {
      "text/plain": [
       "(0, 2]      12419\n",
       "(2, 4]       9894\n",
       "(4, 6]        709\n",
       "(6, 100]       87\n",
       "Name: Cuartos, dtype: int64"
      ]
     },
     "execution_count": 6,
     "metadata": {
      "tags": []
     },
     "output_type": "execute_result"
    }
   ],
   "source": [
    "pd.value_counts(cuartos)"
   ]
  },
  {
   "cell_type": "code",
   "execution_count": 7,
   "metadata": {
    "id": "161rAMXAZK4z"
   },
   "outputs": [],
   "source": [
    "labels = ['1 y 2 cuartos', '3 y 4 cuartos', '5 y 6 cuartos', '7 cuartos ó más']"
   ]
  },
  {
   "cell_type": "code",
   "execution_count": 8,
   "metadata": {
    "id": "DBAX7MfyZK4z"
   },
   "outputs": [],
   "source": [
    "cuartos = pd.cut(datos.Cuartos, clases, labels = labels)"
   ]
  },
  {
   "cell_type": "code",
   "execution_count": 9,
   "metadata": {
    "colab": {
     "base_uri": "https://localhost:8080/"
    },
    "id": "htWRGO9lZK4z",
    "outputId": "1b487cad-1271-4ba2-b421-75e987aed323"
   },
   "outputs": [
    {
     "data": {
      "text/plain": [
       "1 y 2 cuartos      12419\n",
       "3 y 4 cuartos       9894\n",
       "5 y 6 cuartos        709\n",
       "7 cuartos ó más       87\n",
       "Name: Cuartos, dtype: int64"
      ]
     },
     "execution_count": 9,
     "metadata": {
      "tags": []
     },
     "output_type": "execute_result"
    }
   ],
   "source": [
    "pd.value_counts(cuartos)"
   ]
  },
  {
   "cell_type": "code",
   "execution_count": 10,
   "metadata": {
    "id": "xWVoynfWZK40"
   },
   "outputs": [],
   "source": [
    "cuartos = pd.cut(datos.Cuartos, clases, labels = labels, include_lowest= True)"
   ]
  },
  {
   "cell_type": "code",
   "execution_count": 11,
   "metadata": {
    "colab": {
     "base_uri": "https://localhost:8080/"
    },
    "id": "EZsGZrm1ZK40",
    "outputId": "7156b945-212e-4ce8-c1a1-4feadb64be22"
   },
   "outputs": [
    {
     "data": {
      "text/plain": [
       "1 y 2 cuartos      22270\n",
       "3 y 4 cuartos       9894\n",
       "5 y 6 cuartos        709\n",
       "7 cuartos ó más       87\n",
       "Name: Cuartos, dtype: int64"
      ]
     },
     "execution_count": 11,
     "metadata": {
      "tags": []
     },
     "output_type": "execute_result"
    }
   ],
   "source": [
    "pd.value_counts(cuartos)"
   ]
  },
  {
   "cell_type": "code",
   "execution_count": null,
   "metadata": {
    "id": "vZDs3lWzZK40"
   },
   "outputs": [],
   "source": []
  }
 ],
 "metadata": {
  "colab": {
   "collapsed_sections": [],
   "name": "Creando Rangos de Valor.ipynb",
   "provenance": []
  },
  "kernelspec": {
   "display_name": "Python 3",
   "language": "python",
   "name": "python3"
  },
  "language_info": {
   "codemirror_mode": {
    "name": "ipython",
    "version": 3
   },
   "file_extension": ".py",
   "mimetype": "text/x-python",
   "name": "python",
   "nbconvert_exporter": "python",
   "pygments_lexer": "ipython3",
   "version": "3.8.5"
  }
 },
 "nbformat": 4,
 "nbformat_minor": 1
}
