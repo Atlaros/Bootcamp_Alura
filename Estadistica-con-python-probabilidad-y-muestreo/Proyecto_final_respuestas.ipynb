{
  "nbformat": 4,
  "nbformat_minor": 0,
  "metadata": {
    "colab": {
      "provenance": []
    },
    "kernelspec": {
      "display_name": "Python 3",
      "language": "python",
      "name": "python3"
    },
    "language_info": {
      "codemirror_mode": {
        "name": "ipython",
        "version": 3
      },
      "file_extension": ".py",
      "mimetype": "text/x-python",
      "name": "python",
      "nbconvert_exporter": "python",
      "pygments_lexer": "ipython3",
      "version": "3.6.5"
    }
  },
  "cells": [
    {
      "cell_type": "markdown",
      "metadata": {
        "id": "WvMflodMjQKe"
      },
      "source": [
        "***\n",
        "# <font color=green size=10>CURSO DE ESTADÍSTICA - PARTE 2</font>\n",
        "***\n",
        "\n",
        "## Trabajo de Probabilidades, Muestreo y Estimación\n",
        "\n",
        "Utilizando los conocimientos adquiridos en nuestra formación, realice las siguientes tareas. Siga el guión propuesto y complete las celdas vacías."
      ]
    },
    {
      "cell_type": "markdown",
      "metadata": {
        "id": "cVgsZ_E3jQKg"
      },
      "source": [
        "# <font color=green>DATASET DEL PROYECTO</font>\n",
        "***"
      ]
    },
    {
      "cell_type": "markdown",
      "metadata": {
        "id": "iN1gIbaKjQKh"
      },
      "source": [
        "### Encuesta Nacional por Muestreo de Hogares - 2015\n",
        "\n",
        "La <b>Encuesta Nacional por Muestreo de Hogares</b> anualmente investiga, de manera permanente, características generales de la población, educación, trabajo, ingresos y vivienda y otras, con frecuencia variable, de acuerdo a las necesidades de información del país, tales como las características de migración, fecundidad, nupcialidad, salud, seguridad alimentaria, entre otros temas. La recopilación de estas estadísticas constituye, durante los 49 años de realización de la investigación, un importante instrumento para la formulación, validación y evaluación de políticas orientadas al desarrollo socioeconómico y la mejora de las condiciones de vida en Brasil."
      ]
    },
    {
      "cell_type": "markdown",
      "metadata": {
        "id": "U6V7br1RjQKi"
      },
      "source": [
        "### Fuente de los Datos\n",
        "\n",
        "Instituto Brasileño de Geografía y Estadística (IBGE) Encuesta Nacional por Muestreo de Hogares(PNAD) en el 2015"
      ]
    },
    {
      "cell_type": "markdown",
      "metadata": {
        "id": "r0Fe_qnzjQKj"
      },
      "source": [
        "### Variables utilizadas\n",
        "\n",
        "> ### Ingreso\n",
        "> ***\n",
        "\n",
        "Ingresos mensuales del trabajo principal para personas de 10 años y más.\n",
        "\n",
        "> ### Edad\n",
        "> ***\n",
        "\n",
        "Edad del residente en la fecha de referencia en años.\n",
        "\n",
        "> ### Altura (elaboración propia)\n",
        "> ***\n",
        "\n",
        "Altura del habitante en metros.\n",
        "\n",
        "> ### UF\n",
        "> ***\n",
        "Unidad Federal\n",
        "\n",
        "\n",
        "|Código|Descripción|\n",
        "|---|---|\n",
        "|11|Rondônia|\n",
        "|12|Acre|\n",
        "|13|Amazonas|\n",
        "|14|Roraima|\n",
        "|15|Pará|\n",
        "|16|Amapá|\n",
        "|17|Tocantins|\n",
        "|21|Maranhão|\n",
        "|22|Piauí|\n",
        "|23|Ceará|\n",
        "|24|Rio Grande do Norte|\n",
        "|25|Paraíba|\n",
        "|26|Pernambuco|\n",
        "|27|Alagoas|\n",
        "|28|Sergipe|\n",
        "|29|Bahia|\n",
        "|31|Minas Gerais|\n",
        "|32|Espírito Santo|\n",
        "|33|Rio de Janeiro|\n",
        "|35|São Paulo|\n",
        "|41|Paraná|\n",
        "|42|Santa Catarina|\n",
        "|43|Rio Grande do Sul|\n",
        "|50|Mato Grosso do Sul|\n",
        "|51|Mato Grosso|\n",
        "|52|Goiás|\n",
        "|53|Distrito Federal|\n",
        "\n",
        "> ### Sexo\n",
        "> ***\n",
        "\n",
        "|Código|Descripción|\n",
        "|---|---|\n",
        "|0|Masculino|\n",
        "|1|Femenino|\n",
        "\n",
        "> ### Años de Estudio\n",
        "> ***\n",
        "\n",
        "|Código|Descripción|\n",
        "|---|---|\n",
        "|1|Sin educación o menos de 1 año|\n",
        "|2|1 año|\n",
        "|3|2 años|\n",
        "|4|3 años|\n",
        "|5|4 años|\n",
        "|6|5 años|\n",
        "|7|6 años|\n",
        "|8|7 años|\n",
        "|9|8 años|\n",
        "|10|9 años|\n",
        "|11|10 años|\n",
        "|12|11 años|\n",
        "|13|12 años|\n",
        "|14|13 años|\n",
        "|15|14 años|\n",
        "|16|15 años o más|\n",
        "|17|No determinado|\n",
        "||No aplicable|\n",
        "\n",
        "> ### Color\n",
        "> ***\n",
        "\n",
        "|Código|Descripción|\n",
        "|---|---|\n",
        "|0|Indígena|\n",
        "|2|Blanco|\n",
        "|4|Negro|\n",
        "|6|Amarillo|\n",
        "|8|Pardo|\n",
        "|9|Sin declaración|"
      ]
    },
    {
      "cell_type": "markdown",
      "metadata": {
        "id": "OK1IQH5cX7Gb"
      },
      "source": [
        "#### <font color='red'>Nota</font>\n",
        "***\n",
        "> Se realizaron los siguientes tratamientos sobre los datos originales:\n",
        "> 1. Se eliminaron los registros en los que **Ingreso** no era válido. (999 999 999 999);\n",
        "> 2. Se eliminaron los registros en los que **Ingreso** eran missing;\n",
        "> 3. Solo se consideraron los registros de **Personas de Referencia** de cada hogar (responsable del hogar)."
      ]
    },
    {
      "cell_type": "markdown",
      "metadata": {
        "id": "ZIqLOffNTg1Y"
      },
      "source": [
        "***\n",
        "***"
      ]
    },
    {
      "cell_type": "markdown",
      "metadata": {
        "id": "8Rw70V6ojQKk"
      },
      "source": [
        "### Use la celda a continuación para importar las bibliotecas que necesita para realizar las tareas\n",
        "#### <font color='red'>Sugerencias: pandas, numpy, scipy etc.</font>"
      ]
    },
    {
      "cell_type": "code",
      "metadata": {
        "id": "fcTgimHBybMz"
      },
      "source": [
        "import pandas as pd\n",
        "import numpy as np\n",
        "from scipy.stats import binom\n",
        "from scipy.stats import norm"
      ],
      "execution_count": 1,
      "outputs": []
    },
    {
      "cell_type": "markdown",
      "metadata": {
        "id": "2a-gvBvCULwt"
      },
      "source": [
        "### Importe el dataset y almacenar el contenido en un DataFrame"
      ]
    },
    {
      "cell_type": "code",
      "metadata": {
        "id": "ufRZ7TLwjQKo"
      },
      "source": [
        "datos = pd.read_csv('datos.csv',encoding='latin-1')"
      ],
      "execution_count": 2,
      "outputs": []
    },
    {
      "cell_type": "markdown",
      "metadata": {
        "id": "Oq3CKHCmTg1j"
      },
      "source": [
        "### Ver el contenido del DataFrame"
      ]
    },
    {
      "cell_type": "code",
      "metadata": {
        "colab": {
          "base_uri": "https://localhost:8080/",
          "height": 206
        },
        "id": "GsC_WhLFjQKq",
        "scrolled": true,
        "outputId": "242ea377-8e95-4716-d29c-85184d600fdb"
      },
      "source": [
        "datos.head()"
      ],
      "execution_count": 3,
      "outputs": [
        {
          "output_type": "execute_result",
          "data": {
            "text/plain": [
              "   Ciudad  Sexo  Edad  Color  Años de Estudio  Ingreso    Altura\n",
              "0      11     0    23      8               12      800  1.603808\n",
              "1      11     1    23      2               12     1150  1.739790\n",
              "2      11     1    35      8               15      880  1.760444\n",
              "3      11     0    46      2                6     3500  1.783158\n",
              "4      11     1    47      8                9      150  1.690631"
            ],
            "text/html": [
              "\n",
              "  <div id=\"df-f1910194-79ca-42e9-8206-6601a621876e\">\n",
              "    <div class=\"colab-df-container\">\n",
              "      <div>\n",
              "<style scoped>\n",
              "    .dataframe tbody tr th:only-of-type {\n",
              "        vertical-align: middle;\n",
              "    }\n",
              "\n",
              "    .dataframe tbody tr th {\n",
              "        vertical-align: top;\n",
              "    }\n",
              "\n",
              "    .dataframe thead th {\n",
              "        text-align: right;\n",
              "    }\n",
              "</style>\n",
              "<table border=\"1\" class=\"dataframe\">\n",
              "  <thead>\n",
              "    <tr style=\"text-align: right;\">\n",
              "      <th></th>\n",
              "      <th>Ciudad</th>\n",
              "      <th>Sexo</th>\n",
              "      <th>Edad</th>\n",
              "      <th>Color</th>\n",
              "      <th>Años de Estudio</th>\n",
              "      <th>Ingreso</th>\n",
              "      <th>Altura</th>\n",
              "    </tr>\n",
              "  </thead>\n",
              "  <tbody>\n",
              "    <tr>\n",
              "      <th>0</th>\n",
              "      <td>11</td>\n",
              "      <td>0</td>\n",
              "      <td>23</td>\n",
              "      <td>8</td>\n",
              "      <td>12</td>\n",
              "      <td>800</td>\n",
              "      <td>1.603808</td>\n",
              "    </tr>\n",
              "    <tr>\n",
              "      <th>1</th>\n",
              "      <td>11</td>\n",
              "      <td>1</td>\n",
              "      <td>23</td>\n",
              "      <td>2</td>\n",
              "      <td>12</td>\n",
              "      <td>1150</td>\n",
              "      <td>1.739790</td>\n",
              "    </tr>\n",
              "    <tr>\n",
              "      <th>2</th>\n",
              "      <td>11</td>\n",
              "      <td>1</td>\n",
              "      <td>35</td>\n",
              "      <td>8</td>\n",
              "      <td>15</td>\n",
              "      <td>880</td>\n",
              "      <td>1.760444</td>\n",
              "    </tr>\n",
              "    <tr>\n",
              "      <th>3</th>\n",
              "      <td>11</td>\n",
              "      <td>0</td>\n",
              "      <td>46</td>\n",
              "      <td>2</td>\n",
              "      <td>6</td>\n",
              "      <td>3500</td>\n",
              "      <td>1.783158</td>\n",
              "    </tr>\n",
              "    <tr>\n",
              "      <th>4</th>\n",
              "      <td>11</td>\n",
              "      <td>1</td>\n",
              "      <td>47</td>\n",
              "      <td>8</td>\n",
              "      <td>9</td>\n",
              "      <td>150</td>\n",
              "      <td>1.690631</td>\n",
              "    </tr>\n",
              "  </tbody>\n",
              "</table>\n",
              "</div>\n",
              "      <button class=\"colab-df-convert\" onclick=\"convertToInteractive('df-f1910194-79ca-42e9-8206-6601a621876e')\"\n",
              "              title=\"Convert this dataframe to an interactive table.\"\n",
              "              style=\"display:none;\">\n",
              "        \n",
              "  <svg xmlns=\"http://www.w3.org/2000/svg\" height=\"24px\"viewBox=\"0 0 24 24\"\n",
              "       width=\"24px\">\n",
              "    <path d=\"M0 0h24v24H0V0z\" fill=\"none\"/>\n",
              "    <path d=\"M18.56 5.44l.94 2.06.94-2.06 2.06-.94-2.06-.94-.94-2.06-.94 2.06-2.06.94zm-11 1L8.5 8.5l.94-2.06 2.06-.94-2.06-.94L8.5 2.5l-.94 2.06-2.06.94zm10 10l.94 2.06.94-2.06 2.06-.94-2.06-.94-.94-2.06-.94 2.06-2.06.94z\"/><path d=\"M17.41 7.96l-1.37-1.37c-.4-.4-.92-.59-1.43-.59-.52 0-1.04.2-1.43.59L10.3 9.45l-7.72 7.72c-.78.78-.78 2.05 0 2.83L4 21.41c.39.39.9.59 1.41.59.51 0 1.02-.2 1.41-.59l7.78-7.78 2.81-2.81c.8-.78.8-2.07 0-2.86zM5.41 20L4 18.59l7.72-7.72 1.47 1.35L5.41 20z\"/>\n",
              "  </svg>\n",
              "      </button>\n",
              "      \n",
              "  <style>\n",
              "    .colab-df-container {\n",
              "      display:flex;\n",
              "      flex-wrap:wrap;\n",
              "      gap: 12px;\n",
              "    }\n",
              "\n",
              "    .colab-df-convert {\n",
              "      background-color: #E8F0FE;\n",
              "      border: none;\n",
              "      border-radius: 50%;\n",
              "      cursor: pointer;\n",
              "      display: none;\n",
              "      fill: #1967D2;\n",
              "      height: 32px;\n",
              "      padding: 0 0 0 0;\n",
              "      width: 32px;\n",
              "    }\n",
              "\n",
              "    .colab-df-convert:hover {\n",
              "      background-color: #E2EBFA;\n",
              "      box-shadow: 0px 1px 2px rgba(60, 64, 67, 0.3), 0px 1px 3px 1px rgba(60, 64, 67, 0.15);\n",
              "      fill: #174EA6;\n",
              "    }\n",
              "\n",
              "    [theme=dark] .colab-df-convert {\n",
              "      background-color: #3B4455;\n",
              "      fill: #D2E3FC;\n",
              "    }\n",
              "\n",
              "    [theme=dark] .colab-df-convert:hover {\n",
              "      background-color: #434B5C;\n",
              "      box-shadow: 0px 1px 3px 1px rgba(0, 0, 0, 0.15);\n",
              "      filter: drop-shadow(0px 1px 2px rgba(0, 0, 0, 0.3));\n",
              "      fill: #FFFFFF;\n",
              "    }\n",
              "  </style>\n",
              "\n",
              "      <script>\n",
              "        const buttonEl =\n",
              "          document.querySelector('#df-f1910194-79ca-42e9-8206-6601a621876e button.colab-df-convert');\n",
              "        buttonEl.style.display =\n",
              "          google.colab.kernel.accessAllowed ? 'block' : 'none';\n",
              "\n",
              "        async function convertToInteractive(key) {\n",
              "          const element = document.querySelector('#df-f1910194-79ca-42e9-8206-6601a621876e');\n",
              "          const dataTable =\n",
              "            await google.colab.kernel.invokeFunction('convertToInteractive',\n",
              "                                                     [key], {});\n",
              "          if (!dataTable) return;\n",
              "\n",
              "          const docLinkHtml = 'Like what you see? Visit the ' +\n",
              "            '<a target=\"_blank\" href=https://colab.research.google.com/notebooks/data_table.ipynb>data table notebook</a>'\n",
              "            + ' to learn more about interactive tables.';\n",
              "          element.innerHTML = '';\n",
              "          dataTable['output_type'] = 'display_data';\n",
              "          await google.colab.output.renderOutput(dataTable, element);\n",
              "          const docLink = document.createElement('div');\n",
              "          docLink.innerHTML = docLinkHtml;\n",
              "          element.appendChild(docLink);\n",
              "        }\n",
              "      </script>\n",
              "    </div>\n",
              "  </div>\n",
              "  "
            ]
          },
          "metadata": {},
          "execution_count": 3
        }
      ]
    },
    {
      "cell_type": "markdown",
      "metadata": {
        "id": "1ldnLTqK5bl_"
      },
      "source": [
        "# <font color='green'>Problema A</font>"
      ]
    },
    {
      "cell_type": "markdown",
      "metadata": {
        "id": "9eJMw-Uq5bmA"
      },
      "source": [
        "Al evaluar nuestro conjunto de datos, es posible verificar que la **proporción de hombres** como jefes de hogar es casi del **70%**. Necesitamos **seleccionar al azar grupos de 10 individuos** para verificar las diferencias entre las ganancias en cada grupo. ¿Cuál es la **probabilidad de seleccionar un grupo que presente la misma proporción de la población**, es decir, seleccionar un grupo que esté **compuesto por 7 hombres y 3 mujeres**?\n",
        "\n",
        "#### <font color='blue'>Como tarea adicional, verifique la proporción real de hombres y mujeres en nuestro conjunto de datos (vimos cómo hacer esto en nuestro primer curso de estadística).</font>\n",
        "\n",
        "#### <font color='red'>Compruebe qué tipo de distribución de probabilidad se ajusta a este experimento.</font>"
      ]
    },
    {
      "cell_type": "markdown",
      "metadata": {
        "id": "VoF00gKM5bmB"
      },
      "source": [
        "### Solución"
      ]
    },
    {
      "cell_type": "code",
      "source": [
        "#como solo teenemos dos datos hombre y muejr es una distribucion binomial."
      ],
      "metadata": {
        "id": "XZO9asTCyOzF"
      },
      "execution_count": null,
      "outputs": []
    },
    {
      "cell_type": "markdown",
      "metadata": {
        "id": "ogr7CiW_8iL-"
      },
      "source": [
        "## Total de eventos que se desea obtener éxito (k)"
      ]
    },
    {
      "cell_type": "code",
      "metadata": {
        "id": "wkJ0oeqV5bmB"
      },
      "source": [
        "k = 7"
      ],
      "execution_count": 4,
      "outputs": []
    },
    {
      "cell_type": "markdown",
      "metadata": {
        "id": "USajr5fA8krL"
      },
      "source": [
        "## Total de ensayos"
      ]
    },
    {
      "cell_type": "code",
      "metadata": {
        "id": "xGJ-k-ol5bmD"
      },
      "source": [
        "n = 10"
      ],
      "execution_count": 5,
      "outputs": []
    },
    {
      "cell_type": "markdown",
      "metadata": {
        "id": "LzhoYxZj8nYb"
      },
      "source": [
        "## Probabilidad de éxito"
      ]
    },
    {
      "cell_type": "code",
      "metadata": {
        "id": "LA0ONe0x5bmD"
      },
      "source": [
        "p = 0.70"
      ],
      "execution_count": 6,
      "outputs": []
    },
    {
      "cell_type": "markdown",
      "metadata": {
        "id": "D2Ulzr_C8oe0"
      },
      "source": [
        "## Solución"
      ]
    },
    {
      "cell_type": "code",
      "metadata": {
        "colab": {
          "base_uri": "https://localhost:8080/"
        },
        "id": "KnDxQDwf5bmE",
        "outputId": "12212356-421e-4849-b40c-9b0c52b96638"
      },
      "source": [
        "probabilidad = binom.pmf(k, n, p)\n",
        "print(f'{probabilidad:.8f}')"
      ],
      "execution_count": 7,
      "outputs": [
        {
          "output_type": "stream",
          "name": "stdout",
          "text": [
            "0.26682793\n"
          ]
        }
      ]
    },
    {
      "cell_type": "markdown",
      "metadata": {
        "id": "jWAVajbA5bmF"
      },
      "source": [
        "# <font color='green'>Problema B</font>"
      ]
    },
    {
      "cell_type": "markdown",
      "metadata": {
        "id": "jUgWC4SL5bmF"
      },
      "source": [
        "Aún en la pregunta anterior, **¿cuántos grupos de 10 individuos** tendríamos que seleccionar, al azar, para obtener **100 grupos formados por 7 hombres y 3 mujeres**?\n",
        "\n",
        "#### <font color='red'>Recuerde la forma de promediar una distribución binomial</font>"
      ]
    },
    {
      "cell_type": "markdown",
      "metadata": {
        "id": "Yrlo-xM95bmF"
      },
      "source": [
        "### Solución"
      ]
    },
    {
      "cell_type": "code",
      "source": [
        "#pra resovelverlo necesitmos la media de la distribucion binomial, palicando la probabilidad en la formula de la  media de la districbucion bonomial."
      ],
      "metadata": {
        "id": "eaf1F9Weykm9"
      },
      "execution_count": null,
      "outputs": []
    },
    {
      "cell_type": "markdown",
      "metadata": {
        "id": "-i4MbQez5bmH"
      },
      "source": [
        "### Media de la distribución binomial\n",
        "\n",
        "# $$\\mu=nXp$$"
      ]
    },
    {
      "cell_type": "code",
      "metadata": {
        "colab": {
          "base_uri": "https://localhost:8080/"
        },
        "id": "1-ic5VnL5bmH",
        "outputId": "46323d8b-a263-4618-a2de-429fe5d60a97"
      },
      "source": [
        "#despejamos n\n",
        "# media = n * p\n",
        "# n = media / p\n",
        "\n",
        "n = 100 / probabilidad\n",
        "n = int(n.round())\n",
        "n"
      ],
      "execution_count": 30,
      "outputs": [
        {
          "output_type": "execute_result",
          "data": {
            "text/plain": [
              "375"
            ]
          },
          "metadata": {},
          "execution_count": 30
        }
      ]
    },
    {
      "cell_type": "markdown",
      "metadata": {
        "id": "SSzr48r-5bmJ"
      },
      "source": [
        "# <font color='green'>Problema C</font>"
      ]
    },
    {
      "cell_type": "markdown",
      "metadata": {
        "id": "PgDFt-K25bmJ"
      },
      "source": [
        "Un cliente nos encargó la realización de un estudio para evaluar **los ingresos de los jefes de hogar en Brasil**. Para eso, necesitamos realizar una nueva recolección de datos, es decir, una nueva investigación de campo. Después de reunirse con el cliente, fue posible enumerar el siguiente conjunto de informaciones:\n",
        "\n",
        "> A. El resultado de la búsqueda debe estar listo en **2 meses**;\n",
        "\n",
        "> B. Solo tendremos **R$\\$$ 150000,00** de fondos para realizar la investigación de campo; y\n",
        "\n",
        "> C. Sería interesante tener un **margen de error que no supere el 10% en relación a la media estimada**.\n",
        "\n",
        "En nuestra experiencia con estudios de este tipo, sabemos que el **costo promedio por entrevistado ronda los R$\\$$ 100,00**. Con este conjunto de hechos, evalúe y obtenga el siguiente conjunto de información para transmitir al cliente:\n",
        "\n",
        "> 1. Para obtener una estimación de los parámetros de la población (ingresos de los jefes de hogar en Brasil), realice un muestreo aleatorio simple en nuestro conjunto de datos. Esta muestra debe contener 200 elementos (use random_state = 101 para asegurarse de que se pueda volver a realizar el mismo experimento). Obtenga la media y la desviación estándar de esta muestra.\n",
        "\n",
        "> 2. Para el **margen de error** especificado por el cliente, obtenga los **tamaños de muestra** necesarios para garantizar **niveles de confianza del 90%, 95% y 99%**.\n",
        "\n",
        "> 3. Obtenga el **costo de la encuesta** para los tres niveles de confianza.\n",
        "\n",
        "> 4. Para obtener el nivel más alto de confianza viable (dentro del presupuesto disponible), obtenga un **intervalo de confianza para la media de la población**.\n",
        "\n",
        "> 5. Suponiendo el **nivel de confianza elegido en el inciso anterior**, ¿qué **margen de error** se puede considerar utilizando todos los recursos proporcionados por el cliente?\n",
        "\n",
        "> 6. Suponiendo un **nivel de confianza del 95%**, **¿cuánto costaría la encuesta al cliente** si se considerara un **margen de error de solo el 5%** en relación con el promedio estimado?\n"
      ]
    },
    {
      "cell_type": "markdown",
      "metadata": {
        "id": "RT-FPHm85bmK"
      },
      "source": [
        "# <font color='blue'>Solución del punto 1</font>"
      ]
    },
    {
      "cell_type": "markdown",
      "metadata": {
        "id": "wxw7HmVp5bmL"
      },
      "source": [
        "### Selección de una muestra aleatoria simple\n",
        "\n",
        "#### <font color='red'>Recuerde usar *random_state = 101*</font>"
      ]
    },
    {
      "cell_type": "code",
      "metadata": {
        "id": "oHD_J1lt5bmL"
      },
      "source": [
        "#creamos nuestra variable del conjunto datos con la que vamos atrasbjar de la varaible ingresos del dataframe datos.\n",
        "dataset = datos.Ingreso.sample(n = 200, random_state = 101)"
      ],
      "execution_count": 9,
      "outputs": []
    },
    {
      "cell_type": "code",
      "metadata": {
        "colab": {
          "base_uri": "https://localhost:8080/"
        },
        "id": "w688AkAq5bmM",
        "outputId": "e6bf7a30-2662-4ff6-a515-ff73ac637888"
      },
      "source": [
        "#calcaulamos la media\n",
        "dataset.mean()"
      ],
      "execution_count": 10,
      "outputs": [
        {
          "output_type": "execute_result",
          "data": {
            "text/plain": [
              "1964.205"
            ]
          },
          "metadata": {},
          "execution_count": 10
        }
      ]
    },
    {
      "cell_type": "code",
      "metadata": {
        "colab": {
          "base_uri": "https://localhost:8080/"
        },
        "id": "T_pGKrq05bmN",
        "outputId": "6cc6dd38-a4b4-4150-d7b2-f3a6839fbb45"
      },
      "source": [
        "#calcualmos la desviacion starndar.\n",
        "dataset.std()"
      ],
      "execution_count": 11,
      "outputs": [
        {
          "output_type": "execute_result",
          "data": {
            "text/plain": [
              "3139.8855167452093"
            ]
          },
          "metadata": {},
          "execution_count": 11
        }
      ]
    },
    {
      "cell_type": "markdown",
      "metadata": {
        "id": "DCLmPZRP5bmO"
      },
      "source": [
        "### Datos del problema"
      ]
    },
    {
      "cell_type": "code",
      "metadata": {
        "id": "_rbgt1Ol5bmP"
      },
      "source": [
        "media_muestra = dataset.mean()\n",
        "desviacion_estandar_muestra = dataset.std()\n",
        "recursos = 150000#cantidad de fondos\n",
        "costo_entrevista = 100"
      ],
      "execution_count": 31,
      "outputs": []
    },
    {
      "cell_type": "markdown",
      "metadata": {
        "id": "fMJTUr9h5bmQ"
      },
      "source": [
        "# <font color='blue'>Solución del punto 2</font>"
      ]
    },
    {
      "cell_type": "markdown",
      "metadata": {
        "id": "_cE33Sk65bmQ"
      },
      "source": [
        "### Obtenga el margen de error\n",
        "\n",
        "#### <font color='red'>Recuerde que el margen de error debe estar en la misma unidad que la variable en estudio (R$)</font>"
      ]
    },
    {
      "cell_type": "code",
      "metadata": {
        "colab": {
          "base_uri": "https://localhost:8080/"
        },
        "id": "ABRKgHDA5bmQ",
        "outputId": "ae804c7e-8b88-4b3d-d5d7-aa036388a27e"
      },
      "source": [
        "#lo rpimero para hacer es colocar la variable de error en las mismas unidades que nuestra vairable de estudio\n",
        "#para lograr esto multicamos el eeror de 10 reales por media de la miuestra.\n",
        "e = 0.10 * media_muestra\n",
        "print(f'El margen de error es de R$ {e:.2f} aproximadamente')"
      ],
      "execution_count": 13,
      "outputs": [
        {
          "output_type": "stream",
          "name": "stdout",
          "text": [
            "El margen de error es de R$ 196.42 aproximadamente\n"
          ]
        }
      ]
    },
    {
      "cell_type": "markdown",
      "metadata": {
        "id": "kJTzpSxr5bmR"
      },
      "source": [
        "### Tamaño de la muestra ($1 - \\alpha = 90\\%$)"
      ]
    },
    {
      "cell_type": "code",
      "metadata": {
        "colab": {
          "base_uri": "https://localhost:8080/"
        },
        "id": "bempjGoY5bmR",
        "outputId": "6e77e2c8-0ec1-4df2-c2a6-87ef5affd0a0"
      },
      "source": [
        "#calcualmos el tamaño de la muestra ideal\n",
        "#simpre es 0.5(este valor simpre es 0.5) mas el valor de la confianza dividio por dos\n",
        "0.5 + (0.9 / 2)\n",
        "#con este valor tenemos el parametros para calcualar z con la funcion ppf"
      ],
      "execution_count": 14,
      "outputs": [
        {
          "output_type": "execute_result",
          "data": {
            "text/plain": [
              "0.95"
            ]
          },
          "metadata": {},
          "execution_count": 14
        }
      ]
    },
    {
      "cell_type": "code",
      "metadata": {
        "colab": {
          "base_uri": "https://localhost:8080/"
        },
        "id": "6MqFd9aq5bmT",
        "outputId": "b1fbf4c6-8923-43b4-a2a0-856c271c9593"
      },
      "source": [
        "z = norm.ppf(.95)\n",
        "n_confianza_90 = (z * (desviacion_estandar_muestra / e)) ** 2\n",
        "n_confianza_90 = int(n_confianza_90.round())\n",
        "print(f'Para un nivel de confianza del 90% debemos seleccionar una muestra de {n_confianza_90} elementos.')"
      ],
      "execution_count": 15,
      "outputs": [
        {
          "output_type": "stream",
          "name": "stdout",
          "text": [
            "Para un nivel de confianza del 90% debemos seleccionar una muestra de 691 elementos.\n"
          ]
        }
      ]
    },
    {
      "cell_type": "markdown",
      "metadata": {
        "id": "teHM6G0Y5bmU"
      },
      "source": [
        "### Tamaño de la muestra ($1 - \\alpha = 95\\%$)"
      ]
    },
    {
      "cell_type": "code",
      "metadata": {
        "colab": {
          "base_uri": "https://localhost:8080/"
        },
        "id": "mzhIop3o5bmU",
        "outputId": "0da8903f-c2af-41ce-99b4-acbc0a06f09e"
      },
      "source": [
        "#hacemos lo mismo pasos para 95% de confianza\n",
        "0.5 + (0.95 / 2)"
      ],
      "execution_count": 16,
      "outputs": [
        {
          "output_type": "execute_result",
          "data": {
            "text/plain": [
              "0.975"
            ]
          },
          "metadata": {},
          "execution_count": 16
        }
      ]
    },
    {
      "cell_type": "code",
      "metadata": {
        "colab": {
          "base_uri": "https://localhost:8080/"
        },
        "id": "0wxAy4Ik5bmV",
        "outputId": "6d7e50e9-a8ba-4135-a36d-b6e9958cda81"
      },
      "source": [
        "z = norm.ppf(.975)\n",
        "n_confianza_95 = (z * (desviacion_estandar_muestra / e)) ** 2\n",
        "n_confianza_95 = int(n_confianza_95.round())\n",
        "print(f'Para un nivel de confianza del 95% debemos seleccionar una muestra de {n_confianza_95} elementos.')"
      ],
      "execution_count": 17,
      "outputs": [
        {
          "output_type": "stream",
          "name": "stdout",
          "text": [
            "Para un nivel de confianza del 95% debemos seleccionar una muestra de 982 elementos.\n"
          ]
        }
      ]
    },
    {
      "cell_type": "markdown",
      "metadata": {
        "id": "TDqvtpqe5bmV"
      },
      "source": [
        "### Tamaño de la muestra ($1 - \\alpha = 99\\%$)"
      ]
    },
    {
      "cell_type": "code",
      "metadata": {
        "colab": {
          "base_uri": "https://localhost:8080/"
        },
        "id": "93qSZ6Q85bmW",
        "outputId": "7f279aa9-701a-4f41-f75c-d1da58efd7da"
      },
      "source": [
        "#hacemos lo msimo apra 99% de confianza\n",
        "0.5 + (0.99 / 2)"
      ],
      "execution_count": 18,
      "outputs": [
        {
          "output_type": "execute_result",
          "data": {
            "text/plain": [
              "0.995"
            ]
          },
          "metadata": {},
          "execution_count": 18
        }
      ]
    },
    {
      "cell_type": "code",
      "metadata": {
        "colab": {
          "base_uri": "https://localhost:8080/"
        },
        "id": "5JLh7OeX5bmX",
        "outputId": "0eb137af-a6b6-4f9c-d56b-b8942abf2eb2"
      },
      "source": [
        "z = norm.ppf(.995)\n",
        "n_confianza_99 = (z * (desviacion_estandar_muestra / e)) ** 2\n",
        "n_confianza_99 = int(n_confianza_99.round())\n",
        "print(f'Para un nivel de confianza del 99% debemos seleccionar una muestra de {n_confianza_99} elementos.')"
      ],
      "execution_count": 19,
      "outputs": [
        {
          "output_type": "stream",
          "name": "stdout",
          "text": [
            "Para un nivel de confianza del 99% debemos seleccionar una muestra de 1695 elementos.\n"
          ]
        }
      ]
    },
    {
      "cell_type": "markdown",
      "metadata": {
        "id": "L4cZg8_l5bmX"
      },
      "source": [
        "# <font color='blue'>Solución del punto 3</font>"
      ]
    },
    {
      "cell_type": "markdown",
      "metadata": {
        "id": "xfKloU_q5bmZ"
      },
      "source": [
        "### Costo de investigación para el nivel de confianza de 90%"
      ]
    },
    {
      "cell_type": "code",
      "metadata": {
        "colab": {
          "base_uri": "https://localhost:8080/"
        },
        "id": "sirSidd25bmZ",
        "outputId": "8838a2ad-d86a-445b-936c-f2ab9cac6b0b"
      },
      "source": [
        "costo_confianza_90 = n_confianza_90 * costo_entrevista\n",
        "print(f'Para un nivel de confianza del 90% el costo de la investigación sería R$ {costo_confianza_90:.2f}')"
      ],
      "execution_count": 20,
      "outputs": [
        {
          "output_type": "stream",
          "name": "stdout",
          "text": [
            "Para un nivel de confianza del 90% el costo de la investigación sería R$ 69100.00\n"
          ]
        }
      ]
    },
    {
      "cell_type": "markdown",
      "metadata": {
        "id": "cLKFxJHM5bma"
      },
      "source": [
        "### Costo de investigación para el nivel de confianza de 95%"
      ]
    },
    {
      "cell_type": "code",
      "metadata": {
        "colab": {
          "base_uri": "https://localhost:8080/"
        },
        "id": "7QAMlwnG5bmd",
        "outputId": "604dddd2-85dc-449f-f219-4d9454810dd6"
      },
      "source": [
        "costo_confianza_95 = n_confianza_95 * costo_entrevista\n",
        "print(f'Para un nivel de confianza del 95% el costo de la investigación sería R$ {costo_confianza_95:.2f}')"
      ],
      "execution_count": 21,
      "outputs": [
        {
          "output_type": "stream",
          "name": "stdout",
          "text": [
            "Para un nivel de confianza del 95% el costo de la investigación sería R$ 98200.00\n"
          ]
        }
      ]
    },
    {
      "cell_type": "markdown",
      "metadata": {
        "id": "1SyQNzZs5bme"
      },
      "source": [
        "### Costo de investigación para el nivel de confianza de 99%"
      ]
    },
    {
      "cell_type": "code",
      "metadata": {
        "colab": {
          "base_uri": "https://localhost:8080/"
        },
        "id": "obfWrq205bmf",
        "outputId": "1be33cf8-0ff1-46ef-8c5a-ed74091f563c"
      },
      "source": [
        "costo_confianza_99 = n_confianza_99 * costo_entrevista\n",
        "print(f'Para un nivel de confianza del 99% el costo de la investigación sería R$ {costo_confianza_99:.2f}')"
      ],
      "execution_count": 22,
      "outputs": [
        {
          "output_type": "stream",
          "name": "stdout",
          "text": [
            "Para un nivel de confianza del 99% el costo de la investigación sería R$ 169500.00\n"
          ]
        }
      ]
    },
    {
      "cell_type": "markdown",
      "metadata": {
        "id": "ZnfKqGNj5bmg"
      },
      "source": [
        "# <font color='blue'>Solución del punto 4</font>"
      ]
    },
    {
      "cell_type": "code",
      "metadata": {
        "colab": {
          "base_uri": "https://localhost:8080/"
        },
        "id": "t6W21JB75bmi",
        "outputId": "19ea5f6a-79d0-4520-fe63-2673bb049cdb"
      },
      "source": [
        "#calcualmos el intervalode confianza para una confianza del 95% ya que con una confianza del 95% el presupuesto asignado alcanza.\n",
        "intervalo = norm.interval(alpha=0.95, loc=media_muestra, scale=desviacion_estandar_muestra / np.sqrt(n_confianza_95))\n",
        "intervalo\n",
        "#los parametros de la funcion interval son : lapha = nivel de confianza. loc = media de la muestra, scale= desviacion starndar d ela medias muestrales y lo dividimos por la raiz cudara de la muestra\n",
        "#la muestra que usamos en la division es la muestra viable srgun el rpesupuesto que es con la confianza del 95%"
      ],
      "execution_count": 32,
      "outputs": [
        {
          "output_type": "stream",
          "name": "stderr",
          "text": [
            "<ipython-input-32-c6b32ea1eec2>:2: DeprecationWarning: Use of keyword argument 'alpha' for method 'interval' is deprecated and wil be removed in SciPy 1.11.0. Use first positional argument or keyword argument 'confidence' instead.\n",
            "  intervalo = norm.interval(alpha=0.95, loc=media_muestra, scale=desviacion_estandar_muestra / np.sqrt(n_confianza_95))\n"
          ]
        },
        {
          "output_type": "execute_result",
          "data": {
            "text/plain": [
              "(1866.000485269861, 2062.4095147301387)"
            ]
          },
          "metadata": {},
          "execution_count": 32
        }
      ]
    },
    {
      "cell_type": "markdown",
      "metadata": {
        "id": "91hjxfVH5bmj"
      },
      "source": [
        "# <font color='blue'>Solución del punto 5</font>"
      ]
    },
    {
      "cell_type": "code",
      "metadata": {
        "colab": {
          "base_uri": "https://localhost:8080/"
        },
        "id": "i708-a3M5bmj",
        "outputId": "f0bbffd8-6615-4134-8009-883072e344a7"
      },
      "source": [
        "#consumindo todos los recudos del presupuesto cual seria el menor margen de error q conseguiriamos\n",
        "#tenemos calcualar cuantas personas tenemos q entrevistar\n",
        "#divismo el rpesupuesto por ostode entrsvizsta.\n",
        "n_confianza_95 = recursos / costo_entrevista\n",
        "n_confianza_95\n",
        "#ncesitariamos entrevistar 1500 personas"
      ],
      "execution_count": 33,
      "outputs": [
        {
          "output_type": "execute_result",
          "data": {
            "text/plain": [
              "1500.0"
            ]
          },
          "metadata": {},
          "execution_count": 33
        }
      ]
    },
    {
      "cell_type": "code",
      "metadata": {
        "colab": {
          "base_uri": "https://localhost:8080/"
        },
        "id": "xOBqA8L15bml",
        "outputId": "5a216251-45a7-4cdd-d71e-00f7c25a1773"
      },
      "source": [
        "#calculamos la z con el nivel de confianza de 95%. no nos olvidemos qesto se calcula dividnedo el nviel de confizza de 95 (0.95) por 2 y luego se suma por 0.5\n",
        "z = norm.ppf(.975)\n",
        "#calualmos el error con el el valor de z y la desvianzion starndar usando formula.\n",
        "e = z * (desviacion_estandar_muestra / np.sqrt(n_confianza_95))\n",
        "e"
      ],
      "execution_count": 34,
      "outputs": [
        {
          "output_type": "execute_result",
          "data": {
            "text/plain": [
              "158.89721122673703"
            ]
          },
          "metadata": {},
          "execution_count": 34
        }
      ]
    },
    {
      "cell_type": "code",
      "metadata": {
        "colab": {
          "base_uri": "https://localhost:8080/"
        },
        "id": "V7c9rOCH5bmn",
        "outputId": "2bf46528-51d1-47e1-815c-b204f90bc041"
      },
      "source": [
        "#lo convertimos a porcentaje\n",
        "e_porcentual = 100 * e / media_muestra\n",
        "print(f'El nuevo margen de error es {e_porcentual:.2f}%')\n",
        "#usando el amximo de recuarso o presupuesto obtenemos un margen de error de 8.09 %"
      ],
      "execution_count": 26,
      "outputs": [
        {
          "output_type": "stream",
          "name": "stdout",
          "text": [
            "El nuevo margen de error es 8.09%\n"
          ]
        }
      ]
    },
    {
      "cell_type": "markdown",
      "metadata": {
        "id": "OeN8zY675bmo"
      },
      "source": [
        "# <font color='blue'>Solución del punto 6</font>"
      ]
    },
    {
      "cell_type": "code",
      "metadata": {
        "colab": {
          "base_uri": "https://localhost:8080/"
        },
        "id": "36_Vf25S5bmp",
        "outputId": "163a6f1f-8c7e-4027-af89-e4aaf377f7bb"
      },
      "source": [
        "#tenemos caluclar el rpesupuesto q necesitamos si queresmo un un margne de error del 5% y una confizna de 95 %\n",
        "#primero convetimos el error a la msima unidad de la media, mutiplciado el error por la media de la muestra.\n",
        "e = 0.05 * media_muestra\n",
        "print(f'El margen de error es de R$ {e:.2f} aproximadamente')"
      ],
      "execution_count": 35,
      "outputs": [
        {
          "output_type": "stream",
          "name": "stdout",
          "text": [
            "El margen de error es de R$ 98.21 aproximadamente\n"
          ]
        }
      ]
    },
    {
      "cell_type": "code",
      "metadata": {
        "colab": {
          "base_uri": "https://localhost:8080/"
        },
        "id": "UtvVo1P65bmq",
        "outputId": "9d1ee22f-0592-4cb4-bbf9-c5f8ac9ea101"
      },
      "source": [
        "#calcuamos z con la funcion ppf y una confianza del 95%\n",
        "z = norm.ppf(.975)\n",
        "#calcualmos el tamaño de la muestra pra el nuevo error que es de 5%\n",
        "n_confianza_95 = (z * (desviacion_estandar_muestra / e)) ** 2\n",
        "n_confianza_95 = int(n_confianza_95.round())\n",
        "print(f'Para un nivel de confianza del 95% debemos seleccionar una muestra de {n_confianza_95} elementos.')"
      ],
      "execution_count": 28,
      "outputs": [
        {
          "output_type": "stream",
          "name": "stdout",
          "text": [
            "Para un nivel de confianza del 95% debemos seleccionar una muestra de 3927 elementos.\n"
          ]
        }
      ]
    },
    {
      "cell_type": "code",
      "metadata": {
        "colab": {
          "base_uri": "https://localhost:8080/"
        },
        "id": "R9c7vlCr5bmr",
        "outputId": "3f89c827-cddf-4b5e-d3d1-1f5e242d4b15"
      },
      "source": [
        "#calcuamos el el costo total de las netrevistas\n",
        "#multiplicamos la nueva muestra para una confianza del 95% por el costo por entravista(100 rel¿ales)\n",
        "costo_confianza_95 = n_confianza_95 * costo_entrevista\n",
        "print(f'Para un nivel de confianza del 95% el costo de la investigación sería R$ {costo_confianza_95:.2f}')"
      ],
      "execution_count": 29,
      "outputs": [
        {
          "output_type": "stream",
          "name": "stdout",
          "text": [
            "Para un nivel de confianza del 95% el costo de la investigación sería R$ 392700.00\n"
          ]
        }
      ]
    }
  ]
}