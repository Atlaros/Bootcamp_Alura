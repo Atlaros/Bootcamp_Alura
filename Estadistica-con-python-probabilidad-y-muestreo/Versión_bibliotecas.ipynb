{
  "nbformat": 4,
  "nbformat_minor": 0,
  "metadata": {
    "colab": {
      "name": "Versión_bibliotecas.ipynb",
      "provenance": []
    },
    "kernelspec": {
      "name": "python3",
      "display_name": "Python 3"
    }
  },
  "cells": [
    {
      "cell_type": "code",
      "metadata": {
        "id": "kffSOYcgir5Q",
        "colab": {
          "base_uri": "https://localhost:8080/"
        },
        "outputId": "e815a9e3-73ee-455a-e6df-a4b712fe7df9"
      },
      "source": [
        "import pandas, numpy, scipy, matplotlib\n",
        "\n",
        "print('Versión de pandas -> %s' % pandas.__version__)\n",
        "print('Versión de numpy -> %s' % numpy.__version__)\n",
        "print('Versión de scipy -> %s' % scipy.__version__)\n",
        "print('Versión de matplotlib -> %s' % matplotlib.__version__)"
      ],
      "execution_count": 1,
      "outputs": [
        {
          "output_type": "stream",
          "text": [
            "Versión de pandas -> 1.1.5\n",
            "Versión de numpy -> 1.19.5\n",
            "Versión de scipy -> 1.4.1\n",
            "Versión de matplotlib -> 3.2.2\n"
          ],
          "name": "stdout"
        }
      ]
    },
    {
      "cell_type": "code",
      "metadata": {
        "id": "bcAPEvyqjJCx"
      },
      "source": [
        ""
      ],
      "execution_count": null,
      "outputs": []
    }
  ]
}