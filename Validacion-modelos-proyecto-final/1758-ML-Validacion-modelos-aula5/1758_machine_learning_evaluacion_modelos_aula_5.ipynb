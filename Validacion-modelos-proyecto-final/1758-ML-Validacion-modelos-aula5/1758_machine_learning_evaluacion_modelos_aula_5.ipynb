{
  "nbformat": 4,
  "nbformat_minor": 0,
  "metadata": {
    "colab": {
      "provenance": []
    },
    "kernelspec": {
      "name": "python3",
      "display_name": "Python 3"
    }
  },
  "cells": [
    {
      "cell_type": "code",
      "metadata": {
        "id": "OT__Z1j81_KL",
        "colab": {
          "base_uri": "https://localhost:8080/",
          "height": 206
        },
        "outputId": "a83c33b2-032f-4539-81da-e5d27a7fe9c5"
      },
      "source": [
        "import pandas as pd\n",
        "\n",
        "uri = \"https://gist.githubusercontent.com/jessicadesousa/56ac5efd1b9f2a06ef503485e904a203/raw/d829a7204ad55506644f4a7058090c84424217e7/machine-learning-carros-simulacion.csv\"\n",
        "datos = pd.read_csv(uri)\n",
        "datos.head()"
      ],
      "execution_count": 1,
      "outputs": [
        {
          "output_type": "execute_result",
          "data": {
            "text/plain": [
              "      precio  vendido  edad_del_modelo   km_por_ano\n",
              "0   30941.02        1               18  35085.22134\n",
              "1   40557.96        1               20  12622.05362\n",
              "2   89627.50        0               12  11440.79806\n",
              "3   95276.14        0                3  43167.32682\n",
              "4  117384.68        1                4  12770.11290"
            ],
            "text/html": [
              "\n",
              "\n",
              "  <div id=\"df-76836fe9-4b71-4b9d-82c9-cc902c5575f0\">\n",
              "    <div class=\"colab-df-container\">\n",
              "      <div>\n",
              "<style scoped>\n",
              "    .dataframe tbody tr th:only-of-type {\n",
              "        vertical-align: middle;\n",
              "    }\n",
              "\n",
              "    .dataframe tbody tr th {\n",
              "        vertical-align: top;\n",
              "    }\n",
              "\n",
              "    .dataframe thead th {\n",
              "        text-align: right;\n",
              "    }\n",
              "</style>\n",
              "<table border=\"1\" class=\"dataframe\">\n",
              "  <thead>\n",
              "    <tr style=\"text-align: right;\">\n",
              "      <th></th>\n",
              "      <th>precio</th>\n",
              "      <th>vendido</th>\n",
              "      <th>edad_del_modelo</th>\n",
              "      <th>km_por_ano</th>\n",
              "    </tr>\n",
              "  </thead>\n",
              "  <tbody>\n",
              "    <tr>\n",
              "      <th>0</th>\n",
              "      <td>30941.02</td>\n",
              "      <td>1</td>\n",
              "      <td>18</td>\n",
              "      <td>35085.22134</td>\n",
              "    </tr>\n",
              "    <tr>\n",
              "      <th>1</th>\n",
              "      <td>40557.96</td>\n",
              "      <td>1</td>\n",
              "      <td>20</td>\n",
              "      <td>12622.05362</td>\n",
              "    </tr>\n",
              "    <tr>\n",
              "      <th>2</th>\n",
              "      <td>89627.50</td>\n",
              "      <td>0</td>\n",
              "      <td>12</td>\n",
              "      <td>11440.79806</td>\n",
              "    </tr>\n",
              "    <tr>\n",
              "      <th>3</th>\n",
              "      <td>95276.14</td>\n",
              "      <td>0</td>\n",
              "      <td>3</td>\n",
              "      <td>43167.32682</td>\n",
              "    </tr>\n",
              "    <tr>\n",
              "      <th>4</th>\n",
              "      <td>117384.68</td>\n",
              "      <td>1</td>\n",
              "      <td>4</td>\n",
              "      <td>12770.11290</td>\n",
              "    </tr>\n",
              "  </tbody>\n",
              "</table>\n",
              "</div>\n",
              "      <button class=\"colab-df-convert\" onclick=\"convertToInteractive('df-76836fe9-4b71-4b9d-82c9-cc902c5575f0')\"\n",
              "              title=\"Convert this dataframe to an interactive table.\"\n",
              "              style=\"display:none;\">\n",
              "\n",
              "  <svg xmlns=\"http://www.w3.org/2000/svg\" height=\"24px\"viewBox=\"0 0 24 24\"\n",
              "       width=\"24px\">\n",
              "    <path d=\"M0 0h24v24H0V0z\" fill=\"none\"/>\n",
              "    <path d=\"M18.56 5.44l.94 2.06.94-2.06 2.06-.94-2.06-.94-.94-2.06-.94 2.06-2.06.94zm-11 1L8.5 8.5l.94-2.06 2.06-.94-2.06-.94L8.5 2.5l-.94 2.06-2.06.94zm10 10l.94 2.06.94-2.06 2.06-.94-2.06-.94-.94-2.06-.94 2.06-2.06.94z\"/><path d=\"M17.41 7.96l-1.37-1.37c-.4-.4-.92-.59-1.43-.59-.52 0-1.04.2-1.43.59L10.3 9.45l-7.72 7.72c-.78.78-.78 2.05 0 2.83L4 21.41c.39.39.9.59 1.41.59.51 0 1.02-.2 1.41-.59l7.78-7.78 2.81-2.81c.8-.78.8-2.07 0-2.86zM5.41 20L4 18.59l7.72-7.72 1.47 1.35L5.41 20z\"/>\n",
              "  </svg>\n",
              "      </button>\n",
              "\n",
              "\n",
              "\n",
              "    <div id=\"df-11da7415-1915-454c-875e-8ab32914649d\">\n",
              "      <button class=\"colab-df-quickchart\" onclick=\"quickchart('df-11da7415-1915-454c-875e-8ab32914649d')\"\n",
              "              title=\"Suggest charts.\"\n",
              "              style=\"display:none;\">\n",
              "\n",
              "<svg xmlns=\"http://www.w3.org/2000/svg\" height=\"24px\"viewBox=\"0 0 24 24\"\n",
              "     width=\"24px\">\n",
              "    <g>\n",
              "        <path d=\"M19 3H5c-1.1 0-2 .9-2 2v14c0 1.1.9 2 2 2h14c1.1 0 2-.9 2-2V5c0-1.1-.9-2-2-2zM9 17H7v-7h2v7zm4 0h-2V7h2v10zm4 0h-2v-4h2v4z\"/>\n",
              "    </g>\n",
              "</svg>\n",
              "      </button>\n",
              "    </div>\n",
              "\n",
              "<style>\n",
              "  .colab-df-quickchart {\n",
              "    background-color: #E8F0FE;\n",
              "    border: none;\n",
              "    border-radius: 50%;\n",
              "    cursor: pointer;\n",
              "    display: none;\n",
              "    fill: #1967D2;\n",
              "    height: 32px;\n",
              "    padding: 0 0 0 0;\n",
              "    width: 32px;\n",
              "  }\n",
              "\n",
              "  .colab-df-quickchart:hover {\n",
              "    background-color: #E2EBFA;\n",
              "    box-shadow: 0px 1px 2px rgba(60, 64, 67, 0.3), 0px 1px 3px 1px rgba(60, 64, 67, 0.15);\n",
              "    fill: #174EA6;\n",
              "  }\n",
              "\n",
              "  [theme=dark] .colab-df-quickchart {\n",
              "    background-color: #3B4455;\n",
              "    fill: #D2E3FC;\n",
              "  }\n",
              "\n",
              "  [theme=dark] .colab-df-quickchart:hover {\n",
              "    background-color: #434B5C;\n",
              "    box-shadow: 0px 1px 3px 1px rgba(0, 0, 0, 0.15);\n",
              "    filter: drop-shadow(0px 1px 2px rgba(0, 0, 0, 0.3));\n",
              "    fill: #FFFFFF;\n",
              "  }\n",
              "</style>\n",
              "\n",
              "    <script>\n",
              "      async function quickchart(key) {\n",
              "        const containerElement = document.querySelector('#' + key);\n",
              "        const charts = await google.colab.kernel.invokeFunction(\n",
              "            'suggestCharts', [key], {});\n",
              "      }\n",
              "    </script>\n",
              "\n",
              "      <script>\n",
              "\n",
              "function displayQuickchartButton(domScope) {\n",
              "  let quickchartButtonEl =\n",
              "    domScope.querySelector('#df-11da7415-1915-454c-875e-8ab32914649d button.colab-df-quickchart');\n",
              "  quickchartButtonEl.style.display =\n",
              "    google.colab.kernel.accessAllowed ? 'block' : 'none';\n",
              "}\n",
              "\n",
              "        displayQuickchartButton(document);\n",
              "      </script>\n",
              "      <style>\n",
              "    .colab-df-container {\n",
              "      display:flex;\n",
              "      flex-wrap:wrap;\n",
              "      gap: 12px;\n",
              "    }\n",
              "\n",
              "    .colab-df-convert {\n",
              "      background-color: #E8F0FE;\n",
              "      border: none;\n",
              "      border-radius: 50%;\n",
              "      cursor: pointer;\n",
              "      display: none;\n",
              "      fill: #1967D2;\n",
              "      height: 32px;\n",
              "      padding: 0 0 0 0;\n",
              "      width: 32px;\n",
              "    }\n",
              "\n",
              "    .colab-df-convert:hover {\n",
              "      background-color: #E2EBFA;\n",
              "      box-shadow: 0px 1px 2px rgba(60, 64, 67, 0.3), 0px 1px 3px 1px rgba(60, 64, 67, 0.15);\n",
              "      fill: #174EA6;\n",
              "    }\n",
              "\n",
              "    [theme=dark] .colab-df-convert {\n",
              "      background-color: #3B4455;\n",
              "      fill: #D2E3FC;\n",
              "    }\n",
              "\n",
              "    [theme=dark] .colab-df-convert:hover {\n",
              "      background-color: #434B5C;\n",
              "      box-shadow: 0px 1px 3px 1px rgba(0, 0, 0, 0.15);\n",
              "      filter: drop-shadow(0px 1px 2px rgba(0, 0, 0, 0.3));\n",
              "      fill: #FFFFFF;\n",
              "    }\n",
              "  </style>\n",
              "\n",
              "      <script>\n",
              "        const buttonEl =\n",
              "          document.querySelector('#df-76836fe9-4b71-4b9d-82c9-cc902c5575f0 button.colab-df-convert');\n",
              "        buttonEl.style.display =\n",
              "          google.colab.kernel.accessAllowed ? 'block' : 'none';\n",
              "\n",
              "        async function convertToInteractive(key) {\n",
              "          const element = document.querySelector('#df-76836fe9-4b71-4b9d-82c9-cc902c5575f0');\n",
              "          const dataTable =\n",
              "            await google.colab.kernel.invokeFunction('convertToInteractive',\n",
              "                                                     [key], {});\n",
              "          if (!dataTable) return;\n",
              "\n",
              "          const docLinkHtml = 'Like what you see? Visit the ' +\n",
              "            '<a target=\"_blank\" href=https://colab.research.google.com/notebooks/data_table.ipynb>data table notebook</a>'\n",
              "            + ' to learn more about interactive tables.';\n",
              "          element.innerHTML = '';\n",
              "          dataTable['output_type'] = 'display_data';\n",
              "          await google.colab.output.renderOutput(dataTable, element);\n",
              "          const docLink = document.createElement('div');\n",
              "          docLink.innerHTML = docLinkHtml;\n",
              "          element.appendChild(docLink);\n",
              "        }\n",
              "      </script>\n",
              "    </div>\n",
              "  </div>\n"
            ]
          },
          "metadata": {},
          "execution_count": 1
        }
      ]
    },
    {
      "cell_type": "code",
      "metadata": {
        "id": "4K_cO3OY2Wps",
        "colab": {
          "base_uri": "https://localhost:8080/"
        },
        "outputId": "c9dcb338-fca0-4503-fc26-f9498641e677"
      },
      "source": [
        "import numpy as np\n",
        "from sklearn.model_selection import train_test_split\n",
        "from sklearn.metrics import accuracy_score\n",
        "#variebles explicativas\n",
        "x = datos[[\"precio\", \"edad_del_modelo\", \"km_por_ano\"]]\n",
        "#variable repuesta\n",
        "y = datos[\"vendido\"]\n",
        "\n",
        "SEED = 158020\n",
        "np.random.seed(SEED)\n",
        "\n",
        "train_x, test_x, train_y, test_y = train_test_split(x, y,\n",
        "                                                    test_size = 0.25,\n",
        "                                                    stratify = y)\n",
        "\n",
        "print(\"Entrenaremos con %d elementos y evaluaremos con %d elementos\" %(len(train_x), len(test_y)))"
      ],
      "execution_count": 2,
      "outputs": [
        {
          "output_type": "stream",
          "name": "stdout",
          "text": [
            "Entrenaremos con 7500 elementos y evaluaremos con 2500 elementos\n"
          ]
        }
      ]
    },
    {
      "cell_type": "code",
      "metadata": {
        "id": "-5J1gAVv3gsD",
        "colab": {
          "base_uri": "https://localhost:8080/"
        },
        "outputId": "ed300a73-670c-4a7b-fcfa-0f1f3c63f9d3"
      },
      "source": [
        "from sklearn.dummy import DummyClassifier\n",
        "\n",
        "dummy_stratified = DummyClassifier(strategy=\"stratified\")\n",
        "dummy_stratified.fit(train_x, train_y)\n",
        "accuracy = dummy_stratified.score(test_x, test_y) * 100\n",
        "\n",
        "print(\"La exactitud(accuracy) del dummy stratified fue %.2f%%\" % accuracy)"
      ],
      "execution_count": 3,
      "outputs": [
        {
          "output_type": "stream",
          "name": "stdout",
          "text": [
            "La exactitud(accuracy) del dummy stratified fue 50.96%\n"
          ]
        }
      ]
    },
    {
      "cell_type": "code",
      "metadata": {
        "id": "mPdliMf45C-x",
        "colab": {
          "base_uri": "https://localhost:8080/"
        },
        "outputId": "68d3d775-4e97-4b75-bf83-40fc1d2f27ce"
      },
      "source": [
        "#creamos un moldelo de decicion true\n",
        "from sklearn.tree import DecisionTreeClassifier\n",
        "\n",
        "SEED = 158020\n",
        "np.random.seed(SEED)\n",
        "\n",
        "modelo = DecisionTreeClassifier(max_depth=2)\n",
        "modelo.fit(train_x, train_y)\n",
        "\n",
        "predicciones = modelo.predict(test_x)\n",
        "\n",
        "accuracy = accuracy_score(test_y, predicciones) * 100\n",
        "print(\"La exactitud(accuracy) fue %.2f%%\" % accuracy)"
      ],
      "execution_count": 4,
      "outputs": [
        {
          "output_type": "stream",
          "name": "stdout",
          "text": [
            "La exactitud(accuracy) fue 71.92%\n"
          ]
        }
      ]
    },
    {
      "cell_type": "code",
      "metadata": {
        "id": "kNvoQGrq81vi",
        "colab": {
          "base_uri": "https://localhost:8080/"
        },
        "outputId": "ef14a68e-d681-4574-a871-ef6f87db23fa"
      },
      "source": [
        "#importamos cross vlaidate apra validacion cruzada\n",
        "from sklearn.model_selection import cross_validate\n",
        "\n",
        "SEED = 3\n",
        "np.random.seed(SEED)\n",
        "#colocamos elmodelo\n",
        "modelo = DecisionTreeClassifier(max_depth=2)\n",
        "#introducimos los datos en la funcion croos (cv es la veces q se evelua)\n",
        "resultados = cross_validate(modelo, x, y, cv=3)\n",
        "#instacaimos tst score(es el resulado de la prueba) y usamos la funcion de media\n",
        "media = resultados['test_score'].mean()\n",
        "#istancaimos el test score usando la deviancion estandar apra tener un intervalo de confianza\n",
        "desviacion_standard = resultados['test_score'].std()\n",
        "\n",
        "print(\"Nuestro intervalo de confianza para cv = 3 es [%.2f, %.2f]\" %((media - 2*desviacion_standard)*100, (media + 2*desviacion_standard)*100))"
      ],
      "execution_count": 5,
      "outputs": [
        {
          "output_type": "stream",
          "name": "stdout",
          "text": [
            "Nuestro intervalo de confianza para cv = 3 es [74.99, 76.57]\n"
          ]
        }
      ]
    },
    {
      "cell_type": "code",
      "source": [
        "#combaimos el seed para ver si la metrica cambia pero notamos q no esta cambaind junto con el seed\n",
        "#importamos cross vlaidate apra validacion cruzada\n",
        "from sklearn.model_selection import cross_validate\n",
        "\n",
        "SEED = 234\n",
        "np.random.seed(SEED)\n",
        "#colocamos elmodelo\n",
        "modelo = DecisionTreeClassifier(max_depth=2)\n",
        "#introducimos los datos en la funcion croos (cv es la veces q se evelua)\n",
        "resultados = cross_validate(modelo, x, y, cv=3)\n",
        "#instacaimos tst score(es el resulado de la prueba) y usamos la funcion de media\n",
        "media = resultados['test_score'].mean()\n",
        "#istancaimos el test score usando la deviancion estandar apra tener un intervalo de confianza\n",
        "desviacion_standard = resultados['test_score'].std()\n",
        "\n",
        "print(\"Nuestro intervalo de confianza para cv = 3 es [%.2f, %.2f]\" %((media - 2*desviacion_standard)*100, (media + 2*desviacion_standard)*100))"
      ],
      "metadata": {
        "colab": {
          "base_uri": "https://localhost:8080/"
        },
        "id": "19rVl65Ucl1h",
        "outputId": "d34d7f68-ba00-4ee7-dcad-1b5e1b31b664"
      },
      "execution_count": 6,
      "outputs": [
        {
          "output_type": "stream",
          "name": "stdout",
          "text": [
            "Nuestro intervalo de confianza para cv = 3 es [74.99, 76.57]\n"
          ]
        }
      ]
    },
    {
      "cell_type": "code",
      "metadata": {
        "id": "tFoM41ArD-Ct",
        "colab": {
          "base_uri": "https://localhost:8080/"
        },
        "outputId": "414fb2f7-0769-4aa1-d5e6-13ab0910ef15"
      },
      "source": [
        "#inteamos con cv = 5\n",
        "modelo = DecisionTreeClassifier(max_depth=2)\n",
        "\n",
        "resultados = cross_validate(modelo, x, y, cv=5)\n",
        "media = resultados['test_score'].mean()\n",
        "desviacion_standard = resultados['test_score'].std()\n",
        "\n",
        "print(\"Nuestro intervalo de confianza para cv = 5 es [%.2f, %.2f]\" %((media - 2*desviacion_standard)*100, (media + 2*desviacion_standard)*100))"
      ],
      "execution_count": 7,
      "outputs": [
        {
          "output_type": "stream",
          "name": "stdout",
          "text": [
            "Nuestro intervalo de confianza para cv = 5 es [75.21, 76.35]\n"
          ]
        }
      ]
    },
    {
      "cell_type": "code",
      "metadata": {
        "id": "IJ4nsHFVE_1-",
        "colab": {
          "base_uri": "https://localhost:8080/"
        },
        "outputId": "fb536d54-76f0-42fa-87ba-072ef1c91972"
      },
      "source": [
        "#cambaimos apra cv 10\n",
        "SEED = 123\n",
        "np.random.seed(SEED)\n",
        "\n",
        "modelo = DecisionTreeClassifier(max_depth=2)\n",
        "\n",
        "resultados = cross_validate(modelo, x, y, cv=10)\n",
        "media = resultados['test_score'].mean()\n",
        "desviacion_standard = resultados['test_score'].std()\n",
        "\n",
        "print(\"Nuestro intervalo de confianza para cv = 10 es [%.2f, %.2f]\" %((media - 2*desviacion_standard)*100, (media + 2*desviacion_standard)*100))"
      ],
      "execution_count": 8,
      "outputs": [
        {
          "output_type": "stream",
          "name": "stdout",
          "text": [
            "Nuestro intervalo de confianza para cv = 10 es [74.24, 77.32]\n"
          ]
        }
      ]
    },
    {
      "cell_type": "code",
      "source": [
        "#notamos al cabair el cv cambian nuestars metricas\n",
        "#"
      ],
      "metadata": {
        "id": "kpULOoWXc__a"
      },
      "execution_count": null,
      "outputs": []
    },
    {
      "cell_type": "code",
      "metadata": {
        "id": "kPP-KLXMD0U_"
      },
      "source": [
        "#definimos una funcion para impimir\n",
        "def imprime_resultados(resultados):\n",
        "  media = resultados['test_score'].mean()\n",
        "  desviacion_standard = resultados['test_score'].std()\n",
        "\n",
        "  print(\"Nuestra media es %.2f\" %(media*100))\n",
        "  print(\"Nuestro intervalo de confianza es [%.2f, %.2f]\" %((media - 2*desviacion_standard)*100, (media + 2*desviacion_standard)*100))"
      ],
      "execution_count": 9,
      "outputs": []
    },
    {
      "cell_type": "code",
      "metadata": {
        "id": "AWQpBON8FDAb",
        "colab": {
          "base_uri": "https://localhost:8080/"
        },
        "outputId": "9c73cdec-0b4d-43dd-b90e-0ac33bae3aab"
      },
      "source": [
        "#inportamos kfold\n",
        "from sklearn.model_selection import KFold\n",
        "#\n",
        "SEED = 123\n",
        "np.random.seed(SEED)\n",
        "#instaciamos kfold en varaible cv. en paramtros colocamos 10 split\n",
        "cv = KFold(n_splits=10)\n",
        "#colcoamos el modelo\n",
        "modelo = DecisionTreeClassifier(max_depth=2)\n",
        "#instaciamos cv y colcoamos parametros pero ahora con neuvo cv de kfold\n",
        "resultados = cross_validate(modelo, x, y, cv=cv)\n",
        "imprime_resultados(resultados)"
      ],
      "execution_count": 10,
      "outputs": [
        {
          "output_type": "stream",
          "name": "stdout",
          "text": [
            "Nuestra media es 75.78\n",
            "Nuestro intervalo de confianza es [74.37, 77.19]\n"
          ]
        }
      ]
    },
    {
      "cell_type": "code",
      "metadata": {
        "id": "jKcYa8HuEUlg",
        "colab": {
          "base_uri": "https://localhost:8080/"
        },
        "outputId": "a36c18b7-492b-4a4a-d155-ea9a3761f5ed"
      },
      "source": [
        "#copiamos el anterio lineas de codigo soloq ahora amuenamos un neuvo parametro a la varaibel cv\n",
        "SEED = 123\n",
        "np.random.seed(SEED)\n",
        "#el parametro shuffle=True le deimos a kfold q desordene los datos antes de hacer el split\n",
        "cv = KFold(n_splits=10, shuffle=True)\n",
        "\n",
        "modelo = DecisionTreeClassifier(max_depth=2)\n",
        "\n",
        "resultados = cross_validate(modelo, x, y, cv=cv)\n",
        "imprime_resultados(resultados)"
      ],
      "execution_count": 11,
      "outputs": [
        {
          "output_type": "stream",
          "name": "stdout",
          "text": [
            "Nuestra media es 75.79\n",
            "Nuestro intervalo de confianza es [72.01, 79.57]\n"
          ]
        }
      ]
    },
    {
      "cell_type": "markdown",
      "metadata": {
        "id": "a_RbtZaUKCWf"
      },
      "source": [
        "# Simular datos ordenados - mala suerte"
      ]
    },
    {
      "cell_type": "code",
      "metadata": {
        "id": "kMNYL3ufKFMh",
        "colab": {
          "base_uri": "https://localhost:8080/",
          "height": 206
        },
        "outputId": "fc72be4c-dea6-451e-9426-70ecfee018dd"
      },
      "source": [
        "#forzamos la ordenacon d eneustros datos para tener mala suerte\n",
        "datos_ordenados = datos.sort_values(by=\"vendido\", ascending=True)\n",
        "#definimos varibales explicativas\n",
        "x_ordenados = datos_ordenados[[\"precio\", \"edad_del_modelo\", \"km_por_ano\"]]\n",
        "#vriables repuesta\n",
        "y_ordenados = datos_ordenados[\"vendido\"]\n",
        "datos_ordenados.head()"
      ],
      "execution_count": 12,
      "outputs": [
        {
          "output_type": "execute_result",
          "data": {
            "text/plain": [
              "        precio  vendido  edad_del_modelo   km_por_ano\n",
              "4999  74023.29        0               12  24812.80412\n",
              "5322  84843.49        0               13  23095.63834\n",
              "5319  83100.27        0               19  36240.72746\n",
              "5316  87932.13        0               16  32249.56426\n",
              "5315  77937.01        0               15  28414.50704"
            ],
            "text/html": [
              "\n",
              "\n",
              "  <div id=\"df-022ad68c-df16-4e80-99bf-266f5c0b238b\">\n",
              "    <div class=\"colab-df-container\">\n",
              "      <div>\n",
              "<style scoped>\n",
              "    .dataframe tbody tr th:only-of-type {\n",
              "        vertical-align: middle;\n",
              "    }\n",
              "\n",
              "    .dataframe tbody tr th {\n",
              "        vertical-align: top;\n",
              "    }\n",
              "\n",
              "    .dataframe thead th {\n",
              "        text-align: right;\n",
              "    }\n",
              "</style>\n",
              "<table border=\"1\" class=\"dataframe\">\n",
              "  <thead>\n",
              "    <tr style=\"text-align: right;\">\n",
              "      <th></th>\n",
              "      <th>precio</th>\n",
              "      <th>vendido</th>\n",
              "      <th>edad_del_modelo</th>\n",
              "      <th>km_por_ano</th>\n",
              "    </tr>\n",
              "  </thead>\n",
              "  <tbody>\n",
              "    <tr>\n",
              "      <th>4999</th>\n",
              "      <td>74023.29</td>\n",
              "      <td>0</td>\n",
              "      <td>12</td>\n",
              "      <td>24812.80412</td>\n",
              "    </tr>\n",
              "    <tr>\n",
              "      <th>5322</th>\n",
              "      <td>84843.49</td>\n",
              "      <td>0</td>\n",
              "      <td>13</td>\n",
              "      <td>23095.63834</td>\n",
              "    </tr>\n",
              "    <tr>\n",
              "      <th>5319</th>\n",
              "      <td>83100.27</td>\n",
              "      <td>0</td>\n",
              "      <td>19</td>\n",
              "      <td>36240.72746</td>\n",
              "    </tr>\n",
              "    <tr>\n",
              "      <th>5316</th>\n",
              "      <td>87932.13</td>\n",
              "      <td>0</td>\n",
              "      <td>16</td>\n",
              "      <td>32249.56426</td>\n",
              "    </tr>\n",
              "    <tr>\n",
              "      <th>5315</th>\n",
              "      <td>77937.01</td>\n",
              "      <td>0</td>\n",
              "      <td>15</td>\n",
              "      <td>28414.50704</td>\n",
              "    </tr>\n",
              "  </tbody>\n",
              "</table>\n",
              "</div>\n",
              "      <button class=\"colab-df-convert\" onclick=\"convertToInteractive('df-022ad68c-df16-4e80-99bf-266f5c0b238b')\"\n",
              "              title=\"Convert this dataframe to an interactive table.\"\n",
              "              style=\"display:none;\">\n",
              "\n",
              "  <svg xmlns=\"http://www.w3.org/2000/svg\" height=\"24px\"viewBox=\"0 0 24 24\"\n",
              "       width=\"24px\">\n",
              "    <path d=\"M0 0h24v24H0V0z\" fill=\"none\"/>\n",
              "    <path d=\"M18.56 5.44l.94 2.06.94-2.06 2.06-.94-2.06-.94-.94-2.06-.94 2.06-2.06.94zm-11 1L8.5 8.5l.94-2.06 2.06-.94-2.06-.94L8.5 2.5l-.94 2.06-2.06.94zm10 10l.94 2.06.94-2.06 2.06-.94-2.06-.94-.94-2.06-.94 2.06-2.06.94z\"/><path d=\"M17.41 7.96l-1.37-1.37c-.4-.4-.92-.59-1.43-.59-.52 0-1.04.2-1.43.59L10.3 9.45l-7.72 7.72c-.78.78-.78 2.05 0 2.83L4 21.41c.39.39.9.59 1.41.59.51 0 1.02-.2 1.41-.59l7.78-7.78 2.81-2.81c.8-.78.8-2.07 0-2.86zM5.41 20L4 18.59l7.72-7.72 1.47 1.35L5.41 20z\"/>\n",
              "  </svg>\n",
              "      </button>\n",
              "\n",
              "\n",
              "\n",
              "    <div id=\"df-f1ceb2c2-9a5c-47ae-99d2-534b50279022\">\n",
              "      <button class=\"colab-df-quickchart\" onclick=\"quickchart('df-f1ceb2c2-9a5c-47ae-99d2-534b50279022')\"\n",
              "              title=\"Suggest charts.\"\n",
              "              style=\"display:none;\">\n",
              "\n",
              "<svg xmlns=\"http://www.w3.org/2000/svg\" height=\"24px\"viewBox=\"0 0 24 24\"\n",
              "     width=\"24px\">\n",
              "    <g>\n",
              "        <path d=\"M19 3H5c-1.1 0-2 .9-2 2v14c0 1.1.9 2 2 2h14c1.1 0 2-.9 2-2V5c0-1.1-.9-2-2-2zM9 17H7v-7h2v7zm4 0h-2V7h2v10zm4 0h-2v-4h2v4z\"/>\n",
              "    </g>\n",
              "</svg>\n",
              "      </button>\n",
              "    </div>\n",
              "\n",
              "<style>\n",
              "  .colab-df-quickchart {\n",
              "    background-color: #E8F0FE;\n",
              "    border: none;\n",
              "    border-radius: 50%;\n",
              "    cursor: pointer;\n",
              "    display: none;\n",
              "    fill: #1967D2;\n",
              "    height: 32px;\n",
              "    padding: 0 0 0 0;\n",
              "    width: 32px;\n",
              "  }\n",
              "\n",
              "  .colab-df-quickchart:hover {\n",
              "    background-color: #E2EBFA;\n",
              "    box-shadow: 0px 1px 2px rgba(60, 64, 67, 0.3), 0px 1px 3px 1px rgba(60, 64, 67, 0.15);\n",
              "    fill: #174EA6;\n",
              "  }\n",
              "\n",
              "  [theme=dark] .colab-df-quickchart {\n",
              "    background-color: #3B4455;\n",
              "    fill: #D2E3FC;\n",
              "  }\n",
              "\n",
              "  [theme=dark] .colab-df-quickchart:hover {\n",
              "    background-color: #434B5C;\n",
              "    box-shadow: 0px 1px 3px 1px rgba(0, 0, 0, 0.15);\n",
              "    filter: drop-shadow(0px 1px 2px rgba(0, 0, 0, 0.3));\n",
              "    fill: #FFFFFF;\n",
              "  }\n",
              "</style>\n",
              "\n",
              "    <script>\n",
              "      async function quickchart(key) {\n",
              "        const containerElement = document.querySelector('#' + key);\n",
              "        const charts = await google.colab.kernel.invokeFunction(\n",
              "            'suggestCharts', [key], {});\n",
              "      }\n",
              "    </script>\n",
              "\n",
              "      <script>\n",
              "\n",
              "function displayQuickchartButton(domScope) {\n",
              "  let quickchartButtonEl =\n",
              "    domScope.querySelector('#df-f1ceb2c2-9a5c-47ae-99d2-534b50279022 button.colab-df-quickchart');\n",
              "  quickchartButtonEl.style.display =\n",
              "    google.colab.kernel.accessAllowed ? 'block' : 'none';\n",
              "}\n",
              "\n",
              "        displayQuickchartButton(document);\n",
              "      </script>\n",
              "      <style>\n",
              "    .colab-df-container {\n",
              "      display:flex;\n",
              "      flex-wrap:wrap;\n",
              "      gap: 12px;\n",
              "    }\n",
              "\n",
              "    .colab-df-convert {\n",
              "      background-color: #E8F0FE;\n",
              "      border: none;\n",
              "      border-radius: 50%;\n",
              "      cursor: pointer;\n",
              "      display: none;\n",
              "      fill: #1967D2;\n",
              "      height: 32px;\n",
              "      padding: 0 0 0 0;\n",
              "      width: 32px;\n",
              "    }\n",
              "\n",
              "    .colab-df-convert:hover {\n",
              "      background-color: #E2EBFA;\n",
              "      box-shadow: 0px 1px 2px rgba(60, 64, 67, 0.3), 0px 1px 3px 1px rgba(60, 64, 67, 0.15);\n",
              "      fill: #174EA6;\n",
              "    }\n",
              "\n",
              "    [theme=dark] .colab-df-convert {\n",
              "      background-color: #3B4455;\n",
              "      fill: #D2E3FC;\n",
              "    }\n",
              "\n",
              "    [theme=dark] .colab-df-convert:hover {\n",
              "      background-color: #434B5C;\n",
              "      box-shadow: 0px 1px 3px 1px rgba(0, 0, 0, 0.15);\n",
              "      filter: drop-shadow(0px 1px 2px rgba(0, 0, 0, 0.3));\n",
              "      fill: #FFFFFF;\n",
              "    }\n",
              "  </style>\n",
              "\n",
              "      <script>\n",
              "        const buttonEl =\n",
              "          document.querySelector('#df-022ad68c-df16-4e80-99bf-266f5c0b238b button.colab-df-convert');\n",
              "        buttonEl.style.display =\n",
              "          google.colab.kernel.accessAllowed ? 'block' : 'none';\n",
              "\n",
              "        async function convertToInteractive(key) {\n",
              "          const element = document.querySelector('#df-022ad68c-df16-4e80-99bf-266f5c0b238b');\n",
              "          const dataTable =\n",
              "            await google.colab.kernel.invokeFunction('convertToInteractive',\n",
              "                                                     [key], {});\n",
              "          if (!dataTable) return;\n",
              "\n",
              "          const docLinkHtml = 'Like what you see? Visit the ' +\n",
              "            '<a target=\"_blank\" href=https://colab.research.google.com/notebooks/data_table.ipynb>data table notebook</a>'\n",
              "            + ' to learn more about interactive tables.';\n",
              "          element.innerHTML = '';\n",
              "          dataTable['output_type'] = 'display_data';\n",
              "          await google.colab.output.renderOutput(dataTable, element);\n",
              "          const docLink = document.createElement('div');\n",
              "          docLink.innerHTML = docLinkHtml;\n",
              "          element.appendChild(docLink);\n",
              "        }\n",
              "      </script>\n",
              "    </div>\n",
              "  </div>\n"
            ]
          },
          "metadata": {},
          "execution_count": 12
        }
      ]
    },
    {
      "cell_type": "code",
      "metadata": {
        "id": "h07oUhi_KUxu",
        "colab": {
          "base_uri": "https://localhost:8080/"
        },
        "outputId": "b4f25b5f-8b24-4f2f-d489-100b252b49f5"
      },
      "source": [
        "#buscamos nuestros intervalso de confianza sni shuffle\n",
        "cv = KFold(n_splits=10)\n",
        "#colocamos el modelo\n",
        "modelo = DecisionTreeClassifier(max_depth=2)\n",
        "\n",
        "resultados = cross_validate(modelo, x_ordenados, y_ordenados, cv=cv)\n",
        "imprime_resultados(resultados)\n",
        "#nuetar media esta horrible y nuestro intervalo esta gigantesco"
      ],
      "execution_count": 13,
      "outputs": [
        {
          "output_type": "stream",
          "name": "stdout",
          "text": [
            "Nuestra media es 57.84\n",
            "Nuestro intervalo de confianza es [34.29, 81.39]\n"
          ]
        }
      ]
    },
    {
      "cell_type": "code",
      "metadata": {
        "id": "eO48lsgDKocE",
        "colab": {
          "base_uri": "https://localhost:8080/"
        },
        "outputId": "c2be1dd4-fc0d-4506-9075-4e174da63a28"
      },
      "source": [
        "#rodemoas ahora las lienas de codigo anteriores pero con shuffle\n",
        "cv = KFold(n_splits=10, shuffle=True)\n",
        "\n",
        "modelo = DecisionTreeClassifier(max_depth=2)\n",
        "\n",
        "resultados = cross_validate(modelo, x_ordenados, y_ordenados, cv=cv)\n",
        "imprime_resultados(resultados)\n",
        "#shuffle ayuda q nuestar metria queda mejro posible. nos aydua a no depdner de como estan rodenados los datos"
      ],
      "execution_count": 15,
      "outputs": [
        {
          "output_type": "stream",
          "name": "stdout",
          "text": [
            "Nuestra media es 75.78\n",
            "Nuestro intervalo de confianza es [73.06, 78.50]\n"
          ]
        }
      ]
    },
    {
      "cell_type": "code",
      "metadata": {
        "id": "8iPTHk_6K5R7",
        "colab": {
          "base_uri": "https://localhost:8080/"
        },
        "outputId": "75213d8f-9aa1-4911-c28c-c784005a9867"
      },
      "source": [
        "#importasmos una neuva funcion que no va ayduar a precervar el porcentaje d cada clase\n",
        "from sklearn.model_selection import StratifiedKFold\n",
        "#usamos la neuva funcion .sin shuffle\n",
        "cv = StratifiedKFold(n_splits=10)\n",
        "\n",
        "modelo = DecisionTreeClassifier(max_depth=2)\n",
        "\n",
        "resultados = cross_validate(modelo, x_ordenados, y_ordenados, cv=cv)\n",
        "imprime_resultados(resultados)"
      ],
      "execution_count": 16,
      "outputs": [
        {
          "output_type": "stream",
          "name": "stdout",
          "text": [
            "Nuestra media es 75.78\n",
            "Nuestro intervalo de confianza es [73.83, 77.73]\n"
          ]
        }
      ]
    },
    {
      "cell_type": "code",
      "metadata": {
        "id": "e0BM5E3WLYaX",
        "colab": {
          "base_uri": "https://localhost:8080/"
        },
        "outputId": "c22b265e-7e92-49ef-a11c-c0b1022e4cbc"
      },
      "source": [
        "#usamos la neuva funcion .con shuffle\n",
        "cv = StratifiedKFold(n_splits=10, shuffle=True)\n",
        "\n",
        "modelo = DecisionTreeClassifier(max_depth=2)\n",
        "\n",
        "resultados = cross_validate(modelo, x_ordenados, y_ordenados, cv=cv)\n",
        "imprime_resultados(resultados)"
      ],
      "execution_count": 17,
      "outputs": [
        {
          "output_type": "stream",
          "name": "stdout",
          "text": [
            "Nuestra media es 75.78\n",
            "Nuestro intervalo de confianza es [73.04, 78.52]\n"
          ]
        }
      ]
    },
    {
      "cell_type": "code",
      "metadata": {
        "id": "5Lj68Po-Lh92",
        "colab": {
          "base_uri": "https://localhost:8080/"
        },
        "outputId": "fbce8eee-6c67-42a5-813a-7b971188a6db"
      },
      "source": [
        "datos.edad_del_modelo"
      ],
      "execution_count": 18,
      "outputs": [
        {
          "output_type": "execute_result",
          "data": {
            "text/plain": [
              "0       18\n",
              "1       20\n",
              "2       12\n",
              "3        3\n",
              "4        4\n",
              "        ..\n",
              "9995    12\n",
              "9996    16\n",
              "9997     4\n",
              "9998     7\n",
              "9999    19\n",
              "Name: edad_del_modelo, Length: 10000, dtype: int64"
            ]
          },
          "metadata": {},
          "execution_count": 18
        }
      ]
    },
    {
      "cell_type": "markdown",
      "metadata": {
        "id": "WI1zVAKJeJef"
      },
      "source": [
        "## Creando una columna simulada de modelo de carro"
      ]
    },
    {
      "cell_type": "code",
      "metadata": {
        "id": "hxX6vFz6KEAp",
        "colab": {
          "base_uri": "https://localhost:8080/",
          "height": 206
        },
        "outputId": "45a14941-c3a4-419e-acc4-c297f7317f58"
      },
      "source": [
        "#creamos una columna para simular el modelo de losc arros\n",
        "import numpy as np\n",
        "np.random.seed(1234)\n",
        "#definimos los datos d ela columna\n",
        "datos['modelo'] = datos.edad_del_modelo + np.random.randint(-2, 3, size=len(datos))\n",
        "#para evitar valroes 0 en la columna y todos empicen desde el valo r1\n",
        "datos['modelo'] = datos.modelo + abs(min(datos.modelo)) + 1\n",
        "datos.head()"
      ],
      "execution_count": 20,
      "outputs": [
        {
          "output_type": "execute_result",
          "data": {
            "text/plain": [
              "      precio  vendido  edad_del_modelo   km_por_ano  modelo\n",
              "0   30941.02        1               18  35085.22134      21\n",
              "1   40557.96        1               20  12622.05362      24\n",
              "2   89627.50        0               12  11440.79806      16\n",
              "3   95276.14        0                3  43167.32682       3\n",
              "4  117384.68        1                4  12770.11290       5"
            ],
            "text/html": [
              "\n",
              "\n",
              "  <div id=\"df-40aa7149-06e6-4639-8d4d-9b5b924a23fa\">\n",
              "    <div class=\"colab-df-container\">\n",
              "      <div>\n",
              "<style scoped>\n",
              "    .dataframe tbody tr th:only-of-type {\n",
              "        vertical-align: middle;\n",
              "    }\n",
              "\n",
              "    .dataframe tbody tr th {\n",
              "        vertical-align: top;\n",
              "    }\n",
              "\n",
              "    .dataframe thead th {\n",
              "        text-align: right;\n",
              "    }\n",
              "</style>\n",
              "<table border=\"1\" class=\"dataframe\">\n",
              "  <thead>\n",
              "    <tr style=\"text-align: right;\">\n",
              "      <th></th>\n",
              "      <th>precio</th>\n",
              "      <th>vendido</th>\n",
              "      <th>edad_del_modelo</th>\n",
              "      <th>km_por_ano</th>\n",
              "      <th>modelo</th>\n",
              "    </tr>\n",
              "  </thead>\n",
              "  <tbody>\n",
              "    <tr>\n",
              "      <th>0</th>\n",
              "      <td>30941.02</td>\n",
              "      <td>1</td>\n",
              "      <td>18</td>\n",
              "      <td>35085.22134</td>\n",
              "      <td>21</td>\n",
              "    </tr>\n",
              "    <tr>\n",
              "      <th>1</th>\n",
              "      <td>40557.96</td>\n",
              "      <td>1</td>\n",
              "      <td>20</td>\n",
              "      <td>12622.05362</td>\n",
              "      <td>24</td>\n",
              "    </tr>\n",
              "    <tr>\n",
              "      <th>2</th>\n",
              "      <td>89627.50</td>\n",
              "      <td>0</td>\n",
              "      <td>12</td>\n",
              "      <td>11440.79806</td>\n",
              "      <td>16</td>\n",
              "    </tr>\n",
              "    <tr>\n",
              "      <th>3</th>\n",
              "      <td>95276.14</td>\n",
              "      <td>0</td>\n",
              "      <td>3</td>\n",
              "      <td>43167.32682</td>\n",
              "      <td>3</td>\n",
              "    </tr>\n",
              "    <tr>\n",
              "      <th>4</th>\n",
              "      <td>117384.68</td>\n",
              "      <td>1</td>\n",
              "      <td>4</td>\n",
              "      <td>12770.11290</td>\n",
              "      <td>5</td>\n",
              "    </tr>\n",
              "  </tbody>\n",
              "</table>\n",
              "</div>\n",
              "      <button class=\"colab-df-convert\" onclick=\"convertToInteractive('df-40aa7149-06e6-4639-8d4d-9b5b924a23fa')\"\n",
              "              title=\"Convert this dataframe to an interactive table.\"\n",
              "              style=\"display:none;\">\n",
              "\n",
              "  <svg xmlns=\"http://www.w3.org/2000/svg\" height=\"24px\"viewBox=\"0 0 24 24\"\n",
              "       width=\"24px\">\n",
              "    <path d=\"M0 0h24v24H0V0z\" fill=\"none\"/>\n",
              "    <path d=\"M18.56 5.44l.94 2.06.94-2.06 2.06-.94-2.06-.94-.94-2.06-.94 2.06-2.06.94zm-11 1L8.5 8.5l.94-2.06 2.06-.94-2.06-.94L8.5 2.5l-.94 2.06-2.06.94zm10 10l.94 2.06.94-2.06 2.06-.94-2.06-.94-.94-2.06-.94 2.06-2.06.94z\"/><path d=\"M17.41 7.96l-1.37-1.37c-.4-.4-.92-.59-1.43-.59-.52 0-1.04.2-1.43.59L10.3 9.45l-7.72 7.72c-.78.78-.78 2.05 0 2.83L4 21.41c.39.39.9.59 1.41.59.51 0 1.02-.2 1.41-.59l7.78-7.78 2.81-2.81c.8-.78.8-2.07 0-2.86zM5.41 20L4 18.59l7.72-7.72 1.47 1.35L5.41 20z\"/>\n",
              "  </svg>\n",
              "      </button>\n",
              "\n",
              "\n",
              "\n",
              "    <div id=\"df-87f033c7-b360-4c79-b215-fd2a18036780\">\n",
              "      <button class=\"colab-df-quickchart\" onclick=\"quickchart('df-87f033c7-b360-4c79-b215-fd2a18036780')\"\n",
              "              title=\"Suggest charts.\"\n",
              "              style=\"display:none;\">\n",
              "\n",
              "<svg xmlns=\"http://www.w3.org/2000/svg\" height=\"24px\"viewBox=\"0 0 24 24\"\n",
              "     width=\"24px\">\n",
              "    <g>\n",
              "        <path d=\"M19 3H5c-1.1 0-2 .9-2 2v14c0 1.1.9 2 2 2h14c1.1 0 2-.9 2-2V5c0-1.1-.9-2-2-2zM9 17H7v-7h2v7zm4 0h-2V7h2v10zm4 0h-2v-4h2v4z\"/>\n",
              "    </g>\n",
              "</svg>\n",
              "      </button>\n",
              "    </div>\n",
              "\n",
              "<style>\n",
              "  .colab-df-quickchart {\n",
              "    background-color: #E8F0FE;\n",
              "    border: none;\n",
              "    border-radius: 50%;\n",
              "    cursor: pointer;\n",
              "    display: none;\n",
              "    fill: #1967D2;\n",
              "    height: 32px;\n",
              "    padding: 0 0 0 0;\n",
              "    width: 32px;\n",
              "  }\n",
              "\n",
              "  .colab-df-quickchart:hover {\n",
              "    background-color: #E2EBFA;\n",
              "    box-shadow: 0px 1px 2px rgba(60, 64, 67, 0.3), 0px 1px 3px 1px rgba(60, 64, 67, 0.15);\n",
              "    fill: #174EA6;\n",
              "  }\n",
              "\n",
              "  [theme=dark] .colab-df-quickchart {\n",
              "    background-color: #3B4455;\n",
              "    fill: #D2E3FC;\n",
              "  }\n",
              "\n",
              "  [theme=dark] .colab-df-quickchart:hover {\n",
              "    background-color: #434B5C;\n",
              "    box-shadow: 0px 1px 3px 1px rgba(0, 0, 0, 0.15);\n",
              "    filter: drop-shadow(0px 1px 2px rgba(0, 0, 0, 0.3));\n",
              "    fill: #FFFFFF;\n",
              "  }\n",
              "</style>\n",
              "\n",
              "    <script>\n",
              "      async function quickchart(key) {\n",
              "        const containerElement = document.querySelector('#' + key);\n",
              "        const charts = await google.colab.kernel.invokeFunction(\n",
              "            'suggestCharts', [key], {});\n",
              "      }\n",
              "    </script>\n",
              "\n",
              "      <script>\n",
              "\n",
              "function displayQuickchartButton(domScope) {\n",
              "  let quickchartButtonEl =\n",
              "    domScope.querySelector('#df-87f033c7-b360-4c79-b215-fd2a18036780 button.colab-df-quickchart');\n",
              "  quickchartButtonEl.style.display =\n",
              "    google.colab.kernel.accessAllowed ? 'block' : 'none';\n",
              "}\n",
              "\n",
              "        displayQuickchartButton(document);\n",
              "      </script>\n",
              "      <style>\n",
              "    .colab-df-container {\n",
              "      display:flex;\n",
              "      flex-wrap:wrap;\n",
              "      gap: 12px;\n",
              "    }\n",
              "\n",
              "    .colab-df-convert {\n",
              "      background-color: #E8F0FE;\n",
              "      border: none;\n",
              "      border-radius: 50%;\n",
              "      cursor: pointer;\n",
              "      display: none;\n",
              "      fill: #1967D2;\n",
              "      height: 32px;\n",
              "      padding: 0 0 0 0;\n",
              "      width: 32px;\n",
              "    }\n",
              "\n",
              "    .colab-df-convert:hover {\n",
              "      background-color: #E2EBFA;\n",
              "      box-shadow: 0px 1px 2px rgba(60, 64, 67, 0.3), 0px 1px 3px 1px rgba(60, 64, 67, 0.15);\n",
              "      fill: #174EA6;\n",
              "    }\n",
              "\n",
              "    [theme=dark] .colab-df-convert {\n",
              "      background-color: #3B4455;\n",
              "      fill: #D2E3FC;\n",
              "    }\n",
              "\n",
              "    [theme=dark] .colab-df-convert:hover {\n",
              "      background-color: #434B5C;\n",
              "      box-shadow: 0px 1px 3px 1px rgba(0, 0, 0, 0.15);\n",
              "      filter: drop-shadow(0px 1px 2px rgba(0, 0, 0, 0.3));\n",
              "      fill: #FFFFFF;\n",
              "    }\n",
              "  </style>\n",
              "\n",
              "      <script>\n",
              "        const buttonEl =\n",
              "          document.querySelector('#df-40aa7149-06e6-4639-8d4d-9b5b924a23fa button.colab-df-convert');\n",
              "        buttonEl.style.display =\n",
              "          google.colab.kernel.accessAllowed ? 'block' : 'none';\n",
              "\n",
              "        async function convertToInteractive(key) {\n",
              "          const element = document.querySelector('#df-40aa7149-06e6-4639-8d4d-9b5b924a23fa');\n",
              "          const dataTable =\n",
              "            await google.colab.kernel.invokeFunction('convertToInteractive',\n",
              "                                                     [key], {});\n",
              "          if (!dataTable) return;\n",
              "\n",
              "          const docLinkHtml = 'Like what you see? Visit the ' +\n",
              "            '<a target=\"_blank\" href=https://colab.research.google.com/notebooks/data_table.ipynb>data table notebook</a>'\n",
              "            + ' to learn more about interactive tables.';\n",
              "          element.innerHTML = '';\n",
              "          dataTable['output_type'] = 'display_data';\n",
              "          await google.colab.output.renderOutput(dataTable, element);\n",
              "          const docLink = document.createElement('div');\n",
              "          docLink.innerHTML = docLinkHtml;\n",
              "          element.appendChild(docLink);\n",
              "        }\n",
              "      </script>\n",
              "    </div>\n",
              "  </div>\n"
            ]
          },
          "metadata": {},
          "execution_count": 20
        }
      ]
    },
    {
      "cell_type": "code",
      "metadata": {
        "id": "XiHAGBdHLGsa",
        "colab": {
          "base_uri": "https://localhost:8080/"
        },
        "outputId": "684ebaeb-3435-4637-be95-7390142dd9c2"
      },
      "source": [
        "#valores unicos\n",
        "datos.modelo.unique()"
      ],
      "execution_count": 21,
      "outputs": [
        {
          "output_type": "execute_result",
          "data": {
            "text/plain": [
              "array([21, 24, 16,  3,  5, 12, 17, 22, 19,  6, 11, 13, 20,  8, 18,  7, 10,\n",
              "       14, 23, 15,  9,  4,  2,  1])"
            ]
          },
          "metadata": {},
          "execution_count": 21
        }
      ]
    },
    {
      "cell_type": "code",
      "metadata": {
        "colab": {
          "base_uri": "https://localhost:8080/"
        },
        "id": "fyXPdrnkfs6_",
        "outputId": "ad01f077-76f7-47a1-c5c9-d5f48264c66b"
      },
      "source": [
        "#imporamos gruopkfold\n",
        "from sklearn.model_selection import GroupKFold\n",
        "#instaciamos la funcion y definimos su split\n",
        "cv = GroupKFold(n_splits=10)\n",
        "#agremos el modelo\n",
        "modelo = DecisionTreeClassifier(max_depth=2)\n",
        "#intaciaomos la funcion y agregamos aprametros, el modelo, varaibles explicativas y varibles de prueba, el cv  y los grupos de los datos\n",
        "resultados = cross_validate(modelo, x, y, cv=cv, groups=datos.modelo)\n",
        "imprime_resultados(resultados)\n",
        "#el intervalo es algo grande, el perfomance de nuestro modelo para algunos grupo no es bueno"
      ],
      "execution_count": 22,
      "outputs": [
        {
          "output_type": "stream",
          "name": "stdout",
          "text": [
            "Nuestra media es 75.78\n",
            "Nuestro intervalo de confianza es [70.82, 80.74]\n"
          ]
        }
      ]
    },
    {
      "cell_type": "code",
      "metadata": {
        "colab": {
          "base_uri": "https://localhost:8080/"
        },
        "id": "hAfkd32384CM",
        "outputId": "ebe4abf1-5049-4f5b-e647-0bf015c70905"
      },
      "source": [
        "#importamos regresion logistica y groupkfold\n",
        "from sklearn.model_selection import GroupKFold\n",
        "from sklearn.linear_model import LogisticRegression\n",
        "\n",
        "cv = GroupKFold(n_splits=10)\n",
        "#usamos el mdoelo de regresion logistica\n",
        "modelo = LogisticRegression()\n",
        "\n",
        "resultados = cross_validate(modelo, x, y, cv=cv, groups=datos.modelo)\n",
        "imprime_resultados(resultados)\n",
        "#funciona bastante peor\n",
        "#las regresione slineas se ven afectadas por als escala de lso datos"
      ],
      "execution_count": 23,
      "outputs": [
        {
          "output_type": "stream",
          "name": "stdout",
          "text": [
            "Nuestra media es 60.61\n",
            "Nuestro intervalo de confianza es [55.84, 65.38]\n"
          ]
        }
      ]
    },
    {
      "cell_type": "code",
      "metadata": {
        "colab": {
          "base_uri": "https://localhost:8080/"
        },
        "id": "GvAC-vXK-8Dr",
        "outputId": "7702874b-e7e3-40c6-8187-14e9d928e50c"
      },
      "source": [
        "#importamos una funcion de estanrizar escalas\n",
        "from sklearn.preprocessing import StandardScaler\n",
        "#estanraizamos las escalas\n",
        "scaler = StandardScaler()\n",
        "#le pasmos el fit de entrenamiento\n",
        "scaler.fit(train_x)\n",
        "#traformamos nuestros datos de entreamiento y datos de prueba\n",
        "train_x_scaled = scaler.transform(train_x)\n",
        "test_x_scaled = scaler.transform(test_x)\n",
        "\n",
        "train_x_scaled\n",
        "#ahora todas en la msiam escala"
      ],
      "execution_count": 24,
      "outputs": [
        {
          "output_type": "execute_result",
          "data": {
            "text/plain": [
              "array([[ 1.11714069,  0.66962606,  0.69493956],\n",
              "       [-1.87037816,  1.30347487,  0.50415005],\n",
              "       [ 0.07629632, -0.17550569, -1.10620185],\n",
              "       ...,\n",
              "       [-1.33343171,  0.03577724, -0.2021129 ],\n",
              "       [-0.84608888, -1.02063745, -0.51031134],\n",
              "       [ 0.81393836,  1.09219193,  1.0936072 ]])"
            ]
          },
          "metadata": {},
          "execution_count": 24
        }
      ]
    },
    {
      "cell_type": "code",
      "metadata": {
        "colab": {
          "base_uri": "https://localhost:8080/"
        },
        "id": "TRC8Yjkb_Ywo",
        "outputId": "aae6ada0-cbb2-447b-80e4-6b4ec6cbff24"
      },
      "source": [
        "#ahora usamos de neuvo el mdoelo re regresion logistica\n",
        "#pero ahora con la estadarizacion de escala\n",
        "SEED = 158020\n",
        "np.random.seed(SEED)\n",
        "\n",
        "modelo = LogisticRegression()\n",
        "#introducimos los datos traformados al fit del mdoelo\n",
        "modelo.fit(train_x_scaled, train_y)\n",
        "#instacaimos la predicion del modelo para los datos d test\n",
        "predicciones = modelo.predict(test_x_scaled)\n",
        "#intaciaomos la rpeciion de la del modelo y de los datos d prueba\n",
        "accuracy = accuracy_score(test_y, predicciones) * 100\n",
        "print(\"La exactitud(accuracy) fue %.2f%%\" % accuracy)\n",
        "#con los datos escalaod mejores el mdoelo\n"
      ],
      "execution_count": 25,
      "outputs": [
        {
          "output_type": "stream",
          "name": "stdout",
          "text": [
            "La exactitud(accuracy) fue 67.48%\n"
          ]
        }
      ]
    },
    {
      "cell_type": "code",
      "metadata": {
        "colab": {
          "base_uri": "https://localhost:8080/"
        },
        "id": "XoBJvcEc_rUT",
        "outputId": "76337b2f-4041-4819-82bf-9686f8c400a8"
      },
      "source": [
        "#importamos pipeline que es un mdoelode regresin logistca pero con la diferenciaq puede ahcer tdos los apsos antes de usar eun mdoelo de regresion logistica\n",
        "from sklearn.pipeline import Pipeline\n",
        "\n",
        "SEED = 158020\n",
        "np.random.seed(SEED)\n",
        "#isntaaimos la estadarizacion de escala\n",
        "scaler = StandardScaler()\n",
        "#instaaimos el modelo de regresion\n",
        "modelo = LogisticRegression()\n",
        "#intacimos, los aprametros son (una lista, nuestro escala)(el modelo )\n",
        "pipeline = Pipeline([('transforms', scaler), ('model', modelo)])\n",
        "#intaciomaos grupo y los splite d e grupos\n",
        "cv = GroupKFold(n_splits=10)\n",
        "#intaciamos el cv con los aprametros del meodleo varaibles , cv y grupos\n",
        "resultados = cross_validate(pipeline, x, y, cv=cv, groups=datos.modelo)\n",
        "imprime_resultados(resultados)"
      ],
      "execution_count": null,
      "outputs": [
        {
          "output_type": "stream",
          "text": [
            "Nuestra media es 70.39\n",
            "Nuestro intervalo de confianza es [65.39, 75.38]\n"
          ],
          "name": "stdout"
        }
      ]
    },
    {
      "cell_type": "code",
      "metadata": {
        "id": "9MZSmSYUA-4I"
      },
      "source": [],
      "execution_count": null,
      "outputs": []
    }
  ]
}