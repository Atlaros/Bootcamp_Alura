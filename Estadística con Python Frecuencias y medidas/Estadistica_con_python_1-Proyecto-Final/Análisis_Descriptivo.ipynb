{
  "nbformat": 4,
  "nbformat_minor": 0,
  "metadata": {
    "colab": {
      "name": "Análisis_Descriptivo.ipynb",
      "provenance": [],
      "toc_visible": true
    },
    "kernelspec": {
      "display_name": "Python 3",
      "language": "python",
      "name": "python3"
    },
    "language_info": {
      "codemirror_mode": {
        "name": "ipython",
        "version": 3
      },
      "file_extension": ".py",
      "mimetype": "text/x-python",
      "name": "python",
      "nbconvert_exporter": "python",
      "pygments_lexer": "ipython3",
      "version": "3.6.5"
    }
  },
  "cells": [
    {
      "cell_type": "markdown",
      "metadata": {
        "id": "WvMflodMjQKe"
      },
      "source": [
        "***\n",
        "# <font color=green size=10>CURSO DE ESTADÍSTICA - PARTE 1</font>\n",
        "***\n",
        "\n",
        "## Trabajo de Análisis Descriptivo de un Conjunto de Datos\n",
        "\n",
        "Utilizando los conocimentos adquiridos en nuestro entrenamiento realice un análisis descriptivo básico del conjunto de datos central que utilizamos durante el curso. \n",
        "\n",
        "Vamos a construir histogramas, calcular y evaluar medidas de tendencia central, medidas de localización y de dispersión de los datos.\n",
        "\n",
        "Sige el rutero propuesto y ve completando las células de código vacías. Intenta pensar en Más informaciones interesantes que pueden ser exploradas en nuestro dataset."
      ]
    },
    {
      "cell_type": "markdown",
      "metadata": {
        "id": "cVgsZ_E3jQKg"
      },
      "source": [
        "# <font color=green>1.1 Dataset del proyecto</font>\n",
        "***"
      ]
    },
    {
      "cell_type": "markdown",
      "metadata": {
        "id": "iN1gIbaKjQKh"
      },
      "source": [
        "### Muestra de domicilios Colombia - 2018\n",
        "\n",
        "Las investigaciones por muestras de domicilios realizadas anualmente, busca encontrar características generales de la población, de educación, trabajo, rendimiento y otras, de acuerdo con las necesidades de información del país, tales como las características de migración, fertilidad, casamientos, salud, nutrición, entre otros temas. Estas muestras al pasar de los años consistuyen una herramienta importante para la formulación, validación y evaluación de políticas dirigidas al desarrollo socioeconómico y la mejora de las condiciones de vida en Colombia."
      ]
    },
    {
      "cell_type": "markdown",
      "metadata": {
        "id": "U6V7br1RjQKi"
      },
      "source": [
        "### Datos\n",
        "\n",
        "Los datos fueron creados  de manera didáctica para este curso."
      ]
    },
    {
      "cell_type": "markdown",
      "metadata": {
        "id": "r0Fe_qnzjQKj"
      },
      "source": [
        "### Variables utilizadas\n",
        "\n",
        "> ### Ingreso \n",
        "> ***\n",
        "\n",
        "Ingresos mensuales (en miles de pesos) del trabajo principal para personas de 10 años o más.\n",
        "\n",
        "> ### Edad\n",
        "> ***\n",
        "\n",
        "Edad del entrevistado en la fecha de referencia en años.\n",
        "\n",
        "> ### Altura\n",
        "> ***\n",
        "\n",
        "Altura del entrevistado en metros.\n",
        "\n",
        "> ### Ciudad\n",
        "> ***\n",
        "\n",
        "Código de referência a 27 ciudades analizadas. \n",
        "\n",
        "\n",
        "> ### Sexo\t\n",
        "> ***\n",
        "\n",
        "|Código|Descripción|\n",
        "|---|---|\n",
        "|0|Masculino|\n",
        "|1|Femenino|\n",
        "\n",
        "> ### Años de Estudio\n",
        "> ***\n",
        "\n",
        "|Código|Descripción|\n",
        "|---|---|\n",
        "|1|Sin estudios y menos de 1 año|\n",
        "|2|1 año|\n",
        "|3|2 años|\n",
        "|4|3 años|\n",
        "|5|4 años|\n",
        "|6|5 años|\n",
        "|7|6 años|\n",
        "|8|7 años|\n",
        "|9|8 años|\n",
        "|10|9 años|\n",
        "|11|10 años|\n",
        "|12|11 años|\n",
        "|13|12 años|\n",
        "|14|13 años|\n",
        "|15|14 años|\n",
        "|16|15 años o más|\n",
        "|17|No se sabe| \n",
        "||No aplica|\n",
        "\n",
        "> ### Color\n",
        "> ***\n",
        "\n",
        "|Código|Descripción|\n",
        "|---|---|\n",
        "|0|Indio|\n",
        "|2|Blanco|\n",
        "|4|Negro|\n",
        "|6|Amarillo|\n",
        "|8|Moreno|\n",
        "|9|Sin declarar|"
      ]
    },
    {
      "cell_type": "markdown",
      "metadata": {
        "id": "OK1IQH5cX7Gb"
      },
      "source": [
        "#### Tratamiento a los datos\n",
        "***\n",
        "\n",
        "> Algunos de los tratamientos de datos más frecuentes son:\n",
        "> 1. Eliminar las observaciones (líneas) con entradas de datos inválidos;\n",
        "> 2. Eliminar observaciones donde hay datos perdidos (missing data);\n",
        "> 3. Filtros própios de la investigación, por ejemplo: considerar solo las encuestas realizadas a la cabeza de familia (responsable por el domicilio)."
      ]
    },
    {
      "cell_type": "markdown",
      "metadata": {
        "id": "ZIqLOffNTg1Y"
      },
      "source": [
        "***\n",
        "***"
      ]
    },
    {
      "cell_type": "markdown",
      "metadata": {
        "id": "8Rw70V6ojQKk"
      },
      "source": [
        "### Utilice la célula abajo para importar las bibliotecas que necesite para ejecutar las tareas\n",
        "#### <font color='red'>Sugerencias: pandas, numpy, seaborn</font>"
      ]
    },
    {
      "cell_type": "code",
      "metadata": {
        "id": "fcTgimHBybMz"
      },
      "source": [
        ""
      ],
      "execution_count": null,
      "outputs": []
    },
    {
      "cell_type": "markdown",
      "metadata": {
        "id": "2a-gvBvCULwt"
      },
      "source": [
        "### Importe el dataset y almacene el contenido en un DataFrame"
      ]
    },
    {
      "cell_type": "code",
      "metadata": {
        "id": "ufRZ7TLwjQKo"
      },
      "source": [
        ""
      ],
      "execution_count": null,
      "outputs": []
    },
    {
      "cell_type": "markdown",
      "metadata": {
        "id": "Oq3CKHCmTg1j"
      },
      "source": [
        "### Visualice el contenido del DataFrame"
      ]
    },
    {
      "cell_type": "code",
      "metadata": {
        "id": "GsC_WhLFjQKq",
        "scrolled": true
      },
      "source": [
        ""
      ],
      "execution_count": null,
      "outputs": []
    },
    {
      "cell_type": "markdown",
      "metadata": {
        "id": "HDrFJQitTg1n"
      },
      "source": [
        "### Para evaluar el comportamiento de la variable INGRESO vamos a construir una tabla de frecuencias considerando las siguintes clases según el salário mínimo (SM)\n",
        "#### <font color='blue'>Descriva los puntos más relevantes que usted observe en la tabla y en el gráfico.</font>\n",
        "\n",
        "Clases de ingreso:\n",
        "\n",
        "<b>A</b> ► Más de 25 SM\n",
        "\n",
        "<b>B</b> ► De 15 a 25 SM\n",
        "\n",
        "<b>C</b> ► De 5 a 15 SM\n",
        "\n",
        "<b>D</b> ► De 2 a 5 SM\n",
        "\n",
        "<b>E</b> ► Hasta 2 SM\n",
        "\n",
        "Para construir las clases de ingreso considere que el salário mínimo era de <b>$ 788,00</b> miles de pesos colombianos.\n",
        "\n",
        "#### Siga los pasos abajo:"
      ]
    },
    {
      "cell_type": "markdown",
      "metadata": {
        "id": "zJBkeGxiTg1o"
      },
      "source": [
        "### 1º Definir los intevalos de las clases"
      ]
    },
    {
      "cell_type": "code",
      "metadata": {
        "id": "-Ct3QUj6Tg1p"
      },
      "source": [
        ""
      ],
      "execution_count": null,
      "outputs": []
    },
    {
      "cell_type": "markdown",
      "metadata": {
        "id": "dZ7X37CGTg1t"
      },
      "source": [
        "### 2º Definir los labels de las clases"
      ]
    },
    {
      "cell_type": "code",
      "metadata": {
        "id": "4UFOzitTTg1u"
      },
      "source": [
        ""
      ],
      "execution_count": null,
      "outputs": []
    },
    {
      "cell_type": "markdown",
      "metadata": {
        "id": "umFq1o-UTg1w"
      },
      "source": [
        "### 3º Construir la columna de frecuencias"
      ]
    },
    {
      "cell_type": "code",
      "metadata": {
        "id": "uSztBoqOTg1x"
      },
      "source": [
        ""
      ],
      "execution_count": null,
      "outputs": []
    },
    {
      "cell_type": "markdown",
      "metadata": {
        "id": "2k6nGUZKTg11"
      },
      "source": [
        "### 4º Construir la columna de porcentajes"
      ]
    },
    {
      "cell_type": "code",
      "metadata": {
        "id": "rdwUABsnTg12"
      },
      "source": [
        ""
      ],
      "execution_count": null,
      "outputs": []
    },
    {
      "cell_type": "markdown",
      "metadata": {
        "id": "9dvk6-9_Tg16"
      },
      "source": [
        "### 5º Juntar las columnas de frecuencias y porcentajes y ordenar las líneas según los labels de las clases"
      ]
    },
    {
      "cell_type": "code",
      "metadata": {
        "id": "tO_bcMmgTg16"
      },
      "source": [
        ""
      ],
      "execution_count": null,
      "outputs": []
    },
    {
      "cell_type": "markdown",
      "metadata": {
        "id": "DOYtXuSbTg18"
      },
      "source": [
        "### Construya um gráfico de barras para visualizar las informaciones de la tabla de frecuencias de arriba"
      ]
    },
    {
      "cell_type": "code",
      "metadata": {
        "id": "e4mDPKf1Tg18"
      },
      "source": [
        ""
      ],
      "execution_count": null,
      "outputs": []
    },
    {
      "cell_type": "markdown",
      "metadata": {
        "id": "9ppt5JevTg1-"
      },
      "source": [
        "> ### Conclusiones\n",
        "\n",
        "Escriva sus conclusiones aquí..."
      ]
    },
    {
      "cell_type": "markdown",
      "metadata": {
        "id": "yt-gFm93Tg1-"
      },
      "source": [
        "### Cree um histograma para las variables QUANTITATIVAS de nuestro dataset\n",
        "#### <font color='blue'>Descriva los puntos más relevantes que usted observa en los gráficos (assimetrías y sus tipos, posibles causas para determinados comportamientos etc.)</font>"
      ]
    },
    {
      "cell_type": "code",
      "metadata": {
        "id": "DYjq9xasTg1_"
      },
      "source": [
        ""
      ],
      "execution_count": null,
      "outputs": []
    },
    {
      "cell_type": "code",
      "metadata": {
        "id": "uh2CWIG8Tg2A"
      },
      "source": [
        ""
      ],
      "execution_count": null,
      "outputs": []
    },
    {
      "cell_type": "code",
      "metadata": {
        "id": "s55WPk1aTg2C"
      },
      "source": [
        ""
      ],
      "execution_count": null,
      "outputs": []
    },
    {
      "cell_type": "markdown",
      "metadata": {
        "id": "w45i-qJ1Tg2E"
      },
      "source": [
        "> ### Conclusiones\n",
        "\n",
        "Escriva sus conclusioes aquí..."
      ]
    },
    {
      "cell_type": "markdown",
      "metadata": {
        "id": "pnAH1T5fTg2F"
      },
      "source": [
        "### Para la variable INGRESO, construya un histograma solamente con las informaciones de las personas con rendimento hasta $ 20.000,00 (miles de pesos)."
      ]
    },
    {
      "cell_type": "code",
      "metadata": {
        "id": "C7zHF1vPTg2G"
      },
      "source": [
        ""
      ],
      "execution_count": null,
      "outputs": []
    },
    {
      "cell_type": "markdown",
      "metadata": {
        "id": "vvtzLOUKTg2H"
      },
      "source": [
        "### Construya una tabla de frecuencias y una con los porcentajes cruzando las variables SEXO y COLOR\n",
        "#### <font color='blue'>Evalue el resultado de la tabla y escriva sus conclusiones principales</font>\n",
        "#### <font color='red'>Utilize los diccionarios abajo para renombrar las líneas y columnas de las tablas de frecuencias y de los gráficos en nuestro proyecto</font>"
      ]
    },
    {
      "cell_type": "code",
      "metadata": {
        "id": "sChJRo_qTg2I"
      },
      "source": [
        "sexo = {\n",
        "    0: 'Masculino', \n",
        "    1: 'Femenino'\n",
        "}\n",
        "color = {0: 'Indio', \n",
        "         2: 'Blanco', \n",
        "         4: 'Negro', \n",
        "         6: 'Amarillo', \n",
        "         8: 'Pardo', \n",
        "         9: 'Sin declarar'}\n",
        "anos_de_estudio = {\n",
        "    1: 'Sin estudios y menos de 1 año', \n",
        "    2: '1 año', \n",
        "    3: '2 años', \n",
        "    4: '3 años', \n",
        "    5: '4 años', \n",
        "    6: '5 años', \n",
        "    7: '6 años', \n",
        "    8: '7 años', \n",
        "    9: '8 años', \n",
        "    10: '9 años', \n",
        "    11: '10 años', \n",
        "    12: '11 años', \n",
        "    13: '12 años', \n",
        "    14: '13 años', \n",
        "    15: '14 años', \n",
        "    16: '15 años ou más', \n",
        "    17: 'No se sabe'\n",
        "}"
      ],
      "execution_count": null,
      "outputs": []
    },
    {
      "cell_type": "code",
      "metadata": {
        "id": "KbeFXAGSTg2K"
      },
      "source": [
        ""
      ],
      "execution_count": null,
      "outputs": []
    },
    {
      "cell_type": "code",
      "metadata": {
        "id": "csL1jaeSTg2M"
      },
      "source": [
        ""
      ],
      "execution_count": null,
      "outputs": []
    },
    {
      "cell_type": "markdown",
      "metadata": {
        "id": "2jLZmww2Tg2O"
      },
      "source": [
        "> ### Conclusiones\n",
        "\n",
        "Escriva sus conclusiones aquí..."
      ]
    },
    {
      "cell_type": "markdown",
      "metadata": {
        "id": "Aoeayf6zTg2P"
      },
      "source": [
        "## Realize, para la variable INGRESO, un análisis descriptivo con las herramientas que aprendimos en nuestro entrenamiento."
      ]
    },
    {
      "cell_type": "markdown",
      "metadata": {
        "id": "c2CtT71oTg2P"
      },
      "source": [
        "### Obtenga la media aritmética"
      ]
    },
    {
      "cell_type": "code",
      "metadata": {
        "id": "qlJESCU6Tg2P"
      },
      "source": [
        ""
      ],
      "execution_count": null,
      "outputs": []
    },
    {
      "cell_type": "markdown",
      "metadata": {
        "id": "Xd4saPBCTg2R"
      },
      "source": [
        "### Obtenga la mediana"
      ]
    },
    {
      "cell_type": "code",
      "metadata": {
        "id": "vHTqX-UATg2R"
      },
      "source": [
        ""
      ],
      "execution_count": null,
      "outputs": []
    },
    {
      "cell_type": "markdown",
      "metadata": {
        "id": "_e40rDSwTg2U"
      },
      "source": [
        "### Obtenga la moda"
      ]
    },
    {
      "cell_type": "code",
      "metadata": {
        "id": "BFOOdYOvTg2V"
      },
      "source": [
        ""
      ],
      "execution_count": null,
      "outputs": []
    },
    {
      "cell_type": "markdown",
      "metadata": {
        "id": "Rnr1gOCMTg2X"
      },
      "source": [
        "### Obtenga la desviación media absoluta"
      ]
    },
    {
      "cell_type": "code",
      "metadata": {
        "id": "TmE_1QDGTg2Y"
      },
      "source": [
        ""
      ],
      "execution_count": null,
      "outputs": []
    },
    {
      "cell_type": "markdown",
      "metadata": {
        "id": "hCgV_XaQTg2Z"
      },
      "source": [
        "### Obtenga la varianza"
      ]
    },
    {
      "cell_type": "code",
      "metadata": {
        "id": "SwRgACeGTg2a"
      },
      "source": [
        ""
      ],
      "execution_count": null,
      "outputs": []
    },
    {
      "cell_type": "markdown",
      "metadata": {
        "id": "gsO6MKOcTg2c"
      },
      "source": [
        "### Obtenga la desviación estandar"
      ]
    },
    {
      "cell_type": "code",
      "metadata": {
        "id": "gR-LVTRYTg2d"
      },
      "source": [
        ""
      ],
      "execution_count": null,
      "outputs": []
    },
    {
      "cell_type": "markdown",
      "metadata": {
        "id": "vG-rdO5fTg2f"
      },
      "source": [
        "### Obtenga la media, mediana y valor máximo de la variable INGRESO según el SEXO y el COLOR\n",
        "#### <font color='blue'>Destaque los puntos más importantes que usted observa en las tabulaciones</font>\n",
        "#### <font color='red'>El parámetro <i>aggfunc</i> de la función <i>crosstab()</i> puede recibir una lista de funciones. Ejemplo: <i>aggfunc = {'mean', 'median', 'max'}</i></font>"
      ]
    },
    {
      "cell_type": "code",
      "metadata": {
        "id": "VgxygKWXTg2g"
      },
      "source": [
        ""
      ],
      "execution_count": null,
      "outputs": []
    },
    {
      "cell_type": "markdown",
      "metadata": {
        "id": "ibndm9iwTg2i"
      },
      "source": [
        "> ### Conclusiones\n",
        "\n",
        "Escriva sus conclusiones aquí..."
      ]
    },
    {
      "cell_type": "markdown",
      "metadata": {
        "id": "CleJ6c1rTg2i"
      },
      "source": [
        "### Obtenga las medidas de dispersión de la variable INGRESO según el SEXO y el COLOR\n",
        "#### <font color='blue'>Destaque los puntos más importantes que usted observa en las tabulaciones</font>\n",
        "#### <font color='red'>O parámetro <i>aggfunc</i> de la función <i>crosstab()</i> puede reciber una lista de funciones. Ejemplo: <i>aggfunc = {'mad', 'var', 'std'}</i></font>"
      ]
    },
    {
      "cell_type": "code",
      "metadata": {
        "id": "bNv-eWZ3Tg2j"
      },
      "source": [
        ""
      ],
      "execution_count": null,
      "outputs": []
    },
    {
      "cell_type": "markdown",
      "metadata": {
        "id": "57aHvJMSTg2l"
      },
      "source": [
        "> ### Conclusiones\n",
        "\n",
        "Escriva sus conclusiones aquí..."
      ]
    },
    {
      "cell_type": "markdown",
      "metadata": {
        "id": "QSYjkdyOTg2l"
      },
      "source": [
        "### Construya um box plot de la variable INGRESO según SEXO y COLOR\n",
        "#### <font color='blue'>¿Es posible verificar algún comportamiento diferenciado en el rendimiento entre los grupos de personas analizados? Evalue el gráfico y destaque los puntos más importantes.</font>\n",
        "#### <font color='red'>1º - Utilice solamente las informaciones de personas con ingreso abajo de $ 10.000</font>\n",
        "#### <font color='red'>2º - Para incluir una tercera variable en la construcción de un boxplot utilice el parámetro <i>hue</i> e indique la variable que quiere incluir en la subdivisión.</font>\n",
        "#### Más informaciones: https://seaborn.pydata.org/generated/seaborn.boxplot.html"
      ]
    },
    {
      "cell_type": "code",
      "metadata": {
        "id": "8hGa4SMRTg2m"
      },
      "source": [
        ""
      ],
      "execution_count": null,
      "outputs": []
    },
    {
      "cell_type": "markdown",
      "metadata": {
        "id": "ROiIQRFhTg2o"
      },
      "source": [
        "> ### Conclusiones\n",
        "\n",
        "Escriva sus conclusiones aquí..."
      ]
    },
    {
      "cell_type": "markdown",
      "metadata": {
        "id": "0yyJ4ZBUwPUV"
      },
      "source": [
        "### <font color='red' size = 10> DESAFÍO"
      ]
    },
    {
      "cell_type": "markdown",
      "metadata": {
        "id": "zi4BaGooTg2o"
      },
      "source": [
        "### ¿Cuál es el porcentaje de personas de nuestro <i>dataset</i> que ganan un salário mínimo ($ 788,00) o menos?\n",
        "#### <font color='red'>Utilize la función <i>percentileofscore()</i> do <i>scipy</i> para realizar estos análisis.</font>\n",
        "#### Más informaciones: https://docs.scipy.org/doc/scipy/reference/generated/scipy.stats.percentileofscore.html\n"
      ]
    },
    {
      "cell_type": "code",
      "metadata": {
        "id": "9DwXo2yITg2p"
      },
      "source": [
        "from scipy import stats\n",
        "\n"
      ],
      "execution_count": null,
      "outputs": []
    },
    {
      "cell_type": "markdown",
      "metadata": {
        "id": "bl0fOMuKTg2q"
      },
      "source": [
        "### ¿Cuál es el valor máximo ganado por 99% de las personas de nuestro <i>dataset</i>?\n",
        "#### <font color='red'>Utilice el método <i>quantile()</i> de <i>pandas</i> para realizar estos análisis.</font>"
      ]
    },
    {
      "cell_type": "code",
      "metadata": {
        "id": "cIVwy8bKTg2q"
      },
      "source": [
        ""
      ],
      "execution_count": null,
      "outputs": []
    },
    {
      "cell_type": "markdown",
      "metadata": {
        "id": "zeRhvtngTg2r"
      },
      "source": [
        "### Obtenga la media, mediana, valor máximo y desviación estandar de la variable INGRESO según AÑOS DE ESTUDIO y SEXO\n",
        "#### <font color='blue'>Destaque los puntos más importantes que usted observa en las Tabulaciones</font>\n",
        "#### <font color='red'>O parámetro <i>aggfunc</i> de la función <i>crosstab()</i> puede recibir una lista de funciones. Ejemplo: <i>aggfunc = ['mean', 'median', 'max', 'std']</i></font>"
      ]
    },
    {
      "cell_type": "code",
      "metadata": {
        "id": "8nxGdQIpTg2s"
      },
      "source": [
        ""
      ],
      "execution_count": null,
      "outputs": []
    },
    {
      "cell_type": "markdown",
      "metadata": {
        "id": "1Rm1n7a_Tg2u"
      },
      "source": [
        "### Construya un box plot de la variable INGRESO según AÑOS DE ESTUDIO y SEXO\n",
        "#### <font color='blue'>¿Es posible verificar algun comportamiento diferenciado en el rendimiento entre los grupos de personas analizadas? Evalue el gráfico y destaque los puntos más importantes.</font>\n",
        "#### <font color='red'>1º - Utilice solamente las informaciones de personas com ingreso abajo de $ 10.000</font>\n",
        "#### <font color='red'>2º - Utilice la variable EDAD para identificar si la desigualdad se verifica para personas de la mesma edad. Ejemplo: <i>data=datos.query('Ingreso < 10000 and Edad == 40')</i> ou <i>data=datos.query('Ingreso < 10000 and Edad == 50')</i></font>\n",
        "#### <font color='red'>3º - Para incluir una tercera variable en la construcción de un boxplot utilice el parámetro <i>hue</i> e indique la variable que quiere incluir en la subdivisión.</font>\n",
        "#### Más informaciones: https://seaborn.pydata.org/generated/seaborn.boxplot.html"
      ]
    },
    {
      "cell_type": "code",
      "metadata": {
        "id": "rgMU0WyJTg2v"
      },
      "source": [
        ""
      ],
      "execution_count": null,
      "outputs": []
    },
    {
      "cell_type": "markdown",
      "metadata": {
        "id": "LrEECOmNTg2w"
      },
      "source": [
        "> ### Conclusiones\n",
        "\n",
        "Escriva sus conclusiones aquí..."
      ]
    },
    {
      "cell_type": "markdown",
      "metadata": {
        "id": "0fIFSxj8Tg2x"
      },
      "source": [
        "### Obtenga la media, mediana, valor máximo y  desviación estandar de la variable INGRESO según las CIUDADES\n",
        "#### <font color='blue'>Destaque los puntos más importantes que usted observa en las tabulaciones</font>\n",
        "#### <font color='red'>Utilice el método <i>groupby()</i> de <i>pandas</i> conjuntamente com el método <i>agg()</i> para contruir la tabulación. El método <i>agg()</i> puede recibir un diccionario especificando cual columna del DataFrame deve ser utilizada y cual lista de funciones estadísticas queremos obtener, por ejemplo: <i>datos.groupby(['Ciudad']).agg({'Ingreso': ['mean', 'median', 'max', 'std']})</i></font>"
      ]
    },
    {
      "cell_type": "code",
      "metadata": {
        "id": "91IxQFJoTg2x"
      },
      "source": [
        ""
      ],
      "execution_count": null,
      "outputs": []
    },
    {
      "cell_type": "markdown",
      "metadata": {
        "id": "6NfAKimkTg2y"
      },
      "source": [
        "### Construya un box plot de la variable INGRESO según las CIUDADES\n",
        "#### <font color='blue'>¿Es posible verificar algun comportamiento diferenciado en el rendimiento entre los grupos analizados? Evalue el gráfico y destaque los puntos más importantes.</font>\n",
        "#### <font color='red'>1º - Utilice solamente las informaciones de personas con ingreso abajo de $ 10.000</font>"
      ]
    },
    {
      "cell_type": "code",
      "metadata": {
        "id": "XdEGG3blTg2z"
      },
      "source": [
        ""
      ],
      "execution_count": null,
      "outputs": []
    },
    {
      "cell_type": "markdown",
      "metadata": {
        "id": "7ssOt3MRTg22"
      },
      "source": [
        "> ### Conclusiones\n",
        "\n",
        "Escriva sus conclusiones aquí..."
      ]
    }
  ]
}