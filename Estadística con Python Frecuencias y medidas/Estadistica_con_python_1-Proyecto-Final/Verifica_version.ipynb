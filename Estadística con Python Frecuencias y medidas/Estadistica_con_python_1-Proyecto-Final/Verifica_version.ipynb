{
  "nbformat": 4,
  "nbformat_minor": 0,
  "metadata": {
    "colab": {
      "name": "Verifica_version.ipynb",
      "provenance": []
    },
    "kernelspec": {
      "name": "python3",
      "display_name": "Python 3"
    }
  },
  "cells": [
    {
      "cell_type": "code",
      "metadata": {
        "id": "gSHqMRhFzcAb",
        "colab_type": "code",
        "colab": {}
      },
      "source": [
        "import pandas\n",
        "import numpy\n",
        "import seaborn\n",
        "import scipy"
      ],
      "execution_count": null,
      "outputs": []
    },
    {
      "cell_type": "code",
      "metadata": {
        "id": "GQ5bxfxXzvKp",
        "colab_type": "code",
        "colab": {
          "base_uri": "https://localhost:8080/",
          "height": 86
        },
        "outputId": "a7443b16-bc82-4bd3-ea47-1fa842390cf7"
      },
      "source": [
        "print('Versión de pandas -> %s' % pandas.__version__)\n",
        "print('Versión de numpy -> %s' % numpy.__version__)\n",
        "print('Versión de seaborn -> %s' % seaborn.__version__)\n",
        "print('Versión de scipy -> %s' % scipy.__version__)"
      ],
      "execution_count": null,
      "outputs": [
        {
          "output_type": "stream",
          "text": [
            "Versión de pandas -> 1.0.5\n",
            "Versión de numpy -> 1.18.5\n",
            "Versión de seaborn -> 0.10.1\n",
            "Versión de scipy -> 1.4.1\n"
          ],
          "name": "stdout"
        }
      ]
    },
    {
      "cell_type": "code",
      "metadata": {
        "id": "IYakhWIx0Erv",
        "colab_type": "code",
        "colab": {}
      },
      "source": [
        ""
      ],
      "execution_count": null,
      "outputs": []
    }
  ]
}